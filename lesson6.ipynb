{
  "nbformat": 4,
  "nbformat_minor": 0,
  "metadata": {
    "colab": {
      "name": "lesson6.ipynb",
      "version": "0.3.2",
      "views": {},
      "default_view": {},
      "provenance": [],
      "collapsed_sections": []
    },
    "kernelspec": {
      "display_name": "Python [default]",
      "language": "python",
      "name": "python2"
    }
  },
  "cells": [
    {
      "metadata": {
        "id": "HhhrOnuSflMk",
        "colab_type": "code",
        "colab": {
          "autoexec": {
            "startup": false,
            "wait_interval": 0
          },
          "output_extras": [
            {
              "item_id": 3
            }
          ],
          "base_uri": "https://localhost:8080/",
          "height": 101
        },
        "outputId": "699542e4-9138-474a-8626-ab5f04f891f2",
        "executionInfo": {
          "status": "ok",
          "timestamp": 1522758748896,
          "user_tz": -330,
          "elapsed": 3211,
          "user": {
            "displayName": "Rony Roy",
            "photoUrl": "https://lh3.googleusercontent.com/a/default-user=s128",
            "userId": "111772801988052207421"
          }
        }
      },
      "cell_type": "code",
      "source": [
        "#!pip install nose\n",
        "#for the below to work"
      ],
      "execution_count": 370,
      "outputs": [
        {
          "output_type": "stream",
          "text": [
            "Collecting nose\n",
            "  Downloading nose-1.3.7-py2-none-any.whl (154kB)\n",
            "\u001b[K    100% |████████████████████████████████| 163kB 3.5MB/s \n",
            "\u001b[?25hInstalling collected packages: nose\n",
            "Successfully installed nose-1.3.7\n"
          ],
          "name": "stdout"
        }
      ]
    },
    {
      "metadata": {
        "id": "gFcfHN-qiCy6",
        "colab_type": "code",
        "colab": {
          "autoexec": {
            "startup": false,
            "wait_interval": 0
          }
        }
      },
      "cell_type": "code",
      "source": [
        "#from theano.sandbox import cuda\n",
        "#cuda.use('gpu1')\n",
        "# ensure that the colab run time ahs GPu in it"
      ],
      "execution_count": 0,
      "outputs": []
    },
    {
      "metadata": {
        "id": "qLwwEcPchevR",
        "colab_type": "text"
      },
      "cell_type": "markdown",
      "source": [
        "Omitted the above as they were a hinderance than anything else..  \n",
        "Not sure if this lack of this configuration is what is causing theao defined funcitons to fail later on...  \n",
        "https://groups.google.com/forum/#!topic/theano-users/yFk0-YUV44o\n",
        "\n",
        "Cuda is a aprt of theano 0.9.0 and 1.0 is the latest..   \n",
        "installing older version causes programs in theano to break down earlier\n",
        "\n",
        "theano 1.0 doesnt allow the function to be created[not sure if it is a version issue of a global enviromment issue as shown in the link]\n",
        "\n",
        "perhaps the whole thing needs to be set at the colab environment level itself.. ?"
      ]
    },
    {
      "metadata": {
        "id": "i__BKKr3MIfk",
        "colab_type": "code",
        "colab": {
          "autoexec": {
            "startup": false,
            "wait_interval": 0
          },
          "output_extras": [
            {
              "item_id": 5
            }
          ],
          "base_uri": "https://localhost:8080/",
          "height": 168
        },
        "outputId": "ad51ef73-9471-442c-905f-4b65a9114da9",
        "executionInfo": {
          "status": "ok",
          "timestamp": 1522759371508,
          "user_tz": -330,
          "elapsed": 5090,
          "user": {
            "displayName": "Rony Roy",
            "photoUrl": "https://lh3.googleusercontent.com/a/default-user=s128",
            "userId": "111772801988052207421"
          }
        }
      },
      "cell_type": "code",
      "source": [
        "! pip install theano==0.9.0"
      ],
      "execution_count": 374,
      "outputs": [
        {
          "output_type": "stream",
          "text": [
            "Collecting theano==0.9.0\n",
            "Requirement already satisfied: six>=1.9.0 in /usr/local/lib/python2.7/dist-packages (from theano==0.9.0)\n",
            "Requirement already satisfied: numpy>=1.9.1 in /usr/local/lib/python2.7/dist-packages (from theano==0.9.0)\n",
            "Requirement already satisfied: scipy>=0.14 in /usr/local/lib/python2.7/dist-packages (from theano==0.9.0)\n",
            "Installing collected packages: theano\n",
            "  Found existing installation: Theano 1.0.0\n",
            "    Uninstalling Theano-1.0.0:\n",
            "      Successfully uninstalled Theano-1.0.0\n",
            "Successfully installed theano-0.9.0\n"
          ],
          "name": "stdout"
        }
      ]
    },
    {
      "metadata": {
        "id": "64JI8HxyjU2C",
        "colab_type": "code",
        "colab": {
          "autoexec": {
            "startup": false,
            "wait_interval": 0
          },
          "output_extras": [
            {
              "item_id": 1
            }
          ],
          "resources": {
            "http://localhost:8080/nbextensions/google.colab/files.js": {
              "data": "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",
              "ok": true,
              "headers": [
                [
                  "content-type",
                  "application/javascript"
                ]
              ],
              "status": 200,
              "status_text": ""
            }
          },
          "base_uri": "https://localhost:8080/",
          "height": 39
        },
        "outputId": "6f42c961-61f5-44a2-a2ef-bf29f079ef5e",
        "executionInfo": {
          "status": "ok",
          "timestamp": 1522745954582,
          "user_tz": -330,
          "elapsed": 14062,
          "user": {
            "displayName": "Rony Roy",
            "photoUrl": "https://lh3.googleusercontent.com/a/default-user=s128",
            "userId": "111772801988052207421"
          }
        }
      },
      "cell_type": "code",
      "source": [
        "from google.colab import files\n",
        "\n",
        "uploaded = files.upload()\n",
        "\n",
        "for fn in uploaded.keys():\n",
        "  print('User uploaded file \"{name}\" with length {length} bytes'.format(\n",
        "      name=fn, length=len(uploaded[fn])))"
      ],
      "execution_count": 109,
      "outputs": [
        {
          "output_type": "display_data",
          "data": {
            "text/plain": [
              "<IPython.core.display.HTML object>"
            ],
            "text/html": [
              "\n",
              "     <input type=\"file\" id=\"files-96e5bac1-95a4-4b40-b5fc-5c94a34cd445\" name=\"files[]\" multiple disabled />\n",
              "     <output id=\"result-96e5bac1-95a4-4b40-b5fc-5c94a34cd445\">\n",
              "      Upload widget is only available when the cell has been executed in the\n",
              "      current browser session. Please rerun this cell to enable.\n",
              "      </output>\n",
              "      <script src=\"/nbextensions/google.colab/files.js\"></script> "
            ]
          },
          "metadata": {
            "tags": []
          }
        }
      ]
    },
    {
      "metadata": {
        "id": "e1yO0klpjdno",
        "colab_type": "code",
        "colab": {
          "autoexec": {
            "startup": false,
            "wait_interval": 0
          },
          "output_extras": [
            {
              "item_id": 1
            }
          ],
          "base_uri": "https://localhost:8080/",
          "height": 51
        },
        "outputId": "80a3b766-4cc4-411d-bcdb-a3637428a4b3",
        "executionInfo": {
          "status": "ok",
          "timestamp": 1522745957212,
          "user_tz": -330,
          "elapsed": 2582,
          "user": {
            "displayName": "Rony Roy",
            "photoUrl": "https://lh3.googleusercontent.com/a/default-user=s128",
            "userId": "111772801988052207421"
          }
        }
      },
      "cell_type": "code",
      "source": [
        "! pip install bcolz"
      ],
      "execution_count": 110,
      "outputs": [
        {
          "output_type": "stream",
          "text": [
            "Requirement already satisfied: bcolz in /usr/local/lib/python2.7/dist-packages\r\n",
            "Requirement already satisfied: numpy>=1.7 in /usr/local/lib/python2.7/dist-packages (from bcolz)\r\n"
          ],
          "name": "stdout"
        }
      ]
    },
    {
      "metadata": {
        "id": "aJsI441nkocQ",
        "colab_type": "code",
        "colab": {
          "autoexec": {
            "startup": false,
            "wait_interval": 0
          }
        }
      },
      "cell_type": "code",
      "source": [
        "from keras.utils.data_utils import get_file"
      ],
      "execution_count": 0,
      "outputs": []
    },
    {
      "metadata": {
        "id": "1ks7rYn-iCy-",
        "colab_type": "code",
        "colab": {
          "autoexec": {
            "startup": false,
            "wait_interval": 0
          }
        }
      },
      "cell_type": "code",
      "source": [
        "%matplotlib inline\n",
        "#import utils; reload(utils)\n",
        "#from utils import *\n",
        "# do it the hard way install what you need get to know the code better\n",
        "from __future__ import division, print_function"
      ],
      "execution_count": 0,
      "outputs": []
    },
    {
      "metadata": {
        "id": "LC83Qwh6iCzA",
        "colab_type": "text"
      },
      "cell_type": "markdown",
      "source": [
        "## Setup"
      ]
    },
    {
      "metadata": {
        "id": "610iMpfHiCzB",
        "colab_type": "text"
      },
      "cell_type": "markdown",
      "source": [
        "We're going to download the collected works of Nietzsche to use as our data for this class."
      ]
    },
    {
      "metadata": {
        "id": "hvhRt6H3iCzC",
        "colab_type": "code",
        "colab": {
          "autoexec": {
            "startup": false,
            "wait_interval": 0
          },
          "output_extras": [
            {
              "item_id": 1
            }
          ],
          "base_uri": "https://localhost:8080/",
          "height": 34
        },
        "outputId": "548d07c8-fa20-4e73-aa77-162fd2047c9f",
        "executionInfo": {
          "status": "ok",
          "timestamp": 1522745959957,
          "user_tz": -330,
          "elapsed": 700,
          "user": {
            "displayName": "Rony Roy",
            "photoUrl": "https://lh3.googleusercontent.com/a/default-user=s128",
            "userId": "111772801988052207421"
          }
        }
      },
      "cell_type": "code",
      "source": [
        "path = get_file('nietzsche.txt', origin=\"https://s3.amazonaws.com/text-datasets/nietzsche.txt\")\n",
        "text = open(path).read()\n",
        "print('corpus length:', len(text))"
      ],
      "execution_count": 113,
      "outputs": [
        {
          "output_type": "stream",
          "text": [
            "corpus length: 600901\n"
          ],
          "name": "stdout"
        }
      ]
    },
    {
      "metadata": {
        "id": "EZUpwrR0iCzH",
        "colab_type": "code",
        "colab": {
          "autoexec": {
            "startup": false,
            "wait_interval": 0
          },
          "output_extras": [
            {
              "item_id": 1
            }
          ],
          "base_uri": "https://localhost:8080/",
          "height": 34
        },
        "outputId": "4a69edd7-683e-4722-d3cb-84b74bde2966",
        "executionInfo": {
          "status": "ok",
          "timestamp": 1522745960806,
          "user_tz": -330,
          "elapsed": 708,
          "user": {
            "displayName": "Rony Roy",
            "photoUrl": "https://lh3.googleusercontent.com/a/default-user=s128",
            "userId": "111772801988052207421"
          }
        }
      },
      "cell_type": "code",
      "source": [
        "chars = sorted(list(set(text))) # over kill .. use of set :D\n",
        "vocab_size = len(chars)+1 # adding to accomodate teh nsertion of 0 later on\n",
        "print('total chars:', vocab_size)"
      ],
      "execution_count": 114,
      "outputs": [
        {
          "output_type": "stream",
          "text": [
            "total chars: 86\n"
          ],
          "name": "stdout"
        }
      ]
    },
    {
      "metadata": {
        "id": "gh-hA6usiCzL",
        "colab_type": "text"
      },
      "cell_type": "markdown",
      "source": [
        "Sometimes it's useful to have a zero value in the dataset, e.g. for padding"
      ]
    },
    {
      "metadata": {
        "id": "m-SlTsXgiCzM",
        "colab_type": "code",
        "colab": {
          "autoexec": {
            "startup": false,
            "wait_interval": 0
          }
        }
      },
      "cell_type": "code",
      "source": [
        "chars.insert(0, \"\\0\")"
      ],
      "execution_count": 0,
      "outputs": []
    },
    {
      "metadata": {
        "id": "81fFl9iwlV0G",
        "colab_type": "code",
        "colab": {
          "autoexec": {
            "startup": false,
            "wait_interval": 0
          },
          "output_extras": [
            {
              "item_id": 1
            }
          ],
          "base_uri": "https://localhost:8080/",
          "height": 34
        },
        "outputId": "9793d964-df8e-4531-cebe-f5fa6f1a2825",
        "executionInfo": {
          "status": "ok",
          "timestamp": 1522745962495,
          "user_tz": -330,
          "elapsed": 779,
          "user": {
            "displayName": "Rony Roy",
            "photoUrl": "https://lh3.googleusercontent.com/a/default-user=s128",
            "userId": "111772801988052207421"
          }
        }
      },
      "cell_type": "code",
      "source": [
        "len(chars)"
      ],
      "execution_count": 116,
      "outputs": [
        {
          "output_type": "execute_result",
          "data": {
            "text/plain": [
              "86"
            ]
          },
          "metadata": {
            "tags": []
          },
          "execution_count": 116
        }
      ]
    },
    {
      "metadata": {
        "id": "T-7T_s7liCzP",
        "colab_type": "code",
        "colab": {
          "autoexec": {
            "startup": false,
            "wait_interval": 0
          },
          "output_extras": [
            {
              "item_id": 1
            }
          ],
          "base_uri": "https://localhost:8080/",
          "height": 34
        },
        "outputId": "1511af88-cf2e-47bc-d5a4-67a4036d904c",
        "executionInfo": {
          "status": "ok",
          "timestamp": 1522745963442,
          "user_tz": -330,
          "elapsed": 868,
          "user": {
            "displayName": "Rony Roy",
            "photoUrl": "https://lh3.googleusercontent.com/a/default-user=s128",
            "userId": "111772801988052207421"
          }
        }
      },
      "cell_type": "code",
      "source": [
        "''.join(chars[1:-6])"
      ],
      "execution_count": 117,
      "outputs": [
        {
          "output_type": "execute_result",
          "data": {
            "text/plain": [
              "'\\n !\"\\'(),-.0123456789:;=?ABCDEFGHIJKLMNOPQRSTUVWXYZ[]_abcdefghijklmnopqrstuvwxyz'"
            ]
          },
          "metadata": {
            "tags": []
          },
          "execution_count": 117
        }
      ]
    },
    {
      "metadata": {
        "id": "zAbIz3Lvm74b",
        "colab_type": "code",
        "colab": {
          "autoexec": {
            "startup": false,
            "wait_interval": 0
          },
          "output_extras": [
            {
              "item_id": 1
            }
          ],
          "base_uri": "https://localhost:8080/",
          "height": 34
        },
        "outputId": "bb292358-ff76-4d7b-adda-5b9137354538",
        "executionInfo": {
          "status": "ok",
          "timestamp": 1522745964314,
          "user_tz": -330,
          "elapsed": 817,
          "user": {
            "displayName": "Rony Roy",
            "photoUrl": "https://lh3.googleusercontent.com/a/default-user=s128",
            "userId": "111772801988052207421"
          }
        }
      },
      "cell_type": "code",
      "source": [
        "''.join(chars[-6:-1]) # junck chars hence omitted.. not really readable"
      ],
      "execution_count": 118,
      "outputs": [
        {
          "output_type": "execute_result",
          "data": {
            "text/plain": [
              "'\\x86\\xa4\\xa6\\xa9\\xab'"
            ]
          },
          "metadata": {
            "tags": []
          },
          "execution_count": 118
        }
      ]
    },
    {
      "metadata": {
        "id": "XYe-kBr4iCzS",
        "colab_type": "text"
      },
      "cell_type": "markdown",
      "source": [
        "Map from chars to indices and back again  "
      ]
    },
    {
      "metadata": {
        "id": "2I3PAD6CiCzT",
        "colab_type": "code",
        "colab": {
          "autoexec": {
            "startup": false,
            "wait_interval": 0
          }
        }
      },
      "cell_type": "code",
      "source": [
        "char_indices = dict((c, i) for i, c in enumerate(chars))\n",
        "indices_char = dict((i, c) for i, c in enumerate(chars))"
      ],
      "execution_count": 0,
      "outputs": []
    },
    {
      "metadata": {
        "id": "GhBJsgKGiCzV",
        "colab_type": "text"
      },
      "cell_type": "markdown",
      "source": [
        "*idx* will be the data we use from now own - it simply converts all the characters to their index (based on the mapping above)  \n",
        "\n",
        "Observe whats doine... create an array for every character c in text... get the character index from char_indices dic created in the list enumeration above"
      ]
    },
    {
      "metadata": {
        "id": "NXwAp-2NiCzW",
        "colab_type": "code",
        "colab": {
          "autoexec": {
            "startup": false,
            "wait_interval": 0
          }
        }
      },
      "cell_type": "code",
      "source": [
        "idx = [char_indices[c] for c in text]"
      ],
      "execution_count": 0,
      "outputs": []
    },
    {
      "metadata": {
        "id": "4sAn8FlgiCzZ",
        "colab_type": "code",
        "colab": {
          "autoexec": {
            "startup": false,
            "wait_interval": 0
          },
          "output_extras": [
            {
              "item_id": 1
            }
          ],
          "base_uri": "https://localhost:8080/",
          "height": 34
        },
        "outputId": "bbd18056-c71d-40b7-c420-258252456534",
        "executionInfo": {
          "status": "ok",
          "timestamp": 1522745967289,
          "user_tz": -330,
          "elapsed": 1111,
          "user": {
            "displayName": "Rony Roy",
            "photoUrl": "https://lh3.googleusercontent.com/a/default-user=s128",
            "userId": "111772801988052207421"
          }
        }
      },
      "cell_type": "code",
      "source": [
        "idx[:10]"
      ],
      "execution_count": 121,
      "outputs": [
        {
          "output_type": "execute_result",
          "data": {
            "text/plain": [
              "[40, 42, 29, 30, 25, 27, 29, 1, 1, 1]"
            ]
          },
          "metadata": {
            "tags": []
          },
          "execution_count": 121
        }
      ]
    },
    {
      "metadata": {
        "id": "VtimMJBhiCzd",
        "colab_type": "code",
        "colab": {
          "autoexec": {
            "startup": false,
            "wait_interval": 0
          },
          "output_extras": [
            {
              "item_id": 1
            }
          ],
          "base_uri": "https://localhost:8080/",
          "height": 34
        },
        "outputId": "dd007efb-204b-41f0-8d6d-28e8e1a2d2f3",
        "executionInfo": {
          "status": "ok",
          "timestamp": 1522745968613,
          "user_tz": -330,
          "elapsed": 862,
          "user": {
            "displayName": "Rony Roy",
            "photoUrl": "https://lh3.googleusercontent.com/a/default-user=s128",
            "userId": "111772801988052207421"
          }
        }
      },
      "cell_type": "code",
      "source": [
        "''.join(indices_char[i] for i in idx[:70])"
      ],
      "execution_count": 122,
      "outputs": [
        {
          "output_type": "execute_result",
          "data": {
            "text/plain": [
              "'PREFACE\\n\\n\\nSUPPOSING that Truth is a woman--what then? Is there not gro'"
            ]
          },
          "metadata": {
            "tags": []
          },
          "execution_count": 122
        }
      ]
    },
    {
      "metadata": {
        "id": "tpsXayYriCzg",
        "colab_type": "text"
      },
      "cell_type": "markdown",
      "source": [
        "## 3 char model\n",
        "\n",
        "going on character basis.. as opposed to word basis  \n",
        "The goal here.. given three chars find whats the fourth.."
      ]
    },
    {
      "metadata": {
        "id": "BVumdwJtiCzh",
        "colab_type": "text"
      },
      "cell_type": "markdown",
      "source": [
        "### Create inputs"
      ]
    },
    {
      "metadata": {
        "id": "ZVSf4upWiCzi",
        "colab_type": "text"
      },
      "cell_type": "markdown",
      "source": [
        "Create a list of every 4th character, starting at the 0th, 1st, 2nd, then 3rd characters"
      ]
    },
    {
      "metadata": {
        "id": "tDGGmGGSiCzj",
        "colab_type": "code",
        "colab": {
          "autoexec": {
            "startup": false,
            "wait_interval": 0
          }
        }
      },
      "cell_type": "code",
      "source": [
        "cs=3 \n",
        "# yeah.. instead of just a 3 character model.. change this to 5 ofr a 5 char model .. just make sure there are corespondingly 5+1 data arrays as seen below\n",
        "c1_dat = [idx[i] for i in xrange(0, len(idx)-1-cs, cs)]\n",
        "c2_dat = [idx[i+1] for i in xrange(0, len(idx)-1-cs, cs)]\n",
        "c3_dat = [idx[i+2] for i in xrange(0, len(idx)-1-cs, cs)]\n",
        "c4_dat = [idx[i+3] for i in xrange(0, len(idx)-1-cs, cs)]"
      ],
      "execution_count": 0,
      "outputs": []
    },
    {
      "metadata": {
        "id": "noLBGA7EiCzl",
        "colab_type": "text"
      },
      "cell_type": "markdown",
      "source": [
        "Our inputs"
      ]
    },
    {
      "metadata": {
        "id": "3LMuGiOMn1gB",
        "colab_type": "code",
        "colab": {
          "autoexec": {
            "startup": false,
            "wait_interval": 0
          }
        }
      },
      "cell_type": "code",
      "source": [
        "import numpy as np"
      ],
      "execution_count": 0,
      "outputs": []
    },
    {
      "metadata": {
        "id": "T0wZPfbDJ2Qp",
        "colab_type": "text"
      },
      "cell_type": "markdown",
      "source": [
        "These are are inputs..."
      ]
    },
    {
      "metadata": {
        "id": "wtPvZlHJiCzn",
        "colab_type": "code",
        "colab": {
          "autoexec": {
            "startup": false,
            "wait_interval": 0
          }
        }
      },
      "cell_type": "code",
      "source": [
        "x1 = np.stack(c1_dat[:-2])\n",
        "x2 = np.stack(c2_dat[:-2])\n",
        "x3 = np.stack(c3_dat[:-2])\n",
        "# stack:: join a seq of arrays along a new axis.. as opposed to concatenate.. which does the same along the existing axis... refer manual"
      ],
      "execution_count": 0,
      "outputs": []
    },
    {
      "metadata": {
        "id": "2QVB4NIaiCzq",
        "colab_type": "text"
      },
      "cell_type": "markdown",
      "source": [
        "Our output"
      ]
    },
    {
      "metadata": {
        "id": "VqSaQTRWiCzr",
        "colab_type": "code",
        "colab": {
          "autoexec": {
            "startup": false,
            "wait_interval": 0
          }
        }
      },
      "cell_type": "code",
      "source": [
        "y = np.stack(c4_dat[:-2])"
      ],
      "execution_count": 0,
      "outputs": []
    },
    {
      "metadata": {
        "id": "8Y6BUzKjiCzu",
        "colab_type": "text"
      },
      "cell_type": "markdown",
      "source": [
        "The first 4 inputs and outputs"
      ]
    },
    {
      "metadata": {
        "id": "gTO50JbUiCzu",
        "colab_type": "code",
        "colab": {
          "autoexec": {
            "startup": false,
            "wait_interval": 0
          },
          "output_extras": [
            {
              "item_id": 1
            }
          ],
          "base_uri": "https://localhost:8080/",
          "height": 34
        },
        "outputId": "2107f16a-949e-4596-a18d-cfb64d6db52d",
        "executionInfo": {
          "status": "ok",
          "timestamp": 1522745974014,
          "user_tz": -330,
          "elapsed": 781,
          "user": {
            "displayName": "Rony Roy",
            "photoUrl": "https://lh3.googleusercontent.com/a/default-user=s128",
            "userId": "111772801988052207421"
          }
        }
      },
      "cell_type": "code",
      "source": [
        "x1[:4], x2[:4], x3[:4]"
      ],
      "execution_count": 127,
      "outputs": [
        {
          "output_type": "execute_result",
          "data": {
            "text/plain": [
              "(array([40, 30, 29,  1]), array([42, 25,  1, 43]), array([29, 27,  1, 45]))"
            ]
          },
          "metadata": {
            "tags": []
          },
          "execution_count": 127
        }
      ]
    },
    {
      "metadata": {
        "id": "Mc0s_dA_iCzz",
        "colab_type": "code",
        "colab": {
          "autoexec": {
            "startup": false,
            "wait_interval": 0
          },
          "output_extras": [
            {
              "item_id": 1
            }
          ],
          "base_uri": "https://localhost:8080/",
          "height": 34
        },
        "outputId": "0578e985-f7a3-4822-d308-5fa5f52c0f51",
        "executionInfo": {
          "status": "ok",
          "timestamp": 1522745974855,
          "user_tz": -330,
          "elapsed": 772,
          "user": {
            "displayName": "Rony Roy",
            "photoUrl": "https://lh3.googleusercontent.com/a/default-user=s128",
            "userId": "111772801988052207421"
          }
        }
      },
      "cell_type": "code",
      "source": [
        "y[:4]"
      ],
      "execution_count": 128,
      "outputs": [
        {
          "output_type": "execute_result",
          "data": {
            "text/plain": [
              "array([30, 29,  1, 40])"
            ]
          },
          "metadata": {
            "tags": []
          },
          "execution_count": 128
        }
      ]
    },
    {
      "metadata": {
        "id": "kQ2YsGYLiCz7",
        "colab_type": "code",
        "colab": {
          "autoexec": {
            "startup": false,
            "wait_interval": 0
          },
          "output_extras": [
            {
              "item_id": 1
            }
          ],
          "base_uri": "https://localhost:8080/",
          "height": 34
        },
        "outputId": "09f306f3-9930-4b04-a90b-c6b798989b00",
        "executionInfo": {
          "status": "ok",
          "timestamp": 1522745975703,
          "user_tz": -330,
          "elapsed": 758,
          "user": {
            "displayName": "Rony Roy",
            "photoUrl": "https://lh3.googleusercontent.com/a/default-user=s128",
            "userId": "111772801988052207421"
          }
        }
      },
      "cell_type": "code",
      "source": [
        "x1.shape, y.shape"
      ],
      "execution_count": 129,
      "outputs": [
        {
          "output_type": "execute_result",
          "data": {
            "text/plain": [
              "((200297,), (200297,))"
            ]
          },
          "metadata": {
            "tags": []
          },
          "execution_count": 129
        }
      ]
    },
    {
      "metadata": {
        "id": "GeB4mlbQiCz-",
        "colab_type": "text"
      },
      "cell_type": "markdown",
      "source": [
        "The number of latent factors to create (i.e. the size of the embedding matrix)"
      ]
    },
    {
      "metadata": {
        "id": "6G_kFKyKiCz_",
        "colab_type": "code",
        "colab": {
          "autoexec": {
            "startup": false,
            "wait_interval": 0
          }
        }
      },
      "cell_type": "code",
      "source": [
        "n_fac = 42"
      ],
      "execution_count": 0,
      "outputs": []
    },
    {
      "metadata": {
        "id": "sgPrx5_SiC0B",
        "colab_type": "text"
      },
      "cell_type": "markdown",
      "source": [
        "Create inputs and embedding outputs for each of our 3 character inputs"
      ]
    },
    {
      "metadata": {
        "id": "KGFe5wrYok1l",
        "colab_type": "code",
        "colab": {
          "autoexec": {
            "startup": false,
            "wait_interval": 0
          }
        }
      },
      "cell_type": "code",
      "source": [
        "from keras.layers import Input, Embedding, merge\n",
        "from keras.layers.core import Flatten, Dense\n",
        "from keras.models import  Sequential, Model\n",
        "from keras.optimizers import  Adam"
      ],
      "execution_count": 0,
      "outputs": []
    },
    {
      "metadata": {
        "id": "N4RV-iEbiC0D",
        "colab_type": "code",
        "colab": {
          "autoexec": {
            "startup": false,
            "wait_interval": 0
          }
        }
      },
      "cell_type": "code",
      "source": [
        "def embedding_input(name, n_in, n_out):\n",
        "    inp = Input(shape=(1,), dtype='int64', name=name) # input to the embedding layer\n",
        "    emb = Embedding(n_in, n_out, input_length=1)(inp)# this and this alone takes care of the embedding generatation\n",
        "    return inp, Flatten()(emb)"
      ],
      "execution_count": 0,
      "outputs": []
    },
    {
      "metadata": {
        "id": "YcUNiHLFiC0F",
        "colab_type": "code",
        "colab": {
          "autoexec": {
            "startup": false,
            "wait_interval": 0
          }
        }
      },
      "cell_type": "code",
      "source": [
        "c1_in, c1 = embedding_input('c1', vocab_size, n_fac)\n",
        "c2_in, c2 = embedding_input('c2', vocab_size, n_fac)\n",
        "c3_in, c3 = embedding_input('c3', vocab_size, n_fac)"
      ],
      "execution_count": 0,
      "outputs": []
    },
    {
      "metadata": {
        "id": "LSJycrrriC0J",
        "colab_type": "text"
      },
      "cell_type": "markdown",
      "source": [
        "### Create and train model"
      ]
    },
    {
      "metadata": {
        "id": "owOTtQfWiC0K",
        "colab_type": "text"
      },
      "cell_type": "markdown",
      "source": [
        "Pick a size for our hidden state"
      ]
    },
    {
      "metadata": {
        "id": "eRFziB8WiC0L",
        "colab_type": "code",
        "colab": {
          "autoexec": {
            "startup": false,
            "wait_interval": 0
          }
        }
      },
      "cell_type": "code",
      "source": [
        "n_hidden = 256"
      ],
      "execution_count": 0,
      "outputs": []
    },
    {
      "metadata": {
        "id": "gI7RoV_HiC0P",
        "colab_type": "text"
      },
      "cell_type": "markdown",
      "source": [
        "This is the 'green arrow' from the diagram - (refer the ppt in the video)the layer operation from input to hidden."
      ]
    },
    {
      "metadata": {
        "id": "x6r-B07diC0R",
        "colab_type": "code",
        "colab": {
          "autoexec": {
            "startup": false,
            "wait_interval": 0
          }
        }
      },
      "cell_type": "code",
      "source": [
        "dense_in = Dense(n_hidden, activation='relu')"
      ],
      "execution_count": 0,
      "outputs": []
    },
    {
      "metadata": {
        "id": "YwTyHfJ3iC0T",
        "colab_type": "text"
      },
      "cell_type": "markdown",
      "source": [
        "Our first hidden activation is simply this function applied to the result of the embedding of the first character.  \n",
        "first character's array"
      ]
    },
    {
      "metadata": {
        "id": "KMoAElZIiC0V",
        "colab_type": "code",
        "colab": {
          "autoexec": {
            "startup": false,
            "wait_interval": 0
          }
        }
      },
      "cell_type": "code",
      "source": [
        "c1_hidden = dense_in(c1)"
      ],
      "execution_count": 0,
      "outputs": []
    },
    {
      "metadata": {
        "id": "tLcoOE0uiC0Z",
        "colab_type": "text"
      },
      "cell_type": "markdown",
      "source": [
        "This is the 'orange arrow' from our diagram -   \n",
        "the layer operation from hidden to hidden."
      ]
    },
    {
      "metadata": {
        "id": "OzPd7B-biC0b",
        "colab_type": "code",
        "colab": {
          "autoexec": {
            "startup": false,
            "wait_interval": 0
          }
        }
      },
      "cell_type": "code",
      "source": [
        "dense_hidden = Dense(n_hidden, activation='tanh')"
      ],
      "execution_count": 0,
      "outputs": []
    },
    {
      "metadata": {
        "id": "EflFCECiiC0g",
        "colab_type": "text"
      },
      "cell_type": "markdown",
      "source": [
        "Our second and third hidden activations sum (merge by default does a sum) up the previous hidden state   \n",
        "(after applying dense_hidden) to the new input state.\n",
        "\n"
      ]
    },
    {
      "metadata": {
        "id": "km4aCzx9iC0h",
        "colab_type": "code",
        "colab": {
          "autoexec": {
            "startup": false,
            "wait_interval": 0
          },
          "output_extras": [
            {
              "item_id": 1
            }
          ],
          "base_uri": "https://localhost:8080/",
          "height": 71
        },
        "outputId": "44d0be08-363c-4313-be16-53dad1523ddc",
        "executionInfo": {
          "status": "ok",
          "timestamp": 1522745983274,
          "user_tz": -330,
          "elapsed": 789,
          "user": {
            "displayName": "Rony Roy",
            "photoUrl": "https://lh3.googleusercontent.com/a/default-user=s128",
            "userId": "111772801988052207421"
          }
        }
      },
      "cell_type": "code",
      "source": [
        "c2_dense = dense_in(c2) # C2 set/ array of all the 2nd characters ever./. in the input text\n",
        "hidden_2 = dense_hidden(c1_hidden) #c1_hidden is the dense input c1 .. see above\n",
        "c2_hidden = merge([c2_dense, hidden_2]) # keras layers merge\n",
        "\n",
        "# difference b/w Merge and merge https://github.com/keras-team/keras/issues/3921"
      ],
      "execution_count": 138,
      "outputs": [
        {
          "output_type": "stream",
          "text": [
            "/usr/local/lib/python2.7/dist-packages/ipykernel_launcher.py:3: UserWarning: The `merge` function is deprecated and will be removed after 08/2017. Use instead layers from `keras.layers.merge`, e.g. `add`, `concatenate`, etc.\n",
            "  This is separate from the ipykernel package so we can avoid doing imports until\n"
          ],
          "name": "stderr"
        }
      ]
    },
    {
      "metadata": {
        "id": "3dlViH56PdxH",
        "colab_type": "text"
      },
      "cell_type": "markdown",
      "source": [
        "Repeat the above stunt :P agains for the 3rd character's arrays"
      ]
    },
    {
      "metadata": {
        "id": "r8gY-3WbiC0k",
        "colab_type": "code",
        "colab": {
          "autoexec": {
            "startup": false,
            "wait_interval": 0
          },
          "output_extras": [
            {
              "item_id": 1
            }
          ],
          "base_uri": "https://localhost:8080/",
          "height": 71
        },
        "outputId": "afed0d5c-f544-424d-a608-31ed195306aa",
        "executionInfo": {
          "status": "ok",
          "timestamp": 1522745984110,
          "user_tz": -330,
          "elapsed": 789,
          "user": {
            "displayName": "Rony Roy",
            "photoUrl": "https://lh3.googleusercontent.com/a/default-user=s128",
            "userId": "111772801988052207421"
          }
        }
      },
      "cell_type": "code",
      "source": [
        "c3_dense = dense_in(c3)\n",
        "hidden_3 = dense_hidden(c2_hidden)\n",
        "c3_hidden = merge([c3_dense, hidden_3])"
      ],
      "execution_count": 139,
      "outputs": [
        {
          "output_type": "stream",
          "text": [
            "/usr/local/lib/python2.7/dist-packages/ipykernel_launcher.py:3: UserWarning: The `merge` function is deprecated and will be removed after 08/2017. Use instead layers from `keras.layers.merge`, e.g. `add`, `concatenate`, etc.\n",
            "  This is separate from the ipykernel package so we can avoid doing imports until\n"
          ],
          "name": "stderr"
        }
      ]
    },
    {
      "metadata": {
        "id": "cYKvzH2fiC0p",
        "colab_type": "text"
      },
      "cell_type": "markdown",
      "source": [
        "This is the 'blue arrow' from our diagram - the layer operation from hidden to output.  \n",
        "The dense layer's output size is the entire vocab.."
      ]
    },
    {
      "metadata": {
        "id": "x6cXBMcjiC0p",
        "colab_type": "code",
        "colab": {
          "autoexec": {
            "startup": false,
            "wait_interval": 0
          }
        }
      },
      "cell_type": "code",
      "source": [
        "dense_out = Dense(vocab_size, activation='softmax')"
      ],
      "execution_count": 0,
      "outputs": []
    },
    {
      "metadata": {
        "id": "OaH6NCoMiC0t",
        "colab_type": "text"
      },
      "cell_type": "markdown",
      "source": [
        "The third hidden state is the input to our output layer."
      ]
    },
    {
      "metadata": {
        "id": "zSPx4pm3iC0t",
        "colab_type": "code",
        "colab": {
          "autoexec": {
            "startup": false,
            "wait_interval": 0
          }
        }
      },
      "cell_type": "code",
      "source": [
        "c4_out = dense_out(c3_hidden)"
      ],
      "execution_count": 0,
      "outputs": []
    },
    {
      "metadata": {
        "id": "rIGLI5G8iC0x",
        "colab_type": "code",
        "colab": {
          "autoexec": {
            "startup": false,
            "wait_interval": 0
          }
        }
      },
      "cell_type": "code",
      "source": [
        "model = Model([c1_in, c2_in, c3_in], c4_out)\n",
        "# model defined the usual way..  input is an array.. of the input layer.. we get from the embeddings funciton above\n",
        "# all of the above.. was to extract/derive the c4_out mentioned above.."
      ],
      "execution_count": 0,
      "outputs": []
    },
    {
      "metadata": {
        "id": "IwJTT7q0iC02",
        "colab_type": "code",
        "colab": {
          "autoexec": {
            "startup": false,
            "wait_interval": 0
          }
        }
      },
      "cell_type": "code",
      "source": [
        "model.compile(loss='sparse_categorical_crossentropy', optimizer=Adam())"
      ],
      "execution_count": 0,
      "outputs": []
    },
    {
      "metadata": {
        "id": "k_hCv6SaiC05",
        "colab_type": "code",
        "colab": {
          "autoexec": {
            "startup": false,
            "wait_interval": 0
          }
        }
      },
      "cell_type": "code",
      "source": [
        "model.optimizer.lr=0.000001"
      ],
      "execution_count": 0,
      "outputs": []
    },
    {
      "metadata": {
        "id": "FJELeVbPiC0_",
        "colab_type": "code",
        "colab": {
          "autoexec": {
            "startup": false,
            "wait_interval": 0
          },
          "output_extras": [
            {
              "item_id": 1
            },
            {
              "item_id": 45
            },
            {
              "item_id": 76
            },
            {
              "item_id": 93
            },
            {
              "item_id": 94
            }
          ],
          "base_uri": "https://localhost:8080/",
          "height": 202
        },
        "outputId": "7a8caa2a-c47b-49f7-a2a0-bbb0ef951407",
        "executionInfo": {
          "status": "ok",
          "timestamp": 1522746077983,
          "user_tz": -330,
          "elapsed": 89603,
          "user": {
            "displayName": "Rony Roy",
            "photoUrl": "https://lh3.googleusercontent.com/a/default-user=s128",
            "userId": "111772801988052207421"
          }
        }
      },
      "cell_type": "code",
      "source": [
        "model.fit([x1, x2, x3], y, batch_size=64, nb_epoch=4)"
      ],
      "execution_count": 145,
      "outputs": [
        {
          "output_type": "stream",
          "text": [
            "/usr/local/lib/python2.7/dist-packages/ipykernel_launcher.py:1: UserWarning: The `nb_epoch` argument in `fit` has been renamed `epochs`.\n",
            "  \"\"\"Entry point for launching an IPython kernel.\n"
          ],
          "name": "stderr"
        },
        {
          "output_type": "stream",
          "text": [
            "Epoch 1/4\n",
            "200297/200297 [==============================] - 22s 111us/step - loss: 4.4239\n",
            "Epoch 2/4\n",
            "188160/200297 [===========================>..] - ETA: 1s - loss: 4.3222"
          ],
          "name": "stdout"
        },
        {
          "output_type": "stream",
          "text": [
            "200297/200297 [==============================] - 22s 110us/step - loss: 4.3168\n",
            "Epoch 3/4\n",
            "200297/200297 [==============================] - 22s 112us/step - loss: 4.0777\n",
            "Epoch 4/4\n",
            " 56448/200297 [=======>......................] - ETA: 16s - loss: 3.8434"
          ],
          "name": "stdout"
        },
        {
          "output_type": "stream",
          "text": [
            "200297/200297 [==============================] - 22s 109us/step - loss: 3.6904\n"
          ],
          "name": "stdout"
        },
        {
          "output_type": "execute_result",
          "data": {
            "text/plain": [
              "<keras.callbacks.History at 0x7f0c3f3cea90>"
            ]
          },
          "metadata": {
            "tags": []
          },
          "execution_count": 145
        }
      ]
    },
    {
      "metadata": {
        "id": "1_fAyQ6giC1F",
        "colab_type": "code",
        "colab": {
          "autoexec": {
            "startup": false,
            "wait_interval": 0
          }
        }
      },
      "cell_type": "code",
      "source": [
        "model.optimizer.lr=0.01"
      ],
      "execution_count": 0,
      "outputs": []
    },
    {
      "metadata": {
        "id": "b3knyS-_iC1H",
        "colab_type": "code",
        "colab": {
          "autoexec": {
            "startup": false,
            "wait_interval": 0
          },
          "output_extras": [
            {
              "item_id": 1
            },
            {
              "item_id": 2
            },
            {
              "item_id": 48
            },
            {
              "item_id": 93
            },
            {
              "item_id": 94
            }
          ],
          "base_uri": "https://localhost:8080/",
          "height": 222
        },
        "outputId": "9fdaaae5-bce9-4d10-ef0d-22304525dafc",
        "executionInfo": {
          "status": "ok",
          "timestamp": 1522746168686,
          "user_tz": -330,
          "elapsed": 89580,
          "user": {
            "displayName": "Rony Roy",
            "photoUrl": "https://lh3.googleusercontent.com/a/default-user=s128",
            "userId": "111772801988052207421"
          }
        }
      },
      "cell_type": "code",
      "source": [
        "model.fit([x1, x2, x3], y, batch_size=64, nb_epoch=4)"
      ],
      "execution_count": 147,
      "outputs": [
        {
          "output_type": "stream",
          "text": [
            "Epoch 1/4\n",
            "  1536/200297 [..............................] - ETA: 22s - loss: 3.4520"
          ],
          "name": "stdout"
        },
        {
          "output_type": "stream",
          "text": [
            "/usr/local/lib/python2.7/dist-packages/ipykernel_launcher.py:1: UserWarning: The `nb_epoch` argument in `fit` has been renamed `epochs`.\n",
            "  \"\"\"Entry point for launching an IPython kernel.\n"
          ],
          "name": "stderr"
        },
        {
          "output_type": "stream",
          "text": [
            "200297/200297 [==============================] - 22s 112us/step - loss: 3.3533\n",
            "Epoch 2/4\n",
            "200297/200297 [==============================] - 22s 108us/step - loss: 3.2046\n",
            "Epoch 3/4\n",
            "  8192/200297 [>.............................] - ETA: 21s - loss: 3.1646"
          ],
          "name": "stdout"
        },
        {
          "output_type": "stream",
          "text": [
            "200297/200297 [==============================] - 22s 110us/step - loss: 3.1449\n",
            "Epoch 4/4\n",
            "200297/200297 [==============================] - 23s 113us/step - loss: 3.1189\n"
          ],
          "name": "stdout"
        },
        {
          "output_type": "execute_result",
          "data": {
            "text/plain": [
              "<keras.callbacks.History at 0x7f0c3f43eb50>"
            ]
          },
          "metadata": {
            "tags": []
          },
          "execution_count": 147
        }
      ]
    },
    {
      "metadata": {
        "id": "gS610DqciC1L",
        "colab_type": "code",
        "colab": {
          "autoexec": {
            "startup": false,
            "wait_interval": 0
          }
        }
      },
      "cell_type": "code",
      "source": [
        "# model.optimizer.lr.set_value(0.000001)\n",
        "model.optimizer.lr = 0.000001"
      ],
      "execution_count": 0,
      "outputs": []
    },
    {
      "metadata": {
        "id": "9rBfzcfFiC1P",
        "colab_type": "code",
        "colab": {
          "autoexec": {
            "startup": false,
            "wait_interval": 0
          },
          "output_extras": [
            {
              "item_id": 1
            },
            {
              "item_id": 2
            },
            {
              "item_id": 48
            },
            {
              "item_id": 92
            },
            {
              "item_id": 93
            }
          ],
          "base_uri": "https://localhost:8080/",
          "height": 222
        },
        "outputId": "7fe1d00b-313c-4172-d5ca-7becb111e186",
        "executionInfo": {
          "status": "ok",
          "timestamp": 1522746258927,
          "user_tz": -330,
          "elapsed": 89318,
          "user": {
            "displayName": "Rony Roy",
            "photoUrl": "https://lh3.googleusercontent.com/a/default-user=s128",
            "userId": "111772801988052207421"
          }
        }
      },
      "cell_type": "code",
      "source": [
        "model.fit([x1, x2, x3], y, batch_size=64, nb_epoch=4)"
      ],
      "execution_count": 149,
      "outputs": [
        {
          "output_type": "stream",
          "text": [
            "Epoch 1/4\n",
            "  1472/200297 [..............................] - ETA: 23s - loss: 3.1216"
          ],
          "name": "stdout"
        },
        {
          "output_type": "stream",
          "text": [
            "/usr/local/lib/python2.7/dist-packages/ipykernel_launcher.py:1: UserWarning: The `nb_epoch` argument in `fit` has been renamed `epochs`.\n",
            "  \"\"\"Entry point for launching an IPython kernel.\n"
          ],
          "name": "stderr"
        },
        {
          "output_type": "stream",
          "text": [
            "200297/200297 [==============================] - 22s 110us/step - loss: 3.1035\n",
            "Epoch 2/4\n",
            "200297/200297 [==============================] - 23s 113us/step - loss: 3.0920\n",
            "Epoch 3/4\n",
            "  3392/200297 [..............................] - ETA: 23s - loss: 3.0719"
          ],
          "name": "stdout"
        },
        {
          "output_type": "stream",
          "text": [
            "200297/200297 [==============================] - 22s 111us/step - loss: 3.0825\n",
            "Epoch 4/4\n",
            "200297/200297 [==============================] - 22s 110us/step - loss: 3.0740\n"
          ],
          "name": "stdout"
        },
        {
          "output_type": "execute_result",
          "data": {
            "text/plain": [
              "<keras.callbacks.History at 0x7f0c417ed190>"
            ]
          },
          "metadata": {
            "tags": []
          },
          "execution_count": 149
        }
      ]
    },
    {
      "metadata": {
        "id": "m3mZrXWhiC1V",
        "colab_type": "code",
        "colab": {
          "autoexec": {
            "startup": false,
            "wait_interval": 0
          }
        }
      },
      "cell_type": "code",
      "source": [
        "# model.optimizer.lr.set_value(0.01)\n",
        "# Not sure why this doesnt work...^  \n",
        "# But its a known issue and there is a variaiton in the set mentods vs assignment's resutls as seenin link below\n",
        "# http://forums.fast.ai/t/different-training-accuracy-using-model-optimizer-lr-set-value-vs/240/6\n",
        "\n",
        "model.optimizer.lr = 0.01"
      ],
      "execution_count": 0,
      "outputs": []
    },
    {
      "metadata": {
        "id": "o00qmI9liC1X",
        "colab_type": "code",
        "colab": {
          "autoexec": {
            "startup": false,
            "wait_interval": 0
          },
          "output_extras": [
            {
              "item_id": 1
            },
            {
              "item_id": 2
            },
            {
              "item_id": 51
            },
            {
              "item_id": 107
            },
            {
              "item_id": 108
            }
          ],
          "base_uri": "https://localhost:8080/",
          "height": 222
        },
        "outputId": "2a1e9c07-948e-4e7f-f2e9-b885115be674",
        "executionInfo": {
          "status": "ok",
          "timestamp": 1522746348990,
          "user_tz": -330,
          "elapsed": 89098,
          "user": {
            "displayName": "Rony Roy",
            "photoUrl": "https://lh3.googleusercontent.com/a/default-user=s128",
            "userId": "111772801988052207421"
          }
        }
      },
      "cell_type": "code",
      "source": [
        "model.fit([x1, x2, x3], y, batch_size=64, nb_epoch=4)"
      ],
      "execution_count": 151,
      "outputs": [
        {
          "output_type": "stream",
          "text": [
            "Epoch 1/4\n",
            "  1472/200297 [..............................] - ETA: 23s - loss: 3.0781"
          ],
          "name": "stdout"
        },
        {
          "output_type": "stream",
          "text": [
            "/usr/local/lib/python2.7/dist-packages/ipykernel_launcher.py:1: UserWarning: The `nb_epoch` argument in `fit` has been renamed `epochs`.\n",
            "  \"\"\"Entry point for launching an IPython kernel.\n"
          ],
          "name": "stderr"
        },
        {
          "output_type": "stream",
          "text": [
            "200297/200297 [==============================] - 22s 110us/step - loss: 3.0660\n",
            "Epoch 2/4\n",
            "200297/200297 [==============================] - 22s 109us/step - loss: 3.0583\n",
            "Epoch 3/4\n",
            "  8832/200297 [>.............................] - ETA: 20s - loss: 3.0494"
          ],
          "name": "stdout"
        },
        {
          "output_type": "stream",
          "text": [
            "200297/200297 [==============================] - 22s 111us/step - loss: 3.0507\n",
            "Epoch 4/4\n",
            "200297/200297 [==============================] - 22s 112us/step - loss: 3.0430\n"
          ],
          "name": "stdout"
        },
        {
          "output_type": "execute_result",
          "data": {
            "text/plain": [
              "<keras.callbacks.History at 0x7f0c3f3e79d0>"
            ]
          },
          "metadata": {
            "tags": []
          },
          "execution_count": 151
        }
      ]
    },
    {
      "metadata": {
        "id": "VGwyxtAYWGy0",
        "colab_type": "code",
        "colab": {
          "autoexec": {
            "startup": false,
            "wait_interval": 0
          },
          "output_extras": [
            {
              "item_id": 44
            },
            {
              "item_id": 75
            },
            {
              "item_id": 116
            },
            {
              "item_id": 160
            },
            {
              "item_id": 205
            },
            {
              "item_id": 227
            },
            {
              "item_id": 228
            }
          ],
          "base_uri": "https://localhost:8080/",
          "height": 370
        },
        "outputId": "46ca7a3d-f6ff-4e4d-987e-404395cee55e",
        "executionInfo": {
          "status": "ok",
          "timestamp": 1522746570300,
          "user_tz": -330,
          "elapsed": 221208,
          "user": {
            "displayName": "Rony Roy",
            "photoUrl": "https://lh3.googleusercontent.com/a/default-user=s128",
            "userId": "111772801988052207421"
          }
        }
      },
      "cell_type": "code",
      "source": [
        "model.optimizer.lr = 0.001\n",
        "model.fit([x1, x2, x3], y, batch_size=64, epochs=10)\n",
        "# difficult to get the moss below the figure of 3 try what is used in the video... no empochs 10\n",
        "# if ti works comment out the above.. cells"
      ],
      "execution_count": 152,
      "outputs": [
        {
          "output_type": "stream",
          "text": [
            "Epoch 1/10\n",
            "200297/200297 [==============================] - 22s 110us/step - loss: 3.0351\n",
            "Epoch 2/10\n",
            "183104/200297 [==========================>...] - ETA: 1s - loss: 3.0283"
          ],
          "name": "stdout"
        },
        {
          "output_type": "stream",
          "text": [
            "200297/200297 [==============================] - 22s 111us/step - loss: 3.0270\n",
            "Epoch 3/10\n",
            "200297/200297 [==============================] - 22s 110us/step - loss: 3.0186\n",
            "Epoch 4/10\n",
            " 56768/200297 [=======>......................] - ETA: 16s - loss: 3.0198"
          ],
          "name": "stdout"
        },
        {
          "output_type": "stream",
          "text": [
            "200297/200297 [==============================] - 22s 111us/step - loss: 3.0099\n",
            "Epoch 5/10\n",
            "200297/200297 [==============================] - 22s 110us/step - loss: 3.0010\n",
            "Epoch 6/10\n",
            " 20864/200297 [==>...........................] - ETA: 19s - loss: 2.9997"
          ],
          "name": "stdout"
        },
        {
          "output_type": "stream",
          "text": [
            "200297/200297 [==============================] - 22s 109us/step - loss: 2.9918\n",
            "Epoch 7/10\n",
            "200297/200297 [==============================] - 22s 111us/step - loss: 2.9824\n",
            "Epoch 8/10\n",
            " 11136/200297 [>.............................] - ETA: 21s - loss: 2.9703"
          ],
          "name": "stdout"
        },
        {
          "output_type": "stream",
          "text": [
            "200297/200297 [==============================] - 22s 110us/step - loss: 2.9728\n",
            "Epoch 9/10\n",
            "200297/200297 [==============================] - 22s 109us/step - loss: 2.9630\n",
            "Epoch 10/10\n",
            "  9600/200297 [>.............................] - ETA: 21s - loss: 2.9715"
          ],
          "name": "stdout"
        },
        {
          "output_type": "stream",
          "text": [
            "200297/200297 [==============================] - 22s 110us/step - loss: 2.9531\n"
          ],
          "name": "stdout"
        },
        {
          "output_type": "execute_result",
          "data": {
            "text/plain": [
              "<keras.callbacks.History at 0x7f0c41c93a50>"
            ]
          },
          "metadata": {
            "tags": []
          },
          "execution_count": 152
        }
      ]
    },
    {
      "metadata": {
        "id": "CVZTx-tPiC1g",
        "colab_type": "text"
      },
      "cell_type": "markdown",
      "source": [
        "### Test model\n",
        "\n",
        "Throw in an input string.. and get the output charac..  \n",
        "This model was based on characters.. hence"
      ]
    },
    {
      "metadata": {
        "id": "8O6oEQ--iC1h",
        "colab_type": "code",
        "colab": {
          "autoexec": {
            "startup": false,
            "wait_interval": 0
          }
        }
      },
      "cell_type": "code",
      "source": [
        "def get_next(inp):\n",
        "    idxs = [char_indices[c] for c in inp]\n",
        "    arrs = [np.array(i)[np.newaxis] for i in idxs]\n",
        "    p = model.predict(arrs) # p is an array of 86 ouputs\n",
        "    i = np.argmax(p) # take the max.. i.e most probable.. and op that coresponding thing form chars array\n",
        "    print(i)\n",
        "    return chars[i]"
      ],
      "execution_count": 0,
      "outputs": []
    },
    {
      "metadata": {
        "id": "35qYz6akiC1l",
        "colab_type": "code",
        "colab": {
          "autoexec": {
            "startup": false,
            "wait_interval": 0
          },
          "output_extras": [
            {
              "item_id": 1
            },
            {
              "item_id": 2
            }
          ],
          "base_uri": "https://localhost:8080/",
          "height": 51
        },
        "outputId": "81336b5a-90f1-4a31-90b0-651638626df1",
        "executionInfo": {
          "status": "ok",
          "timestamp": 1522746572019,
          "user_tz": -330,
          "elapsed": 762,
          "user": {
            "displayName": "Rony Roy",
            "photoUrl": "https://lh3.googleusercontent.com/a/default-user=s128",
            "userId": "111772801988052207421"
          }
        }
      },
      "cell_type": "code",
      "source": [
        "get_next('phi')"
      ],
      "execution_count": 154,
      "outputs": [
        {
          "output_type": "stream",
          "text": [
            "2\n"
          ],
          "name": "stdout"
        },
        {
          "output_type": "execute_result",
          "data": {
            "text/plain": [
              "' '"
            ]
          },
          "metadata": {
            "tags": []
          },
          "execution_count": 154
        }
      ]
    },
    {
      "metadata": {
        "id": "01bZP7UsXp7N",
        "colab_type": "code",
        "colab": {
          "autoexec": {
            "startup": false,
            "wait_interval": 0
          },
          "output_extras": [
            {
              "item_id": 1
            }
          ],
          "base_uri": "https://localhost:8080/",
          "height": 34
        },
        "outputId": "505df409-fc8a-4a4e-d13e-e4dc17f04c29",
        "executionInfo": {
          "status": "ok",
          "timestamp": 1522746572867,
          "user_tz": -330,
          "elapsed": 754,
          "user": {
            "displayName": "Rony Roy",
            "photoUrl": "https://lh3.googleusercontent.com/a/default-user=s128",
            "userId": "111772801988052207421"
          }
        }
      },
      "cell_type": "code",
      "source": [
        "#type(chars)\n",
        "chars[57]"
      ],
      "execution_count": 155,
      "outputs": [
        {
          "output_type": "execute_result",
          "data": {
            "text/plain": [
              "'d'"
            ]
          },
          "metadata": {
            "tags": []
          },
          "execution_count": 155
        }
      ]
    },
    {
      "metadata": {
        "id": "LapoK8sHtqTi",
        "colab_type": "code",
        "colab": {
          "autoexec": {
            "startup": false,
            "wait_interval": 0
          }
        }
      },
      "cell_type": "code",
      "source": [
        "## nothing is coming... :/\n",
        "# th:: e works. the rest seems to predict blank"
      ],
      "execution_count": 0,
      "outputs": []
    },
    {
      "metadata": {
        "id": "63xC_f9AiC1r",
        "colab_type": "code",
        "colab": {
          "autoexec": {
            "startup": false,
            "wait_interval": 0
          },
          "output_extras": [
            {
              "item_id": 1
            },
            {
              "item_id": 2
            }
          ],
          "base_uri": "https://localhost:8080/",
          "height": 51
        },
        "outputId": "43d0154d-c6a1-4700-96cd-fbe9277421b7",
        "executionInfo": {
          "status": "ok",
          "timestamp": 1522746574574,
          "user_tz": -330,
          "elapsed": 762,
          "user": {
            "displayName": "Rony Roy",
            "photoUrl": "https://lh3.googleusercontent.com/a/default-user=s128",
            "userId": "111772801988052207421"
          }
        }
      },
      "cell_type": "code",
      "source": [
        "get_next(' th')"
      ],
      "execution_count": 157,
      "outputs": [
        {
          "output_type": "stream",
          "text": [
            "2\n"
          ],
          "name": "stdout"
        },
        {
          "output_type": "execute_result",
          "data": {
            "text/plain": [
              "' '"
            ]
          },
          "metadata": {
            "tags": []
          },
          "execution_count": 157
        }
      ]
    },
    {
      "metadata": {
        "id": "QIumb0aZiC1w",
        "colab_type": "code",
        "colab": {
          "autoexec": {
            "startup": false,
            "wait_interval": 0
          },
          "output_extras": [
            {
              "item_id": 1
            },
            {
              "item_id": 2
            }
          ],
          "base_uri": "https://localhost:8080/",
          "height": 51
        },
        "outputId": "c39c4e5a-73c8-4592-a564-2f0c9c295704",
        "executionInfo": {
          "status": "ok",
          "timestamp": 1522746575431,
          "user_tz": -330,
          "elapsed": 781,
          "user": {
            "displayName": "Rony Roy",
            "photoUrl": "https://lh3.googleusercontent.com/a/default-user=s128",
            "userId": "111772801988052207421"
          }
        }
      },
      "cell_type": "code",
      "source": [
        "get_next(' an')"
      ],
      "execution_count": 158,
      "outputs": [
        {
          "output_type": "stream",
          "text": [
            "2\n"
          ],
          "name": "stdout"
        },
        {
          "output_type": "execute_result",
          "data": {
            "text/plain": [
              "' '"
            ]
          },
          "metadata": {
            "tags": []
          },
          "execution_count": 158
        }
      ]
    },
    {
      "metadata": {
        "id": "6eZHXOOvYHpU",
        "colab_type": "code",
        "colab": {
          "autoexec": {
            "startup": false,
            "wait_interval": 0
          },
          "output_extras": [
            {
              "item_id": 1
            },
            {
              "item_id": 2
            }
          ],
          "base_uri": "https://localhost:8080/",
          "height": 51
        },
        "outputId": "49e8c503-8823-4e28-dd93-07f500f6866a",
        "executionInfo": {
          "status": "ok",
          "timestamp": 1522746576302,
          "user_tz": -330,
          "elapsed": 788,
          "user": {
            "displayName": "Rony Roy",
            "photoUrl": "https://lh3.googleusercontent.com/a/default-user=s128",
            "userId": "111772801988052207421"
          }
        }
      },
      "cell_type": "code",
      "source": [
        "get_next('sta')"
      ],
      "execution_count": 159,
      "outputs": [
        {
          "output_type": "stream",
          "text": [
            "2\n"
          ],
          "name": "stdout"
        },
        {
          "output_type": "execute_result",
          "data": {
            "text/plain": [
              "' '"
            ]
          },
          "metadata": {
            "tags": []
          },
          "execution_count": 159
        }
      ]
    },
    {
      "metadata": {
        "id": "0i03KfTeYcBA",
        "colab_type": "code",
        "colab": {
          "autoexec": {
            "startup": false,
            "wait_interval": 0
          },
          "output_extras": [
            {
              "item_id": 1
            },
            {
              "item_id": 2
            }
          ],
          "base_uri": "https://localhost:8080/",
          "height": 51
        },
        "outputId": "fe140a57-c5e3-441b-8572-631a6e542b0c",
        "executionInfo": {
          "status": "ok",
          "timestamp": 1522746577136,
          "user_tz": -330,
          "elapsed": 756,
          "user": {
            "displayName": "Rony Roy",
            "photoUrl": "https://lh3.googleusercontent.com/a/default-user=s128",
            "userId": "111772801988052207421"
          }
        }
      },
      "cell_type": "code",
      "source": [
        "get_next('pho')"
      ],
      "execution_count": 160,
      "outputs": [
        {
          "output_type": "stream",
          "text": [
            "2\n"
          ],
          "name": "stdout"
        },
        {
          "output_type": "execute_result",
          "data": {
            "text/plain": [
              "' '"
            ]
          },
          "metadata": {
            "tags": []
          },
          "execution_count": 160
        }
      ]
    },
    {
      "metadata": {
        "id": "aOO7NF3qiC12",
        "colab_type": "text"
      },
      "cell_type": "markdown",
      "source": [
        "## Our first RNN!\n",
        "made from scratch.. keras"
      ]
    },
    {
      "metadata": {
        "id": "O8rbDCWtiC13",
        "colab_type": "text"
      },
      "cell_type": "markdown",
      "source": [
        "### Create inputs"
      ]
    },
    {
      "metadata": {
        "id": "yqUKoZ9miC14",
        "colab_type": "text"
      },
      "cell_type": "markdown",
      "source": [
        "This is the size of our unrolled RNN.  \n",
        "Clustered together.. or rolled up .. together.. it would be an RNN"
      ]
    },
    {
      "metadata": {
        "id": "d9WO67zLiC15",
        "colab_type": "code",
        "colab": {
          "autoexec": {
            "startup": false,
            "wait_interval": 0
          }
        }
      },
      "cell_type": "code",
      "source": [
        "cs=8 # characters will be 8 and predict the 9th charac"
      ],
      "execution_count": 0,
      "outputs": []
    },
    {
      "metadata": {
        "id": "tJB5eebmiC18",
        "colab_type": "text"
      },
      "cell_type": "markdown",
      "source": [
        "For each of 0 through 7, create a list of every 8th character with that starting point.   \n",
        "These will be the 8 inputs to out model.  \n",
        "Just as commented above "
      ]
    },
    {
      "metadata": {
        "id": "A0cwPMi7iC18",
        "colab_type": "code",
        "colab": {
          "autoexec": {
            "startup": false,
            "wait_interval": 0
          }
        }
      },
      "cell_type": "code",
      "source": [
        "c_in_dat = [[idx[i+n] for i in xrange(0, len(idx)-1-cs, cs)] # range steps of cs, in idx which is all te text converted to numbers\n",
        "            for n in range(cs)]"
      ],
      "execution_count": 0,
      "outputs": []
    },
    {
      "metadata": {
        "id": "4EJwW96oiC2C",
        "colab_type": "text"
      },
      "cell_type": "markdown",
      "source": [
        "Then create a list of the next character in each of these series. This will be the labels for our model. output basically... if 1,2...7 then 8 is the op/label"
      ]
    },
    {
      "metadata": {
        "id": "XGha2p_AiC2C",
        "colab_type": "code",
        "colab": {
          "autoexec": {
            "startup": false,
            "wait_interval": 0
          }
        }
      },
      "cell_type": "code",
      "source": [
        "c_out_dat = [idx[i+cs] for i in xrange(0, len(idx)-1-cs, cs)] # range.. steps of cs"
      ],
      "execution_count": 0,
      "outputs": []
    },
    {
      "metadata": {
        "id": "S4ONyySliC2F",
        "colab_type": "code",
        "colab": {
          "autoexec": {
            "startup": false,
            "wait_interval": 0
          }
        }
      },
      "cell_type": "code",
      "source": [
        "xs = [np.stack(c[:-2]) for c in c_in_dat]"
      ],
      "execution_count": 0,
      "outputs": []
    },
    {
      "metadata": {
        "id": "m28O6PBIiC2H",
        "colab_type": "code",
        "colab": {
          "autoexec": {
            "startup": false,
            "wait_interval": 0
          },
          "output_extras": [
            {
              "item_id": 1
            }
          ],
          "base_uri": "https://localhost:8080/",
          "height": 34
        },
        "outputId": "bff194dd-64f9-4035-d2e4-079b09a5953b",
        "executionInfo": {
          "status": "ok",
          "timestamp": 1522746582313,
          "user_tz": -330,
          "elapsed": 768,
          "user": {
            "displayName": "Rony Roy",
            "photoUrl": "https://lh3.googleusercontent.com/a/default-user=s128",
            "userId": "111772801988052207421"
          }
        }
      },
      "cell_type": "code",
      "source": [
        "len(xs), xs[0].shape # all the x's inputs.. and the length of so.."
      ],
      "execution_count": 165,
      "outputs": [
        {
          "output_type": "execute_result",
          "data": {
            "text/plain": [
              "(8, (75110,))"
            ]
          },
          "metadata": {
            "tags": []
          },
          "execution_count": 165
        }
      ]
    },
    {
      "metadata": {
        "id": "Rb0g5uB5iC2M",
        "colab_type": "code",
        "colab": {
          "autoexec": {
            "startup": false,
            "wait_interval": 0
          }
        }
      },
      "cell_type": "code",
      "source": [
        "y = np.stack(c_out_dat[:-2])"
      ],
      "execution_count": 0,
      "outputs": []
    },
    {
      "metadata": {
        "id": "l_mxZlKYiC2P",
        "colab_type": "text"
      },
      "cell_type": "markdown",
      "source": [
        "So each column below is one series of 8 characters from the text."
      ]
    },
    {
      "metadata": {
        "id": "ZkpqLiD8iC2P",
        "colab_type": "code",
        "colab": {
          "autoexec": {
            "startup": false,
            "wait_interval": 0
          },
          "output_extras": [
            {
              "item_id": 1
            }
          ],
          "base_uri": "https://localhost:8080/",
          "height": 151
        },
        "outputId": "15d12491-d1a0-4f12-d649-d5115e5e7f9e",
        "executionInfo": {
          "status": "ok",
          "timestamp": 1522746583910,
          "user_tz": -330,
          "elapsed": 701,
          "user": {
            "displayName": "Rony Roy",
            "photoUrl": "https://lh3.googleusercontent.com/a/default-user=s128",
            "userId": "111772801988052207421"
          }
        }
      },
      "cell_type": "code",
      "source": [
        "[xs[n][:cs] for n in range(cs)]"
      ],
      "execution_count": 167,
      "outputs": [
        {
          "output_type": "execute_result",
          "data": {
            "text/plain": [
              "[array([40,  1, 33,  2, 72, 67, 73,  2]),\n",
              " array([42,  1, 38, 44,  2,  9, 61, 73]),\n",
              " array([29, 43, 31, 71, 54,  9, 58, 61]),\n",
              " array([30, 45,  2, 74,  2, 76, 67, 58]),\n",
              " array([25, 40, 73, 73, 76, 61, 24, 71]),\n",
              " array([27, 40, 61, 61, 68, 54,  2, 58]),\n",
              " array([29, 39, 54,  2, 66, 73, 33,  2]),\n",
              " array([ 1, 43, 73, 62, 54,  2, 72, 67])]"
            ]
          },
          "metadata": {
            "tags": []
          },
          "execution_count": 167
        }
      ]
    },
    {
      "metadata": {
        "id": "dZkPOfGSiC2V",
        "colab_type": "text"
      },
      "cell_type": "markdown",
      "source": [
        "...and this is the next character after each sequence."
      ]
    },
    {
      "metadata": {
        "id": "wZSZBAoRiC2W",
        "colab_type": "code",
        "colab": {
          "autoexec": {
            "startup": false,
            "wait_interval": 0
          },
          "output_extras": [
            {
              "item_id": 1
            }
          ],
          "base_uri": "https://localhost:8080/",
          "height": 34
        },
        "outputId": "746a86db-4613-45c1-d916-d2f6e79bffe9",
        "executionInfo": {
          "status": "ok",
          "timestamp": 1522746584765,
          "user_tz": -330,
          "elapsed": 770,
          "user": {
            "displayName": "Rony Roy",
            "photoUrl": "https://lh3.googleusercontent.com/a/default-user=s128",
            "userId": "111772801988052207421"
          }
        }
      },
      "cell_type": "code",
      "source": [
        "y[:cs]"
      ],
      "execution_count": 168,
      "outputs": [
        {
          "output_type": "execute_result",
          "data": {
            "text/plain": [
              "array([ 1, 33,  2, 72, 67, 73,  2, 68])"
            ]
          },
          "metadata": {
            "tags": []
          },
          "execution_count": 168
        }
      ]
    },
    {
      "metadata": {
        "id": "Fl17fPPniC2a",
        "colab_type": "code",
        "colab": {
          "autoexec": {
            "startup": false,
            "wait_interval": 0
          }
        }
      },
      "cell_type": "code",
      "source": [
        "n_fac = 42"
      ],
      "execution_count": 0,
      "outputs": []
    },
    {
      "metadata": {
        "id": "GTFRoZwGiC2c",
        "colab_type": "text"
      },
      "cell_type": "markdown",
      "source": [
        "### Create and train model\n",
        "using the same techniques as above.."
      ]
    },
    {
      "metadata": {
        "id": "mXb2FESBiC2e",
        "colab_type": "code",
        "colab": {
          "autoexec": {
            "startup": false,
            "wait_interval": 0
          }
        }
      },
      "cell_type": "code",
      "source": [
        "def embedding_input(name, n_in, n_out):\n",
        "    inp = Input(shape=(1,), dtype='int64', name=name+'_in')\n",
        "    emb = Embedding(n_in, n_out, input_length=1, name=name+'_emb')(inp)\n",
        "    return inp, Flatten()(emb)"
      ],
      "execution_count": 0,
      "outputs": []
    },
    {
      "metadata": {
        "id": "YxOphOSIiC2g",
        "colab_type": "code",
        "colab": {
          "autoexec": {
            "startup": false,
            "wait_interval": 0
          }
        }
      },
      "cell_type": "code",
      "source": [
        "c_ins = [embedding_input('c'+str(n), vocab_size, n_fac) for n in range(cs)]"
      ],
      "execution_count": 0,
      "outputs": []
    },
    {
      "metadata": {
        "id": "whTNXNdZiC2j",
        "colab_type": "code",
        "colab": {
          "autoexec": {
            "startup": false,
            "wait_interval": 0
          }
        }
      },
      "cell_type": "code",
      "source": [
        "n_hidden = 256"
      ],
      "execution_count": 0,
      "outputs": []
    },
    {
      "metadata": {
        "id": "0ZFaqUWAiC2m",
        "colab_type": "code",
        "colab": {
          "autoexec": {
            "startup": false,
            "wait_interval": 0
          },
          "output_extras": [
            {
              "item_id": 1
            }
          ],
          "base_uri": "https://localhost:8080/",
          "height": 71
        },
        "outputId": "f27984f0-5913-47c1-ff10-d09ea8cf175a",
        "executionInfo": {
          "status": "ok",
          "timestamp": 1522746589215,
          "user_tz": -330,
          "elapsed": 769,
          "user": {
            "displayName": "Rony Roy",
            "photoUrl": "https://lh3.googleusercontent.com/a/default-user=s128",
            "userId": "111772801988052207421"
          }
        }
      },
      "cell_type": "code",
      "source": [
        "dense_in = Dense(n_hidden, activation='relu')\n",
        "dense_hidden = Dense(n_hidden, activation='relu', init='identity') # initialised as idenity matrix.. not the default.. why.. becasue to observe equivalence in keras based model below\n",
        "dense_out = Dense(vocab_size, activation='softmax')"
      ],
      "execution_count": 173,
      "outputs": [
        {
          "output_type": "stream",
          "text": [
            "/usr/local/lib/python2.7/dist-packages/ipykernel_launcher.py:2: UserWarning: Update your `Dense` call to the Keras 2 API: `Dense(256, kernel_initializer=\"identity\", activation=\"relu\")`\n",
            "  \n"
          ],
          "name": "stderr"
        }
      ]
    },
    {
      "metadata": {
        "id": "QiFXqTTRiC2p",
        "colab_type": "text"
      },
      "cell_type": "markdown",
      "source": [
        "The first character of each sequence goes through dense_in(), to create our first hidden activations."
      ]
    },
    {
      "metadata": {
        "id": "DnNpFvvtiC2p",
        "colab_type": "code",
        "colab": {
          "autoexec": {
            "startup": false,
            "wait_interval": 0
          }
        }
      },
      "cell_type": "code",
      "source": [
        "hidden = dense_in(c_ins[0][1])"
      ],
      "execution_count": 0,
      "outputs": []
    },
    {
      "metadata": {
        "id": "_ahxh713iC2r",
        "colab_type": "text"
      },
      "cell_type": "markdown",
      "source": [
        "Then for each successive layer we combine the output of dense_in()   \n",
        "on the next character with the output of dense_hidden()   \n",
        "on the current hidden state, to create the new hidden state. in a nice neat for loop"
      ]
    },
    {
      "metadata": {
        "id": "5b_AoY1tiC2s",
        "colab_type": "code",
        "colab": {
          "autoexec": {
            "startup": false,
            "wait_interval": 0
          },
          "output_extras": [
            {
              "item_id": 1
            }
          ],
          "base_uri": "https://localhost:8080/",
          "height": 71
        },
        "outputId": "0f7d0056-f870-429c-e2dd-7d0fa3708ae7",
        "executionInfo": {
          "status": "ok",
          "timestamp": 1522746590905,
          "user_tz": -330,
          "elapsed": 791,
          "user": {
            "displayName": "Rony Roy",
            "photoUrl": "https://lh3.googleusercontent.com/a/default-user=s128",
            "userId": "111772801988052207421"
          }
        }
      },
      "cell_type": "code",
      "source": [
        "for i in range(1,cs):\n",
        "    c_dense = dense_in(c_ins[i][1])\n",
        "    hidden = dense_hidden(hidden)\n",
        "    hidden = merge([c_dense, hidden])"
      ],
      "execution_count": 175,
      "outputs": [
        {
          "output_type": "stream",
          "text": [
            "/usr/local/lib/python2.7/dist-packages/ipykernel_launcher.py:4: UserWarning: The `merge` function is deprecated and will be removed after 08/2017. Use instead layers from `keras.layers.merge`, e.g. `add`, `concatenate`, etc.\n",
            "  after removing the cwd from sys.path.\n"
          ],
          "name": "stderr"
        }
      ]
    },
    {
      "metadata": {
        "id": "rjQdGJE6iC2u",
        "colab_type": "text"
      },
      "cell_type": "markdown",
      "source": [
        "Putting the final hidden state through dense_out() gives us our output."
      ]
    },
    {
      "metadata": {
        "id": "yhaD5bpGiC2u",
        "colab_type": "code",
        "colab": {
          "autoexec": {
            "startup": false,
            "wait_interval": 0
          }
        }
      },
      "cell_type": "code",
      "source": [
        "c_out = dense_out(hidden) #  like in the 3 character model.. the purpose of all of the above. was to get this c out layer.."
      ],
      "execution_count": 0,
      "outputs": []
    },
    {
      "metadata": {
        "id": "RYauqHPhiC2y",
        "colab_type": "text"
      },
      "cell_type": "markdown",
      "source": [
        "So now we can create our model."
      ]
    },
    {
      "metadata": {
        "id": "1t6DlLpdiC2z",
        "colab_type": "code",
        "colab": {
          "autoexec": {
            "startup": false,
            "wait_interval": 0
          }
        }
      },
      "cell_type": "code",
      "source": [
        "model = Model([c[0] for c in c_ins], c_out) # inputs in an array\n",
        "model.compile(loss='sparse_categorical_crossentropy', optimizer=Adam())"
      ],
      "execution_count": 0,
      "outputs": []
    },
    {
      "metadata": {
        "id": "fMbiiYYbiC2z",
        "colab_type": "code",
        "colab": {
          "autoexec": {
            "startup": false,
            "wait_interval": 0
          },
          "output_extras": [
            {
              "item_id": 1
            },
            {
              "item_id": 39
            },
            {
              "item_id": 73
            },
            {
              "item_id": 105
            },
            {
              "item_id": 136
            },
            {
              "item_id": 168
            },
            {
              "item_id": 188
            },
            {
              "item_id": 189
            }
          ],
          "base_uri": "https://localhost:8080/",
          "height": 471
        },
        "outputId": "da72917c-3c70-4e60-94da-012e96f5caeb",
        "executionInfo": {
          "status": "ok",
          "timestamp": 1522746776165,
          "user_tz": -330,
          "elapsed": 183489,
          "user": {
            "displayName": "Rony Roy",
            "photoUrl": "https://lh3.googleusercontent.com/a/default-user=s128",
            "userId": "111772801988052207421"
          }
        }
      },
      "cell_type": "code",
      "source": [
        "model.fit(xs, y, batch_size=64, nb_epoch=12)"
      ],
      "execution_count": 178,
      "outputs": [
        {
          "output_type": "stream",
          "text": [
            "/usr/local/lib/python2.7/dist-packages/ipykernel_launcher.py:1: UserWarning: The `nb_epoch` argument in `fit` has been renamed `epochs`.\n",
            "  \"\"\"Entry point for launching an IPython kernel.\n"
          ],
          "name": "stderr"
        },
        {
          "output_type": "stream",
          "text": [
            "Epoch 1/12\n",
            "75110/75110 [==============================] - 15s 202us/step - loss: 2.5362\n",
            "Epoch 2/12\n",
            "75110/75110 [==============================] - 15s 201us/step - loss: 2.2512\n",
            "Epoch 3/12\n",
            "33856/75110 [============>.................] - ETA: 8s - loss: 2.1549"
          ],
          "name": "stdout"
        },
        {
          "output_type": "stream",
          "text": [
            "75110/75110 [==============================] - 15s 199us/step - loss: 2.1470\n",
            "Epoch 4/12\n",
            "75110/75110 [==============================] - 15s 202us/step - loss: 2.0751\n",
            "Epoch 5/12\n",
            "48768/75110 [==================>...........] - ETA: 5s - loss: 2.0212"
          ],
          "name": "stdout"
        },
        {
          "output_type": "stream",
          "text": [
            "75110/75110 [==============================] - 16s 208us/step - loss: 2.0191\n",
            "Epoch 6/12\n",
            "75110/75110 [==============================] - 15s 201us/step - loss: 1.9729\n",
            "Epoch 7/12\n",
            "54016/75110 [====================>.........] - ETA: 4s - loss: 1.9275"
          ],
          "name": "stdout"
        },
        {
          "output_type": "stream",
          "text": [
            "75110/75110 [==============================] - 15s 204us/step - loss: 1.9324\n",
            "Epoch 8/12\n",
            "75110/75110 [==============================] - 15s 204us/step - loss: 1.8945\n",
            "Epoch 9/12\n",
            "53696/75110 [====================>.........] - ETA: 4s - loss: 1.8578"
          ],
          "name": "stdout"
        },
        {
          "output_type": "stream",
          "text": [
            "75110/75110 [==============================] - 15s 206us/step - loss: 1.8636\n",
            "Epoch 10/12\n",
            "75110/75110 [==============================] - 15s 198us/step - loss: 1.8345\n",
            "Epoch 11/12\n",
            "59200/75110 [======================>.......] - ETA: 3s - loss: 1.7995"
          ],
          "name": "stdout"
        },
        {
          "output_type": "stream",
          "text": [
            "75110/75110 [==============================] - 15s 197us/step - loss: 1.8097\n",
            "Epoch 12/12\n",
            "75110/75110 [==============================] - 15s 203us/step - loss: 1.7855\n"
          ],
          "name": "stdout"
        },
        {
          "output_type": "execute_result",
          "data": {
            "text/plain": [
              "<keras.callbacks.History at 0x7f0c402b6c10>"
            ]
          },
          "metadata": {
            "tags": []
          },
          "execution_count": 178
        }
      ]
    },
    {
      "metadata": {
        "id": "Mms0zjp-iC22",
        "colab_type": "text"
      },
      "cell_type": "markdown",
      "source": [
        "### Test model\n",
        "\n",
        "This has a much lower error than the previous one.. that was built for predicting 4th char after 3 characters"
      ]
    },
    {
      "metadata": {
        "id": "xfu8ry3RiC23",
        "colab_type": "code",
        "colab": {
          "autoexec": {
            "startup": false,
            "wait_interval": 0
          }
        }
      },
      "cell_type": "code",
      "source": [
        "def get_next(inp):\n",
        "    idxs = [np.array(char_indices[c])[np.newaxis] for c in inp]\n",
        "    p = model.predict(idxs)\n",
        "    return chars[np.argmax(p)]"
      ],
      "execution_count": 0,
      "outputs": []
    },
    {
      "metadata": {
        "id": "NPoSw3BsiC26",
        "colab_type": "code",
        "colab": {
          "autoexec": {
            "startup": false,
            "wait_interval": 0
          },
          "output_extras": [
            {
              "item_id": 1
            }
          ],
          "base_uri": "https://localhost:8080/",
          "height": 34
        },
        "outputId": "7f0142fd-5a85-48cd-af82-3a64654eb727",
        "executionInfo": {
          "status": "ok",
          "timestamp": 1522746777901,
          "user_tz": -330,
          "elapsed": 787,
          "user": {
            "displayName": "Rony Roy",
            "photoUrl": "https://lh3.googleusercontent.com/a/default-user=s128",
            "userId": "111772801988052207421"
          }
        }
      },
      "cell_type": "code",
      "source": [
        "get_next('for thos')"
      ],
      "execution_count": 180,
      "outputs": [
        {
          "output_type": "execute_result",
          "data": {
            "text/plain": [
              "'e'"
            ]
          },
          "metadata": {
            "tags": []
          },
          "execution_count": 180
        }
      ]
    },
    {
      "metadata": {
        "id": "GfXlRzkHucLP",
        "colab_type": "text"
      },
      "cell_type": "markdown",
      "source": [
        "This model works.. why does the one defined a few cells earlier work..?"
      ]
    },
    {
      "metadata": {
        "id": "EG2miDyDiC27",
        "colab_type": "code",
        "colab": {
          "autoexec": {
            "startup": false,
            "wait_interval": 0
          },
          "output_extras": [
            {
              "item_id": 1
            }
          ],
          "base_uri": "https://localhost:8080/",
          "height": 34
        },
        "outputId": "d4344330-ed97-4589-cc1f-d33fde9a5452",
        "executionInfo": {
          "status": "ok",
          "timestamp": 1522746778750,
          "user_tz": -330,
          "elapsed": 766,
          "user": {
            "displayName": "Rony Roy",
            "photoUrl": "https://lh3.googleusercontent.com/a/default-user=s128",
            "userId": "111772801988052207421"
          }
        }
      },
      "cell_type": "code",
      "source": [
        "get_next('part of ')"
      ],
      "execution_count": 181,
      "outputs": [
        {
          "output_type": "execute_result",
          "data": {
            "text/plain": [
              "'t'"
            ]
          },
          "metadata": {
            "tags": []
          },
          "execution_count": 181
        }
      ]
    },
    {
      "metadata": {
        "id": "fKtnOG4uiC3C",
        "colab_type": "code",
        "colab": {
          "autoexec": {
            "startup": false,
            "wait_interval": 0
          },
          "output_extras": [
            {
              "item_id": 1
            }
          ],
          "base_uri": "https://localhost:8080/",
          "height": 34
        },
        "outputId": "2978f7dc-6b9e-485d-9929-24faba5d1a48",
        "executionInfo": {
          "status": "ok",
          "timestamp": 1522746779586,
          "user_tz": -330,
          "elapsed": 780,
          "user": {
            "displayName": "Rony Roy",
            "photoUrl": "https://lh3.googleusercontent.com/a/default-user=s128",
            "userId": "111772801988052207421"
          }
        }
      },
      "cell_type": "code",
      "source": [
        "get_next('queens a')"
      ],
      "execution_count": 182,
      "outputs": [
        {
          "output_type": "execute_result",
          "data": {
            "text/plain": [
              "'n'"
            ]
          },
          "metadata": {
            "tags": []
          },
          "execution_count": 182
        }
      ]
    },
    {
      "metadata": {
        "id": "ctteTPuCiC3F",
        "colab_type": "text"
      },
      "cell_type": "markdown",
      "source": [
        "## Our first RNN with keras!\n",
        "Keras As in  use the keras apis in particular.. SimpleRNN"
      ]
    },
    {
      "metadata": {
        "id": "1FTd33cwiC3G",
        "colab_type": "code",
        "colab": {
          "autoexec": {
            "startup": false,
            "wait_interval": 0
          }
        }
      },
      "cell_type": "code",
      "source": [
        "n_hidden, n_fac, cs, vocab_size = (256, 42, 8, 86)"
      ],
      "execution_count": 0,
      "outputs": []
    },
    {
      "metadata": {
        "id": "QZvwW2WMiC3H",
        "colab_type": "text"
      },
      "cell_type": "markdown",
      "source": [
        "This is nearly exactly equivalent to the RNN we built ourselves in the previous section."
      ]
    },
    {
      "metadata": {
        "id": "OiusamBku0hB",
        "colab_type": "code",
        "colab": {
          "autoexec": {
            "startup": false,
            "wait_interval": 0
          }
        }
      },
      "cell_type": "code",
      "source": [
        "from keras.layers import SimpleRNN"
      ],
      "execution_count": 0,
      "outputs": []
    },
    {
      "metadata": {
        "id": "M1i13OjPiC3I",
        "colab_type": "code",
        "colab": {
          "autoexec": {
            "startup": false,
            "wait_interval": 0
          },
          "output_extras": [
            {
              "item_id": 1
            }
          ],
          "base_uri": "https://localhost:8080/",
          "height": 71
        },
        "outputId": "11b54b44-d3db-4743-d2a0-c18213a4e34f",
        "executionInfo": {
          "status": "ok",
          "timestamp": 1522746782157,
          "user_tz": -330,
          "elapsed": 807,
          "user": {
            "displayName": "Rony Roy",
            "photoUrl": "https://lh3.googleusercontent.com/a/default-user=s128",
            "userId": "111772801988052207421"
          }
        }
      },
      "cell_type": "code",
      "source": [
        "model=Sequential([\n",
        "        Embedding(vocab_size, n_fac, input_length=cs), # get letter/character embeddings\n",
        "        SimpleRNN(n_hidden, activation='relu', inner_init='identity'), # tadaaaaaann.....\n",
        "        Dense(vocab_size, activation='softmax') # and output.. OMG soooo simpulll... provided you know what you are doing.. :P\n",
        "    ])"
      ],
      "execution_count": 185,
      "outputs": [
        {
          "output_type": "stream",
          "text": [
            "/usr/local/lib/python2.7/dist-packages/ipykernel_launcher.py:3: UserWarning: Update your `SimpleRNN` call to the Keras 2 API: `SimpleRNN(256, activation=\"relu\", recurrent_initializer=\"identity\")`\n",
            "  This is separate from the ipykernel package so we can avoid doing imports until\n"
          ],
          "name": "stderr"
        }
      ]
    },
    {
      "metadata": {
        "id": "AhrZBqsPiC3K",
        "colab_type": "code",
        "colab": {
          "autoexec": {
            "startup": false,
            "wait_interval": 0
          },
          "output_extras": [
            {
              "item_id": 1
            }
          ],
          "base_uri": "https://localhost:8080/",
          "height": 235
        },
        "outputId": "3e7708b0-d11f-4631-d56a-9afbe42e709f",
        "executionInfo": {
          "status": "ok",
          "timestamp": 1522746783014,
          "user_tz": -330,
          "elapsed": 773,
          "user": {
            "displayName": "Rony Roy",
            "photoUrl": "https://lh3.googleusercontent.com/a/default-user=s128",
            "userId": "111772801988052207421"
          }
        }
      },
      "cell_type": "code",
      "source": [
        "model.summary()"
      ],
      "execution_count": 186,
      "outputs": [
        {
          "output_type": "stream",
          "text": [
            "_________________________________________________________________\n",
            "Layer (type)                 Output Shape              Param #   \n",
            "=================================================================\n",
            "embedding_9 (Embedding)      (None, 8, 42)             3612      \n",
            "_________________________________________________________________\n",
            "simple_rnn_3 (SimpleRNN)     (None, 256)               76544     \n",
            "_________________________________________________________________\n",
            "dense_15 (Dense)             (None, 86)                22102     \n",
            "=================================================================\n",
            "Total params: 102,258\n",
            "Trainable params: 102,258\n",
            "Non-trainable params: 0\n",
            "_________________________________________________________________\n"
          ],
          "name": "stdout"
        }
      ]
    },
    {
      "metadata": {
        "id": "2953VisxiC3N",
        "colab_type": "code",
        "colab": {
          "autoexec": {
            "startup": false,
            "wait_interval": 0
          }
        }
      },
      "cell_type": "code",
      "source": [
        "model.compile(loss='sparse_categorical_crossentropy', optimizer=Adam())"
      ],
      "execution_count": 0,
      "outputs": []
    },
    {
      "metadata": {
        "id": "hQWltXUXiC3O",
        "colab_type": "code",
        "colab": {
          "autoexec": {
            "startup": false,
            "wait_interval": 0
          },
          "output_extras": [
            {
              "item_id": 41
            },
            {
              "item_id": 79
            },
            {
              "item_id": 115
            },
            {
              "item_id": 140
            },
            {
              "item_id": 141
            }
          ],
          "base_uri": "https://localhost:8080/",
          "height": 303
        },
        "outputId": "7ac03cba-41b2-40f3-d8a6-f3ed0c10b83b",
        "executionInfo": {
          "status": "ok",
          "timestamp": 1522746921496,
          "user_tz": -330,
          "elapsed": 137560,
          "user": {
            "displayName": "Rony Roy",
            "photoUrl": "https://lh3.googleusercontent.com/a/default-user=s128",
            "userId": "111772801988052207421"
          }
        }
      },
      "cell_type": "code",
      "source": [
        "model.fit(np.concatenate([x[np.newaxis] for x in xs]).T, y, batch_size=64, nb_epoch=8)\n",
        "# source http://forums.fast.ai/t/lesson-6-discussion/245/69\n",
        "# original\n",
        "#model.fit(np.concatenate(xs,axis=1), y, batch_size=64, nb_epoch=8)"
      ],
      "execution_count": 188,
      "outputs": [
        {
          "output_type": "stream",
          "text": [
            "Epoch 1/8\n",
            "75110/75110 [==============================] - 17s 231us/step - loss: 2.8063\n",
            "Epoch 2/8\n",
            "75110/75110 [==============================] - 17s 225us/step - loss: 2.2801\n",
            "Epoch 3/8\n",
            "25408/75110 [=========>....................] - ETA: 11s - loss: 2.1351"
          ],
          "name": "stdout"
        },
        {
          "output_type": "stream",
          "text": [
            "75110/75110 [==============================] - 17s 229us/step - loss: 2.0784\n",
            "Epoch 4/8\n",
            "75110/75110 [==============================] - 17s 227us/step - loss: 1.9398\n",
            "Epoch 5/8\n",
            "39872/75110 [==============>...............] - ETA: 7s - loss: 1.8423"
          ],
          "name": "stdout"
        },
        {
          "output_type": "stream",
          "text": [
            "75110/75110 [==============================] - 17s 225us/step - loss: 1.8346\n",
            "Epoch 6/8\n",
            "75110/75110 [==============================] - 17s 227us/step - loss: 1.7547\n",
            "Epoch 7/8\n",
            "43264/75110 [================>.............] - ETA: 7s - loss: 1.6870"
          ],
          "name": "stdout"
        },
        {
          "output_type": "stream",
          "text": [
            "75110/75110 [==============================] - 17s 230us/step - loss: 1.6877\n",
            "Epoch 8/8\n",
            "75110/75110 [==============================] - 17s 224us/step - loss: 1.6335\n"
          ],
          "name": "stdout"
        },
        {
          "output_type": "execute_result",
          "data": {
            "text/plain": [
              "<keras.callbacks.History at 0x7f0c402522d0>"
            ]
          },
          "metadata": {
            "tags": []
          },
          "execution_count": 188
        }
      ]
    },
    {
      "metadata": {
        "id": "9f0h3VJ8iC3U",
        "colab_type": "code",
        "colab": {
          "autoexec": {
            "startup": false,
            "wait_interval": 0
          }
        }
      },
      "cell_type": "code",
      "source": [
        "def get_next_keras(inp):\n",
        "    idxs = [char_indices[c] for c in inp]\n",
        "    arrs = np.array(idxs)[np.newaxis,:]\n",
        "    p = model.predict(arrs)[0]\n",
        "    return chars[np.argmax(p)]"
      ],
      "execution_count": 0,
      "outputs": []
    },
    {
      "metadata": {
        "id": "81SQXozoiC3Y",
        "colab_type": "code",
        "colab": {
          "autoexec": {
            "startup": false,
            "wait_interval": 0
          },
          "output_extras": [
            {
              "item_id": 1
            }
          ],
          "base_uri": "https://localhost:8080/",
          "height": 34
        },
        "outputId": "4ae26323-7a03-47f7-c05e-025340635d03",
        "executionInfo": {
          "status": "ok",
          "timestamp": 1522746923207,
          "user_tz": -330,
          "elapsed": 750,
          "user": {
            "displayName": "Rony Roy",
            "photoUrl": "https://lh3.googleusercontent.com/a/default-user=s128",
            "userId": "111772801988052207421"
          }
        }
      },
      "cell_type": "code",
      "source": [
        "get_next_keras('this is ')"
      ],
      "execution_count": 190,
      "outputs": [
        {
          "output_type": "execute_result",
          "data": {
            "text/plain": [
              "'t'"
            ]
          },
          "metadata": {
            "tags": []
          },
          "execution_count": 190
        }
      ]
    },
    {
      "metadata": {
        "id": "qNlFRQ-KiC3c",
        "colab_type": "code",
        "colab": {
          "autoexec": {
            "startup": false,
            "wait_interval": 0
          },
          "output_extras": [
            {
              "item_id": 1
            }
          ],
          "base_uri": "https://localhost:8080/",
          "height": 34
        },
        "outputId": "e1c63f6e-e305-4602-835d-375772c14077",
        "executionInfo": {
          "status": "ok",
          "timestamp": 1522746924062,
          "user_tz": -330,
          "elapsed": 763,
          "user": {
            "displayName": "Rony Roy",
            "photoUrl": "https://lh3.googleusercontent.com/a/default-user=s128",
            "userId": "111772801988052207421"
          }
        }
      },
      "cell_type": "code",
      "source": [
        "get_next_keras('part of ')"
      ],
      "execution_count": 191,
      "outputs": [
        {
          "output_type": "execute_result",
          "data": {
            "text/plain": [
              "'t'"
            ]
          },
          "metadata": {
            "tags": []
          },
          "execution_count": 191
        }
      ]
    },
    {
      "metadata": {
        "id": "3vnPVPsexI-s",
        "colab_type": "code",
        "colab": {
          "autoexec": {
            "startup": false,
            "wait_interval": 0
          },
          "output_extras": [
            {
              "item_id": 1
            }
          ],
          "base_uri": "https://localhost:8080/",
          "height": 34
        },
        "outputId": "39e1a8a7-58b6-4cab-b79b-168aac441db6",
        "executionInfo": {
          "status": "ok",
          "timestamp": 1522746924900,
          "user_tz": -330,
          "elapsed": 768,
          "user": {
            "displayName": "Rony Roy",
            "photoUrl": "https://lh3.googleusercontent.com/a/default-user=s128",
            "userId": "111772801988052207421"
          }
        }
      },
      "cell_type": "code",
      "source": [
        "get_next_keras('ueens an')"
      ],
      "execution_count": 192,
      "outputs": [
        {
          "output_type": "execute_result",
          "data": {
            "text/plain": [
              "'d'"
            ]
          },
          "metadata": {
            "tags": []
          },
          "execution_count": 192
        }
      ]
    },
    {
      "metadata": {
        "id": "cDbM-8fsiC3g",
        "colab_type": "code",
        "colab": {
          "autoexec": {
            "startup": false,
            "wait_interval": 0
          },
          "output_extras": [
            {
              "item_id": 1
            }
          ],
          "base_uri": "https://localhost:8080/",
          "height": 34
        },
        "outputId": "c3a424c5-2590-41a1-fb6f-1e6fba1add72",
        "executionInfo": {
          "status": "ok",
          "timestamp": 1522746925749,
          "user_tz": -330,
          "elapsed": 778,
          "user": {
            "displayName": "Rony Roy",
            "photoUrl": "https://lh3.googleusercontent.com/a/default-user=s128",
            "userId": "111772801988052207421"
          }
        }
      },
      "cell_type": "code",
      "source": [
        "get_next_keras('queens a')"
      ],
      "execution_count": 193,
      "outputs": [
        {
          "output_type": "execute_result",
          "data": {
            "text/plain": [
              "'n'"
            ]
          },
          "metadata": {
            "tags": []
          },
          "execution_count": 193
        }
      ]
    },
    {
      "metadata": {
        "id": "-WVViC8WiT9p",
        "colab_type": "text"
      },
      "cell_type": "markdown",
      "source": [
        "The sentiment analysis use case:  \n",
        "Given the above set up.. a sequence of characters.. and then predict the next..\n",
        "when trained from a corpus...\n",
        "similarly.. given a seq of words.. mapped on to a sentiment..   \n",
        "use the RNN  trained on the above set.. to predict sentiments on samples of text not seen before.. "
      ]
    },
    {
      "metadata": {
        "id": "Df-1ADb9iC3l",
        "colab_type": "text"
      },
      "cell_type": "markdown",
      "source": [
        "## Returning sequences\n",
        "explained as: \n",
        "return characters 2,3,4,5,6  \n",
        "given characters 1,2,3,4,5    \n",
        "as input\n",
        "\n"
      ]
    },
    {
      "metadata": {
        "id": "IX_uO4xViC3l",
        "colab_type": "text"
      },
      "cell_type": "markdown",
      "source": [
        "### Create inputs"
      ]
    },
    {
      "metadata": {
        "id": "wn1z8c8hiC3m",
        "colab_type": "text"
      },
      "cell_type": "markdown",
      "source": [
        "To use a sequence model, we can leave our input unchanged - but we have to change our output to a sequence (of course!)\n",
        "\n",
        "Here, c_out_dat is identical to c_in_dat, but moved across 1 character."
      ]
    },
    {
      "metadata": {
        "id": "1RORBTh6iC3m",
        "colab_type": "code",
        "colab": {
          "autoexec": {
            "startup": false,
            "wait_interval": 0
          }
        }
      },
      "cell_type": "code",
      "source": [
        "#c_in_dat = [[idx[i+n] for i in xrange(0, len(idx)-1-cs, cs)]\n",
        "#            for n in range(cs)]\n",
        "c_out_dat = [[idx[i+n] for i in xrange(1, len(idx)-cs, cs)]# shifted over by 1\n",
        "            for n in range(cs)]"
      ],
      "execution_count": 0,
      "outputs": []
    },
    {
      "metadata": {
        "id": "YPZUzByhiC3q",
        "colab_type": "code",
        "colab": {
          "autoexec": {
            "startup": false,
            "wait_interval": 0
          }
        }
      },
      "cell_type": "code",
      "source": [
        "ys = [np.stack(c[:-2]) for c in c_out_dat]"
      ],
      "execution_count": 0,
      "outputs": []
    },
    {
      "metadata": {
        "id": "tcPjLuAXiC3q",
        "colab_type": "text"
      },
      "cell_type": "markdown",
      "source": [
        "Reading down each column shows one set of inputs and outputs."
      ]
    },
    {
      "metadata": {
        "id": "bdoG5vT5iC3q",
        "colab_type": "code",
        "colab": {
          "autoexec": {
            "startup": false,
            "wait_interval": 0
          },
          "output_extras": [
            {
              "item_id": 1
            }
          ],
          "base_uri": "https://localhost:8080/",
          "height": 151
        },
        "outputId": "819f8c77-4eca-4c91-df00-8ffd97d8eabf",
        "executionInfo": {
          "status": "ok",
          "timestamp": 1522748046595,
          "user_tz": -330,
          "elapsed": 875,
          "user": {
            "displayName": "Rony Roy",
            "photoUrl": "https://lh3.googleusercontent.com/a/default-user=s128",
            "userId": "111772801988052207421"
          }
        }
      },
      "cell_type": "code",
      "source": [
        "[xs[n][:cs] for n in range(cs)]"
      ],
      "execution_count": 196,
      "outputs": [
        {
          "output_type": "execute_result",
          "data": {
            "text/plain": [
              "[array([40,  1, 33,  2, 72, 67, 73,  2]),\n",
              " array([42,  1, 38, 44,  2,  9, 61, 73]),\n",
              " array([29, 43, 31, 71, 54,  9, 58, 61]),\n",
              " array([30, 45,  2, 74,  2, 76, 67, 58]),\n",
              " array([25, 40, 73, 73, 76, 61, 24, 71]),\n",
              " array([27, 40, 61, 61, 68, 54,  2, 58]),\n",
              " array([29, 39, 54,  2, 66, 73, 33,  2]),\n",
              " array([ 1, 43, 73, 62, 54,  2, 72, 67])]"
            ]
          },
          "metadata": {
            "tags": []
          },
          "execution_count": 196
        }
      ]
    },
    {
      "metadata": {
        "id": "1zoXonUTiC3s",
        "colab_type": "code",
        "colab": {
          "autoexec": {
            "startup": false,
            "wait_interval": 0
          },
          "output_extras": [
            {
              "item_id": 1
            }
          ],
          "base_uri": "https://localhost:8080/",
          "height": 151
        },
        "outputId": "657c2a31-31d8-4657-848c-a28ed644e449",
        "executionInfo": {
          "status": "ok",
          "timestamp": 1522748048512,
          "user_tz": -330,
          "elapsed": 767,
          "user": {
            "displayName": "Rony Roy",
            "photoUrl": "https://lh3.googleusercontent.com/a/default-user=s128",
            "userId": "111772801988052207421"
          }
        }
      },
      "cell_type": "code",
      "source": [
        "[ys[n][:cs] for n in range(cs)]"
      ],
      "execution_count": 197,
      "outputs": [
        {
          "output_type": "execute_result",
          "data": {
            "text/plain": [
              "[array([42,  1, 38, 44,  2,  9, 61, 73]),\n",
              " array([29, 43, 31, 71, 54,  9, 58, 61]),\n",
              " array([30, 45,  2, 74,  2, 76, 67, 58]),\n",
              " array([25, 40, 73, 73, 76, 61, 24, 71]),\n",
              " array([27, 40, 61, 61, 68, 54,  2, 58]),\n",
              " array([29, 39, 54,  2, 66, 73, 33,  2]),\n",
              " array([ 1, 43, 73, 62, 54,  2, 72, 67]),\n",
              " array([ 1, 33,  2, 72, 67, 73,  2, 68])]"
            ]
          },
          "metadata": {
            "tags": []
          },
          "execution_count": 197
        }
      ]
    },
    {
      "metadata": {
        "id": "Eq-LyjABiC3u",
        "colab_type": "text"
      },
      "cell_type": "markdown",
      "source": [
        "### Create and train model"
      ]
    },
    {
      "metadata": {
        "id": "rjvbZ26GiC3u",
        "colab_type": "code",
        "colab": {
          "autoexec": {
            "startup": false,
            "wait_interval": 0
          },
          "output_extras": [
            {
              "item_id": 1
            }
          ],
          "base_uri": "https://localhost:8080/",
          "height": 71
        },
        "outputId": "4c4c27bd-3182-4c45-fa29-bfa71b537b1d",
        "executionInfo": {
          "status": "ok",
          "timestamp": 1522748050667,
          "user_tz": -330,
          "elapsed": 738,
          "user": {
            "displayName": "Rony Roy",
            "photoUrl": "https://lh3.googleusercontent.com/a/default-user=s128",
            "userId": "111772801988052207421"
          }
        }
      },
      "cell_type": "code",
      "source": [
        "dense_in = Dense(n_hidden, activation='relu')\n",
        "dense_hidden = Dense(n_hidden, activation='relu', init='identity')\n",
        "dense_out = Dense(vocab_size, activation='softmax', name='output')"
      ],
      "execution_count": 198,
      "outputs": [
        {
          "output_type": "stream",
          "text": [
            "/usr/local/lib/python2.7/dist-packages/ipykernel_launcher.py:2: UserWarning: Update your `Dense` call to the Keras 2 API: `Dense(256, kernel_initializer=\"identity\", activation=\"relu\")`\n",
            "  \n"
          ],
          "name": "stderr"
        }
      ]
    },
    {
      "metadata": {
        "id": "ifCQfHQwiC3u",
        "colab_type": "text"
      },
      "cell_type": "markdown",
      "source": [
        "We're going to pass a vector of all zeros as our starting point - here's our input layers for that:"
      ]
    },
    {
      "metadata": {
        "id": "JXkFfLGWiC3v",
        "colab_type": "code",
        "colab": {
          "autoexec": {
            "startup": false,
            "wait_interval": 0
          }
        }
      },
      "cell_type": "code",
      "source": [
        "inp1 = Input(shape=(n_fac,), name='zeros')\n",
        "hidden = dense_in(inp1)\n",
        "\n",
        "# taking an n character input: rather than n-1: hence set the initial input as a vector as zeroes\n",
        "# initialize as 0s"
      ],
      "execution_count": 0,
      "outputs": []
    },
    {
      "metadata": {
        "id": "Nh9Slx3NiC3w",
        "colab_type": "code",
        "colab": {
          "autoexec": {
            "startup": false,
            "wait_interval": 0
          },
          "output_extras": [
            {
              "item_id": 1
            }
          ],
          "base_uri": "https://localhost:8080/",
          "height": 71
        },
        "outputId": "318b4e24-ea4e-4db3-ac7a-b0a3ec89d428",
        "executionInfo": {
          "status": "ok",
          "timestamp": 1522748108662,
          "user_tz": -330,
          "elapsed": 828,
          "user": {
            "displayName": "Rony Roy",
            "photoUrl": "https://lh3.googleusercontent.com/a/default-user=s128",
            "userId": "111772801988052207421"
          }
        }
      },
      "cell_type": "code",
      "source": [
        "outs = []\n",
        "\n",
        "for i in range(cs):\n",
        "    c_dense = dense_in(c_ins[i][1])\n",
        "    hidden = dense_hidden(hidden)\n",
        "    hidden = merge([c_dense, hidden], mode='sum')\n",
        "    # every layer now has an output\n",
        "    outs.append(dense_out(hidden))"
      ],
      "execution_count": 200,
      "outputs": [
        {
          "output_type": "stream",
          "text": [
            "/usr/local/lib/python2.7/dist-packages/ipykernel_launcher.py:6: UserWarning: The `merge` function is deprecated and will be removed after 08/2017. Use instead layers from `keras.layers.merge`, e.g. `add`, `concatenate`, etc.\n",
            "  \n"
          ],
          "name": "stderr"
        }
      ]
    },
    {
      "metadata": {
        "id": "c3ptdjRtiC3x",
        "colab_type": "code",
        "colab": {
          "autoexec": {
            "startup": false,
            "wait_interval": 0
          }
        }
      },
      "cell_type": "code",
      "source": [
        "model = Model([inp1] + [c[0] for c in c_ins], outs)\n",
        "model.compile(loss='sparse_categorical_crossentropy', optimizer=Adam())"
      ],
      "execution_count": 0,
      "outputs": []
    },
    {
      "metadata": {
        "id": "sTgA9oKEiC3y",
        "colab_type": "code",
        "colab": {
          "autoexec": {
            "startup": false,
            "wait_interval": 0
          },
          "output_extras": [
            {
              "item_id": 1
            }
          ],
          "base_uri": "https://localhost:8080/",
          "height": 34
        },
        "outputId": "127dfe46-a540-4d4d-faf6-7a7209a5d880",
        "executionInfo": {
          "status": "ok",
          "timestamp": 1522748112679,
          "user_tz": -330,
          "elapsed": 714,
          "user": {
            "displayName": "Rony Roy",
            "photoUrl": "https://lh3.googleusercontent.com/a/default-user=s128",
            "userId": "111772801988052207421"
          }
        }
      },
      "cell_type": "code",
      "source": [
        "zeros = np.tile(np.zeros(n_fac), (len(xs[0]),1))\n",
        "zeros.shape"
      ],
      "execution_count": 202,
      "outputs": [
        {
          "output_type": "execute_result",
          "data": {
            "text/plain": [
              "(75110, 42)"
            ]
          },
          "metadata": {
            "tags": []
          },
          "execution_count": 202
        }
      ]
    },
    {
      "metadata": {
        "id": "CVsaVXVXiC30",
        "colab_type": "code",
        "colab": {
          "autoexec": {
            "startup": false,
            "wait_interval": 0
          },
          "output_extras": [
            {
              "item_id": 1
            },
            {
              "item_id": 104
            },
            {
              "item_id": 179
            },
            {
              "item_id": 213
            },
            {
              "item_id": 260
            },
            {
              "item_id": 295
            },
            {
              "item_id": 365
            },
            {
              "item_id": 491
            },
            {
              "item_id": 589
            },
            {
              "item_id": 640
            },
            {
              "item_id": 641
            }
          ],
          "base_uri": "https://localhost:8080/",
          "height": 491
        },
        "outputId": "12dcae8d-52fe-43a9-d982-afbe2f4b74be",
        "executionInfo": {
          "status": "ok",
          "timestamp": 1522748878103,
          "user_tz": -330,
          "elapsed": 323113,
          "user": {
            "displayName": "Rony Roy",
            "photoUrl": "https://lh3.googleusercontent.com/a/default-user=s128",
            "userId": "111772801988052207421"
          }
        }
      },
      "cell_type": "code",
      "source": [
        "model.fit([zeros]+xs, ys, batch_size=64, nb_epoch=12)"
      ],
      "execution_count": 203,
      "outputs": [
        {
          "output_type": "stream",
          "text": [
            "/usr/local/lib/python2.7/dist-packages/ipykernel_launcher.py:1: UserWarning: The `nb_epoch` argument in `fit` has been renamed `epochs`.\n",
            "  \"\"\"Entry point for launching an IPython kernel.\n"
          ],
          "name": "stderr"
        },
        {
          "output_type": "stream",
          "text": [
            "Epoch 1/12\n",
            "75110/75110 [==============================] - 27s 358us/step - loss: 20.0608 - output_loss: 2.4405\n",
            "Epoch 2/12\n",
            "44416/75110 [================>.............] - ETA: 10s - loss: 18.0105 - output_loss: 2.1468"
          ],
          "name": "stdout"
        },
        {
          "output_type": "stream",
          "text": [
            "75110/75110 [==============================] - 27s 356us/step - loss: 17.8570 - output_loss: 2.1290\n",
            "Epoch 3/12\n",
            "71232/75110 [===========================>..] - ETA: 1s - loss: 17.2630 - output_loss: 2.0244"
          ],
          "name": "stdout"
        },
        {
          "output_type": "stream",
          "text": [
            "75110/75110 [==============================] - 27s 355us/step - loss: 17.2480 - output_loss: 2.0229\n",
            "Epoch 4/12\n",
            "75110/75110 [==============================] - 27s 357us/step - loss: 16.8725 - output_loss: 1.9521\n",
            "Epoch 5/12\n",
            " 3968/75110 [>.............................] - ETA: 25s - loss: 16.6668 - output_loss: 1.8829"
          ],
          "name": "stdout"
        },
        {
          "output_type": "stream",
          "text": [
            "75110/75110 [==============================] - 27s 354us/step - loss: 16.6119 - output_loss: 1.9020\n",
            "Epoch 6/12\n",
            "50688/75110 [===================>..........] - ETA: 8s - loss: 16.4400 - output_loss: 1.8651"
          ],
          "name": "stdout"
        },
        {
          "output_type": "stream",
          "text": [
            "75110/75110 [==============================] - 27s 356us/step - loss: 16.4256 - output_loss: 1.8644\n",
            "Epoch 7/12\n",
            "72000/75110 [===========================>..] - ETA: 1s - loss: 16.2813 - output_loss: 1.8371\b\b\b\b\b\b\b\b\b\b\b\b\b\b\b\b\b\b\b\b\b\b\b\b\b\b\b\b\b\b\b\b\b\b\b\b\b\b\b\b\b\b\b\b\b\b\b\b\b\b\b\b\b\b\b\b\b\b\b\b\b\b\b\b\b\b\b\b\b\b\b\b\b\b\b\b\b\b\b\b\b\b\b\b\b\b\b\b\b\b\b\b"
          ],
          "name": "stdout"
        },
        {
          "output_type": "stream",
          "text": [
            "75110/75110 [==============================] - 27s 355us/step - loss: 16.2829 - output_loss: 1.8373\n",
            "Epoch 8/12\n",
            "75110/75110 [==============================] - 27s 357us/step - loss: 16.1713 - output_loss: 1.8119\n",
            "Epoch 9/12\n",
            " 5504/75110 [=>............................] - ETA: 25s - loss: 15.9992 - output_loss: 1.7973"
          ],
          "name": "stdout"
        },
        {
          "output_type": "stream",
          "text": [
            "75110/75110 [==============================] - 27s 355us/step - loss: 16.0774 - output_loss: 1.7936\n",
            "Epoch 10/12\n",
            "51840/75110 [===================>..........] - ETA: 8s - loss: 15.9835 - output_loss: 1.7732"
          ],
          "name": "stdout"
        },
        {
          "output_type": "stream",
          "text": [
            "75110/75110 [==============================] - 27s 358us/step - loss: 15.9992 - output_loss: 1.7776\n",
            "Epoch 11/12\n",
            "72320/75110 [===========================>..] - ETA: 0s - loss: 15.9328 - output_loss: 1.7619"
          ],
          "name": "stdout"
        },
        {
          "output_type": "stream",
          "text": [
            "75110/75110 [==============================] - 27s 358us/step - loss: 15.9338 - output_loss: 1.7633\n",
            "Epoch 12/12\n",
            "75110/75110 [==============================] - 27s 356us/step - loss: 15.8730 - output_loss: 1.7501\n"
          ],
          "name": "stdout"
        },
        {
          "output_type": "execute_result",
          "data": {
            "text/plain": [
              "<keras.callbacks.History at 0x7f0c402b67d0>"
            ]
          },
          "metadata": {
            "tags": []
          },
          "execution_count": 203
        }
      ]
    },
    {
      "metadata": {
        "id": "ZsYeSFu_46uu",
        "colab_type": "text"
      },
      "cell_type": "markdown",
      "source": [
        "Expected multiple losses.. 1 for each of the 8 char layers"
      ]
    },
    {
      "metadata": {
        "id": "tKuBPYajiC32",
        "colab_type": "text"
      },
      "cell_type": "markdown",
      "source": [
        "### Test model"
      ]
    },
    {
      "metadata": {
        "id": "_5CbXEmdiC32",
        "colab_type": "code",
        "colab": {
          "autoexec": {
            "startup": false,
            "wait_interval": 0
          }
        }
      },
      "cell_type": "code",
      "source": [
        "def get_nexts(inp):\n",
        "    idxs = [char_indices[c] for c in inp]\n",
        "    arrs = [np.array(i)[np.newaxis] for i in idxs]\n",
        "    p = model.predict([np.zeros(n_fac)[np.newaxis,:]] + arrs)\n",
        "    print(list(inp))\n",
        "    return [chars[np.argmax(o)] for o in p]"
      ],
      "execution_count": 0,
      "outputs": []
    },
    {
      "metadata": {
        "id": "RHE5EFojiC33",
        "colab_type": "code",
        "colab": {
          "autoexec": {
            "startup": false,
            "wait_interval": 0
          },
          "output_extras": [
            {
              "item_id": 1
            },
            {
              "item_id": 2
            }
          ],
          "base_uri": "https://localhost:8080/",
          "height": 51
        },
        "outputId": "588f3d5a-50ba-4558-f9a9-e397ff47e9a7",
        "executionInfo": {
          "status": "ok",
          "timestamp": 1522748890397,
          "user_tz": -330,
          "elapsed": 882,
          "user": {
            "displayName": "Rony Roy",
            "photoUrl": "https://lh3.googleusercontent.com/a/default-user=s128",
            "userId": "111772801988052207421"
          }
        }
      },
      "cell_type": "code",
      "source": [
        "get_nexts(' this is')"
      ],
      "execution_count": 208,
      "outputs": [
        {
          "output_type": "stream",
          "text": [
            "[' ', 't', 'h', 'i', 's', ' ', 'i', 's']\n"
          ],
          "name": "stdout"
        },
        {
          "output_type": "execute_result",
          "data": {
            "text/plain": [
              "['t', 'h', 'e', 't', ' ', 'i', 'n', ' ']"
            ]
          },
          "metadata": {
            "tags": []
          },
          "execution_count": 208
        }
      ]
    },
    {
      "metadata": {
        "id": "nriv0r38iC34",
        "colab_type": "code",
        "colab": {
          "autoexec": {
            "startup": false,
            "wait_interval": 0
          },
          "output_extras": [
            {
              "item_id": 1
            },
            {
              "item_id": 2
            }
          ],
          "base_uri": "https://localhost:8080/",
          "height": 51
        },
        "outputId": "bf9c02f4-039e-40af-ea8d-122cbf1d08fc",
        "executionInfo": {
          "status": "ok",
          "timestamp": 1522748892272,
          "user_tz": -330,
          "elapsed": 943,
          "user": {
            "displayName": "Rony Roy",
            "photoUrl": "https://lh3.googleusercontent.com/a/default-user=s128",
            "userId": "111772801988052207421"
          }
        }
      },
      "cell_type": "code",
      "source": [
        "get_nexts(' part of')"
      ],
      "execution_count": 209,
      "outputs": [
        {
          "output_type": "stream",
          "text": [
            "[' ', 'p', 'a', 'r', 't', ' ', 'o', 'f']\n"
          ],
          "name": "stdout"
        },
        {
          "output_type": "execute_result",
          "data": {
            "text/plain": [
              "['t', 'o', 'r', 't', 'i', 'o', 'f', ' ']"
            ]
          },
          "metadata": {
            "tags": []
          },
          "execution_count": 209
        }
      ]
    },
    {
      "metadata": {
        "id": "_O8v9U4_5pIh",
        "colab_type": "code",
        "colab": {
          "autoexec": {
            "startup": false,
            "wait_interval": 0
          },
          "output_extras": [
            {
              "item_id": 1
            },
            {
              "item_id": 2
            }
          ],
          "base_uri": "https://localhost:8080/",
          "height": 51
        },
        "outputId": "a94c8d03-6329-479c-9686-0b822e245515",
        "executionInfo": {
          "status": "ok",
          "timestamp": 1522748940368,
          "user_tz": -330,
          "elapsed": 810,
          "user": {
            "displayName": "Rony Roy",
            "photoUrl": "https://lh3.googleusercontent.com/a/default-user=s128",
            "userId": "111772801988052207421"
          }
        }
      },
      "cell_type": "code",
      "source": [
        "get_nexts('d mornin')"
      ],
      "execution_count": 211,
      "outputs": [
        {
          "output_type": "stream",
          "text": [
            "['d', ' ', 'm', 'o', 'r', 'n', 'i', 'n']\n"
          ],
          "name": "stdout"
        },
        {
          "output_type": "execute_result",
          "data": {
            "text/plain": [
              "[' ', 't', 'a', 'r', 'e', ' ', 's', 'g']"
            ]
          },
          "metadata": {
            "tags": []
          },
          "execution_count": 211
        }
      ]
    },
    {
      "metadata": {
        "id": "4Tx-Gw0J6QEu",
        "colab_type": "text"
      },
      "cell_type": "markdown",
      "source": [
        "Very off when looked at closely :)"
      ]
    },
    {
      "metadata": {
        "id": "ZysyE_cdiC36",
        "colab_type": "text"
      },
      "cell_type": "markdown",
      "source": [
        "### Sequence model with keras\n",
        "make the same as above with keras this time tho.."
      ]
    },
    {
      "metadata": {
        "id": "jF7359dViC36",
        "colab_type": "code",
        "colab": {
          "autoexec": {
            "startup": false,
            "wait_interval": 0
          },
          "output_extras": [
            {
              "item_id": 1
            }
          ],
          "base_uri": "https://localhost:8080/",
          "height": 34
        },
        "outputId": "805f7f4b-3d29-4199-d3f4-1b33b18ecd5e",
        "executionInfo": {
          "status": "ok",
          "timestamp": 1522749402166,
          "user_tz": -330,
          "elapsed": 768,
          "user": {
            "displayName": "Rony Roy",
            "photoUrl": "https://lh3.googleusercontent.com/a/default-user=s128",
            "userId": "111772801988052207421"
          }
        }
      },
      "cell_type": "code",
      "source": [
        "n_hidden, n_fac, cs, vocab_size"
      ],
      "execution_count": 226,
      "outputs": [
        {
          "output_type": "execute_result",
          "data": {
            "text/plain": [
              "(256, 42, 8, 86)"
            ]
          },
          "metadata": {
            "tags": []
          },
          "execution_count": 226
        }
      ]
    },
    {
      "metadata": {
        "id": "jUkvsEbDiC38",
        "colab_type": "text"
      },
      "cell_type": "markdown",
      "source": [
        "To convert our previous keras model into a sequence model,   \n",
        "simply add the 'return_sequences=True' parameter, and add TimeDistributed() around our dense layer."
      ]
    },
    {
      "metadata": {
        "id": "qdV0H_imym0r",
        "colab_type": "code",
        "colab": {
          "autoexec": {
            "startup": false,
            "wait_interval": 0
          }
        }
      },
      "cell_type": "code",
      "source": [
        "from keras.layers import TimeDistributed"
      ],
      "execution_count": 0,
      "outputs": []
    },
    {
      "metadata": {
        "id": "w1ACYfoziC38",
        "colab_type": "code",
        "colab": {
          "autoexec": {
            "startup": false,
            "wait_interval": 0
          },
          "output_extras": [
            {
              "item_id": 1
            }
          ],
          "base_uri": "https://localhost:8080/",
          "height": 71
        },
        "outputId": "1f5a1b0a-a3df-487b-8f5c-a22e41337acd",
        "executionInfo": {
          "status": "ok",
          "timestamp": 1522749046779,
          "user_tz": -330,
          "elapsed": 869,
          "user": {
            "displayName": "Rony Roy",
            "photoUrl": "https://lh3.googleusercontent.com/a/default-user=s128",
            "userId": "111772801988052207421"
          }
        }
      },
      "cell_type": "code",
      "source": [
        "model=Sequential([\n",
        "        Embedding(vocab_size, n_fac, input_length=cs),\n",
        "        SimpleRNN(n_hidden, return_sequences=True, activation='relu', inner_init='identity'),# return sequences set to true\n",
        "        TimeDistributed(Dense(vocab_size, activation='softmax')),\n",
        "    ])"
      ],
      "execution_count": 213,
      "outputs": [
        {
          "output_type": "stream",
          "text": [
            "/usr/local/lib/python2.7/dist-packages/ipykernel_launcher.py:3: UserWarning: Update your `SimpleRNN` call to the Keras 2 API: `SimpleRNN(256, return_sequences=True, activation=\"relu\", recurrent_initializer=\"identity\")`\n",
            "  This is separate from the ipykernel package so we can avoid doing imports until\n"
          ],
          "name": "stderr"
        }
      ]
    },
    {
      "metadata": {
        "id": "qG88obYziC39",
        "colab_type": "code",
        "colab": {
          "autoexec": {
            "startup": false,
            "wait_interval": 0
          },
          "output_extras": [
            {
              "item_id": 1
            }
          ],
          "base_uri": "https://localhost:8080/",
          "height": 235
        },
        "outputId": "ff6816e3-ccb9-460e-9462-cd2b164f2624",
        "executionInfo": {
          "status": "ok",
          "timestamp": 1522749060117,
          "user_tz": -330,
          "elapsed": 1048,
          "user": {
            "displayName": "Rony Roy",
            "photoUrl": "https://lh3.googleusercontent.com/a/default-user=s128",
            "userId": "111772801988052207421"
          }
        }
      },
      "cell_type": "code",
      "source": [
        "model.summary()"
      ],
      "execution_count": 214,
      "outputs": [
        {
          "output_type": "stream",
          "text": [
            "_________________________________________________________________\n",
            "Layer (type)                 Output Shape              Param #   \n",
            "=================================================================\n",
            "embedding_10 (Embedding)     (None, 8, 42)             3612      \n",
            "_________________________________________________________________\n",
            "simple_rnn_4 (SimpleRNN)     (None, 8, 256)            76544     \n",
            "_________________________________________________________________\n",
            "time_distributed_1 (TimeDist (None, 8, 86)             22102     \n",
            "=================================================================\n",
            "Total params: 102,258\n",
            "Trainable params: 102,258\n",
            "Non-trainable params: 0\n",
            "_________________________________________________________________\n"
          ],
          "name": "stdout"
        }
      ]
    },
    {
      "metadata": {
        "id": "DJB-O12piC3_",
        "colab_type": "code",
        "colab": {
          "autoexec": {
            "startup": false,
            "wait_interval": 0
          }
        }
      },
      "cell_type": "code",
      "source": [
        "model.compile(loss='sparse_categorical_crossentropy', optimizer=Adam())"
      ],
      "execution_count": 0,
      "outputs": []
    },
    {
      "metadata": {
        "id": "1Khc80rXiC4B",
        "colab_type": "code",
        "colab": {
          "autoexec": {
            "startup": false,
            "wait_interval": 0
          },
          "output_extras": [
            {
              "item_id": 1
            }
          ],
          "base_uri": "https://localhost:8080/",
          "height": 34
        },
        "outputId": "f399598c-0ed9-4747-eeb7-f35c2b142d5b",
        "executionInfo": {
          "status": "ok",
          "timestamp": 1522749063164,
          "user_tz": -330,
          "elapsed": 870,
          "user": {
            "displayName": "Rony Roy",
            "photoUrl": "https://lh3.googleusercontent.com/a/default-user=s128",
            "userId": "111772801988052207421"
          }
        }
      },
      "cell_type": "code",
      "source": [
        "xs[0].shape"
      ],
      "execution_count": 216,
      "outputs": [
        {
          "output_type": "execute_result",
          "data": {
            "text/plain": [
              "(75110,)"
            ]
          },
          "metadata": {
            "tags": []
          },
          "execution_count": 216
        }
      ]
    },
    {
      "metadata": {
        "id": "nFDWbL9WiC4E",
        "colab_type": "code",
        "colab": {
          "autoexec": {
            "startup": false,
            "wait_interval": 0
          }
        }
      },
      "cell_type": "code",
      "source": [
        "x_rnn=np.stack(np.squeeze(xs), axis=1) # dimensionality changes to fit into the rnn inputs.. gotta chk these out more..\n",
        "y_rnn=np.atleast_3d(np.stack(ys, axis=1))"
      ],
      "execution_count": 0,
      "outputs": []
    },
    {
      "metadata": {
        "id": "LretIMWviC4G",
        "colab_type": "code",
        "colab": {
          "autoexec": {
            "startup": false,
            "wait_interval": 0
          },
          "output_extras": [
            {
              "item_id": 1
            }
          ],
          "base_uri": "https://localhost:8080/",
          "height": 34
        },
        "outputId": "42c9004a-f623-4841-eac8-1b9d801cab51",
        "executionInfo": {
          "status": "ok",
          "timestamp": 1522749149077,
          "user_tz": -330,
          "elapsed": 947,
          "user": {
            "displayName": "Rony Roy",
            "photoUrl": "https://lh3.googleusercontent.com/a/default-user=s128",
            "userId": "111772801988052207421"
          }
        }
      },
      "cell_type": "code",
      "source": [
        "x_rnn.shape, y_rnn.shape"
      ],
      "execution_count": 222,
      "outputs": [
        {
          "output_type": "execute_result",
          "data": {
            "text/plain": [
              "((75110, 8), (75110, 8, 1))"
            ]
          },
          "metadata": {
            "tags": []
          },
          "execution_count": 222
        }
      ]
    },
    {
      "metadata": {
        "id": "vWUOTJX2iC4I",
        "colab_type": "code",
        "colab": {
          "autoexec": {
            "startup": false,
            "wait_interval": 0
          },
          "output_extras": [
            {
              "item_id": 128
            },
            {
              "item_id": 201
            },
            {
              "item_id": 236
            },
            {
              "item_id": 288
            },
            {
              "item_id": 333
            },
            {
              "item_id": 420
            },
            {
              "item_id": 421
            }
          ],
          "base_uri": "https://localhost:8080/",
          "height": 303
        },
        "outputId": "e9ea04c7-f8cf-4910-87ad-3355c057fad6",
        "executionInfo": {
          "status": "ok",
          "timestamp": 1522749398312,
          "user_tz": -330,
          "elapsed": 248365,
          "user": {
            "displayName": "Rony Roy",
            "photoUrl": "https://lh3.googleusercontent.com/a/default-user=s128",
            "userId": "111772801988052207421"
          }
        }
      },
      "cell_type": "code",
      "source": [
        "model.fit(x_rnn, y_rnn, batch_size=64, nb_epoch=8)"
      ],
      "execution_count": 223,
      "outputs": [
        {
          "output_type": "stream",
          "text": [
            "Epoch 1/8\n",
            "75110/75110 [==============================] - 31s 411us/step - loss: 2.4303\n",
            "Epoch 2/8\n",
            "42880/75110 [================>.............] - ETA: 13s - loss: 2.0304"
          ],
          "name": "stdout"
        },
        {
          "output_type": "stream",
          "text": [
            "75110/75110 [==============================] - 31s 410us/step - loss: 1.9982\n",
            "Epoch 3/8\n",
            "69888/75110 [==========================>...] - ETA: 2s - loss: 1.8845"
          ],
          "name": "stdout"
        },
        {
          "output_type": "stream",
          "text": [
            "75110/75110 [==============================] - 31s 410us/step - loss: 1.8830\n",
            "Epoch 4/8\n",
            "75110/75110 [==============================] - 31s 411us/step - loss: 1.8221\n",
            "Epoch 5/8\n",
            " 3520/75110 [>.............................] - ETA: 29s - loss: 1.7960"
          ],
          "name": "stdout"
        },
        {
          "output_type": "stream",
          "text": [
            "75110/75110 [==============================] - 31s 412us/step - loss: 1.7827\n",
            "Epoch 6/8\n",
            "50688/75110 [===================>..........] - ETA: 10s - loss: 1.7579"
          ],
          "name": "stdout"
        },
        {
          "output_type": "stream",
          "text": [
            "75110/75110 [==============================] - 31s 414us/step - loss: 1.7560\n",
            "Epoch 7/8\n",
            "73280/75110 [============================>.] - ETA: 0s - loss: 1.7362"
          ],
          "name": "stdout"
        },
        {
          "output_type": "stream",
          "text": [
            "75110/75110 [==============================] - 31s 409us/step - loss: 1.7362\n",
            "Epoch 8/8\n",
            "75110/75110 [==============================] - 31s 414us/step - loss: 1.7203\n"
          ],
          "name": "stdout"
        },
        {
          "output_type": "execute_result",
          "data": {
            "text/plain": [
              "<keras.callbacks.History at 0x7f0c3eb49a90>"
            ]
          },
          "metadata": {
            "tags": []
          },
          "execution_count": 223
        }
      ]
    },
    {
      "metadata": {
        "id": "7SH2BCDniC4R",
        "colab_type": "code",
        "colab": {
          "autoexec": {
            "startup": false,
            "wait_interval": 0
          }
        }
      },
      "cell_type": "code",
      "source": [
        "def get_nexts_keras(inp):\n",
        "    idxs = [char_indices[c] for c in inp]\n",
        "    arr = np.array(idxs)[np.newaxis,:]\n",
        "    p = model.predict(arr)[0]\n",
        "    print(list(inp))\n",
        "    return [chars[np.argmax(o)] for o in p]"
      ],
      "execution_count": 0,
      "outputs": []
    },
    {
      "metadata": {
        "id": "rI7JuBA3iC4T",
        "colab_type": "code",
        "colab": {
          "autoexec": {
            "startup": false,
            "wait_interval": 0
          },
          "output_extras": [
            {
              "item_id": 1
            },
            {
              "item_id": 2
            }
          ],
          "base_uri": "https://localhost:8080/",
          "height": 51
        },
        "outputId": "9dedd739-753b-47c2-e82d-34dc2646c3dc",
        "executionInfo": {
          "status": "ok",
          "timestamp": 1522749400285,
          "user_tz": -330,
          "elapsed": 805,
          "user": {
            "displayName": "Rony Roy",
            "photoUrl": "https://lh3.googleusercontent.com/a/default-user=s128",
            "userId": "111772801988052207421"
          }
        }
      },
      "cell_type": "code",
      "source": [
        "get_nexts_keras(' this is')"
      ],
      "execution_count": 225,
      "outputs": [
        {
          "output_type": "stream",
          "text": [
            "[' ', 't', 'h', 'i', 's', ' ', 'i', 's']\n"
          ],
          "name": "stdout"
        },
        {
          "output_type": "execute_result",
          "data": {
            "text/plain": [
              "['t', 'h', 'e', 'n', ' ', 'i', 'n', ' ']"
            ]
          },
          "metadata": {
            "tags": []
          },
          "execution_count": 225
        }
      ]
    },
    {
      "metadata": {
        "id": "u9-sS8oLiC4V",
        "colab_type": "text"
      },
      "cell_type": "markdown",
      "source": [
        "### One-hot sequence model with keras"
      ]
    },
    {
      "metadata": {
        "id": "aSRVJKGxiC4V",
        "colab_type": "text"
      },
      "cell_type": "markdown",
      "source": [
        "This is the keras version of the theano model that we're about to create. : why theano..?\n",
        "   \n",
        "   theano doenst require a rolled out version of the model.. as we'll see later on"
      ]
    },
    {
      "metadata": {
        "id": "XVbYMZ9riC4W",
        "colab_type": "code",
        "colab": {
          "autoexec": {
            "startup": false,
            "wait_interval": 0
          },
          "output_extras": [
            {
              "item_id": 1
            }
          ],
          "base_uri": "https://localhost:8080/",
          "height": 71
        },
        "outputId": "253db76d-e972-4139-c909-e5e3ddf43684",
        "executionInfo": {
          "status": "ok",
          "timestamp": 1522749416322,
          "user_tz": -330,
          "elapsed": 822,
          "user": {
            "displayName": "Rony Roy",
            "photoUrl": "https://lh3.googleusercontent.com/a/default-user=s128",
            "userId": "111772801988052207421"
          }
        }
      },
      "cell_type": "code",
      "source": [
        "model=Sequential([\n",
        "        SimpleRNN(n_hidden, return_sequences=True, input_shape=(cs, vocab_size),\n",
        "                  activation='relu', inner_init='identity'),\n",
        "        TimeDistributed(Dense(vocab_size, activation='softmax')),\n",
        "    ])\n",
        "model.compile(loss='categorical_crossentropy', optimizer=Adam()) # observe the different type of loss used"
      ],
      "execution_count": 227,
      "outputs": [
        {
          "output_type": "stream",
          "text": [
            "/usr/local/lib/python2.7/dist-packages/ipykernel_launcher.py:3: UserWarning: Update your `SimpleRNN` call to the Keras 2 API: `SimpleRNN(256, return_sequences=True, activation=\"relu\", input_shape=(8, 86), recurrent_initializer=\"identity\")`\n",
            "  This is separate from the ipykernel package so we can avoid doing imports until\n"
          ],
          "name": "stderr"
        }
      ]
    },
    {
      "metadata": {
        "id": "qMK_YhwvEau1",
        "colab_type": "code",
        "colab": {
          "autoexec": {
            "startup": false,
            "wait_interval": 0
          }
        }
      },
      "cell_type": "code",
      "source": [
        "from keras.utils.np_utils import to_categorical"
      ],
      "execution_count": 0,
      "outputs": []
    },
    {
      "metadata": {
        "id": "eis57-O4iC4a",
        "colab_type": "code",
        "colab": {
          "autoexec": {
            "startup": false,
            "wait_interval": 0
          },
          "output_extras": [
            {
              "item_id": 1
            }
          ],
          "base_uri": "https://localhost:8080/",
          "height": 34
        },
        "outputId": "d81edb42-92fd-4e4d-b208-bd5f991cbef3",
        "executionInfo": {
          "status": "ok",
          "timestamp": 1522749420768,
          "user_tz": -330,
          "elapsed": 3352,
          "user": {
            "displayName": "Rony Roy",
            "photoUrl": "https://lh3.googleusercontent.com/a/default-user=s128",
            "userId": "111772801988052207421"
          }
        }
      },
      "cell_type": "code",
      "source": [
        "oh_ys = [to_categorical(o, vocab_size) for o in ys] # no embedding layer.. hence one hotting the inputs and outputs.. :)\n",
        "oh_y_rnn=np.stack(oh_ys, axis=1)\n",
        "\n",
        "oh_xs = [to_categorical(o, vocab_size) for o in xs]\n",
        "oh_x_rnn=np.stack(oh_xs, axis=1)\n",
        "\n",
        "oh_x_rnn.shape, oh_y_rnn.shape"
      ],
      "execution_count": 229,
      "outputs": [
        {
          "output_type": "execute_result",
          "data": {
            "text/plain": [
              "((75110, 8, 86), (75110, 8, 86))"
            ]
          },
          "metadata": {
            "tags": []
          },
          "execution_count": 229
        }
      ]
    },
    {
      "metadata": {
        "id": "Ax9ucIZriC4d",
        "colab_type": "code",
        "colab": {
          "autoexec": {
            "startup": false,
            "wait_interval": 0
          },
          "output_extras": [
            {
              "item_id": 180
            },
            {
              "item_id": 275
            },
            {
              "item_id": 408
            },
            {
              "item_id": 498
            },
            {
              "item_id": 615
            },
            {
              "item_id": 669
            },
            {
              "item_id": 673
            },
            {
              "item_id": 674
            }
          ],
          "base_uri": "https://localhost:8080/",
          "height": 303
        },
        "outputId": "2d48eef5-bc40-4a2d-acef-4bbe57351478",
        "executionInfo": {
          "status": "ok",
          "timestamp": 1522749747873,
          "user_tz": -330,
          "elapsed": 327016,
          "user": {
            "displayName": "Rony Roy",
            "photoUrl": "https://lh3.googleusercontent.com/a/default-user=s128",
            "userId": "111772801988052207421"
          }
        }
      },
      "cell_type": "code",
      "source": [
        "model.fit(oh_x_rnn, oh_y_rnn, batch_size=64, nb_epoch=8)"
      ],
      "execution_count": 230,
      "outputs": [
        {
          "output_type": "stream",
          "text": [
            "Epoch 1/8\n",
            "75110/75110 [==============================] - 41s 551us/step - loss: 2.4487\n",
            "Epoch 2/8\n",
            "38208/75110 [==============>...............] - ETA: 19s - loss: 2.0754"
          ],
          "name": "stdout"
        },
        {
          "output_type": "stream",
          "text": [
            "75110/75110 [==============================] - 41s 541us/step - loss: 2.0404\n",
            "Epoch 3/8\n"
          ],
          "name": "stdout"
        },
        {
          "output_type": "stream",
          "text": [
            "75110/75110 [==============================] - 40s 538us/step - loss: 1.9273\n",
            "Epoch 4/8\n",
            "73664/75110 [============================>.] - ETA: 0s - loss: 1.8620"
          ],
          "name": "stdout"
        },
        {
          "output_type": "stream",
          "text": [
            "75110/75110 [==============================] - 41s 540us/step - loss: 1.8619\n",
            "Epoch 5/8\n",
            "75110/75110 [==============================] - 41s 543us/step - loss: 1.8191\n",
            "Epoch 6/8\n",
            " 1856/75110 [..............................] - ETA: 39s - loss: 1.7942"
          ],
          "name": "stdout"
        },
        {
          "output_type": "stream",
          "text": [
            "75110/75110 [==============================] - 41s 542us/step - loss: 1.7873\n",
            "Epoch 7/8\n",
            "47296/75110 [=================>............] - ETA: 15s - loss: 1.7638"
          ],
          "name": "stdout"
        },
        {
          "output_type": "stream",
          "text": [
            "75110/75110 [==============================] - 41s 541us/step - loss: 1.7637\n",
            "Epoch 8/8\n",
            "68032/75110 [==========================>...] - ETA: 3s - loss: 1.7447"
          ],
          "name": "stdout"
        },
        {
          "output_type": "stream",
          "text": [
            "75110/75110 [==============================] - 41s 544us/step - loss: 1.7449\n"
          ],
          "name": "stdout"
        },
        {
          "output_type": "execute_result",
          "data": {
            "text/plain": [
              "<keras.callbacks.History at 0x7f0c3eacdc90>"
            ]
          },
          "metadata": {
            "tags": []
          },
          "execution_count": 230
        }
      ]
    },
    {
      "metadata": {
        "id": "5pWdltLViC4g",
        "colab_type": "code",
        "colab": {
          "autoexec": {
            "startup": false,
            "wait_interval": 0
          }
        }
      },
      "cell_type": "code",
      "source": [
        "def get_nexts_oh(inp):\n",
        "    idxs = np.array([char_indices[c] for c in inp])\n",
        "    arr = to_categorical(idxs, vocab_size)\n",
        "    p = model.predict(arr[np.newaxis,:])[0]\n",
        "    print(list(inp))\n",
        "    return [chars[np.argmax(o)] for o in p]"
      ],
      "execution_count": 0,
      "outputs": []
    },
    {
      "metadata": {
        "id": "QKoADbVfiC4i",
        "colab_type": "code",
        "colab": {
          "autoexec": {
            "startup": false,
            "wait_interval": 0
          },
          "output_extras": [
            {
              "item_id": 1
            },
            {
              "item_id": 2
            }
          ],
          "base_uri": "https://localhost:8080/",
          "height": 51
        },
        "outputId": "d1046627-986e-42b5-95bc-0f5e7441eb28",
        "executionInfo": {
          "status": "ok",
          "timestamp": 1522749750003,
          "user_tz": -330,
          "elapsed": 762,
          "user": {
            "displayName": "Rony Roy",
            "photoUrl": "https://lh3.googleusercontent.com/a/default-user=s128",
            "userId": "111772801988052207421"
          }
        }
      },
      "cell_type": "code",
      "source": [
        "get_nexts_oh(' this is')"
      ],
      "execution_count": 232,
      "outputs": [
        {
          "output_type": "stream",
          "text": [
            "[' ', 't', 'h', 'i', 's', ' ', 'i', 's']\n"
          ],
          "name": "stdout"
        },
        {
          "output_type": "execute_result",
          "data": {
            "text/plain": [
              "['t', 'h', 'e', 'n', ' ', 'c', 'n', ' ']"
            ]
          },
          "metadata": {
            "tags": []
          },
          "execution_count": 232
        }
      ]
    },
    {
      "metadata": {
        "id": "cRN6jwrRIOR2",
        "colab_type": "text"
      },
      "cell_type": "markdown",
      "source": [
        "we get the same  answer as the one with the embedding layer..  \n",
        "and the non on ehot encoded version of the model above"
      ]
    },
    {
      "metadata": {
        "id": "ODCAXtRbiC4n",
        "colab_type": "text"
      },
      "cell_type": "markdown",
      "source": [
        "## Stateful model with keras"
      ]
    },
    {
      "metadata": {
        "id": "4Kx2jWiTiC4n",
        "colab_type": "code",
        "colab": {
          "autoexec": {
            "startup": false,
            "wait_interval": 0
          }
        }
      },
      "cell_type": "code",
      "source": [
        "bs=64"
      ],
      "execution_count": 0,
      "outputs": []
    },
    {
      "metadata": {
        "id": "J0co7mPWiC4o",
        "colab_type": "text"
      },
      "cell_type": "markdown",
      "source": [
        "A stateful model is easy to create (just add \"stateful=True\") but harder to train. We had to add batchnorm and use LSTM to get reasonable results.  \n",
        "When using stateful in keras, you have to also add 'batch_input_shape' to the first layer, and fix the batch size there.  \n",
        "Stateful: do not reset the hidding  layers' activations to 0 after a pass throug.. thus getting/capturing long term dependencies.."
      ]
    },
    {
      "metadata": {
        "id": "bdyXj0_aHeAD",
        "colab_type": "code",
        "colab": {
          "autoexec": {
            "startup": false,
            "wait_interval": 0
          }
        }
      },
      "cell_type": "code",
      "source": [
        "from keras.layers.normalization import BatchNormalization\n",
        "from keras.layers import  LSTM, Bidirectional"
      ],
      "execution_count": 0,
      "outputs": []
    },
    {
      "metadata": {
        "id": "dmBZKZv1iC4o",
        "colab_type": "code",
        "colab": {
          "autoexec": {
            "startup": false,
            "wait_interval": 0
          }
        }
      },
      "cell_type": "code",
      "source": [
        "model=Sequential([\n",
        "        Embedding(vocab_size, n_fac, input_length=cs, batch_input_shape=(bs,8)),\n",
        "        BatchNormalization(),\n",
        "        LSTM(n_hidden, return_sequences=True, stateful=True),\n",
        "        TimeDistributed(Dense(vocab_size, activation='softmax')),\n",
        "    ])"
      ],
      "execution_count": 0,
      "outputs": []
    },
    {
      "metadata": {
        "id": "wxFe3c9yiC4r",
        "colab_type": "code",
        "colab": {
          "autoexec": {
            "startup": false,
            "wait_interval": 0
          }
        }
      },
      "cell_type": "code",
      "source": [
        "model.compile(loss='sparse_categorical_crossentropy', optimizer=Adam())"
      ],
      "execution_count": 0,
      "outputs": []
    },
    {
      "metadata": {
        "id": "O3KcPs5uiC4r",
        "colab_type": "text"
      },
      "cell_type": "markdown",
      "source": [
        "Since we're using a fixed batch shape, we have to ensure our inputs and outputs are a even multiple of the batch size."
      ]
    },
    {
      "metadata": {
        "id": "-kqlQ-CmiC4s",
        "colab_type": "code",
        "colab": {
          "autoexec": {
            "startup": false,
            "wait_interval": 0
          }
        }
      },
      "cell_type": "code",
      "source": [
        "mx = len(x_rnn)//bs*bs"
      ],
      "execution_count": 0,
      "outputs": []
    },
    {
      "metadata": {
        "id": "0pWFpuW78YjX",
        "colab_type": "text"
      },
      "cell_type": "markdown",
      "source": [
        "We also set shiffle to false becasue : default is true..  \n",
        "and at that default state. the sequences of 8 characters (or whatever other number) are being passed at random..  \n",
        "This setting along with the stateful setting.. as mentioned above.. would leave the weights unchanged after each pass of 8 characters  \n",
        "Takes a lot of time.. since its not randomised.. and the stateful parameter is siet to true.."
      ]
    },
    {
      "metadata": {
        "id": "Uu5ml4tTiC4t",
        "colab_type": "code",
        "colab": {
          "autoexec": {
            "startup": false,
            "wait_interval": 0
          },
          "output_extras": [
            {
              "item_id": 124
            },
            {
              "item_id": 246
            },
            {
              "item_id": 382
            },
            {
              "item_id": 464
            },
            {
              "item_id": 465
            }
          ],
          "base_uri": "https://localhost:8080/",
          "height": 168
        },
        "outputId": "da7610e1-f49d-4a14-9559-8d00df4e4da6",
        "executionInfo": {
          "status": "ok",
          "timestamp": 1522750327530,
          "user_tz": -330,
          "elapsed": 269434,
          "user": {
            "displayName": "Rony Roy",
            "photoUrl": "https://lh3.googleusercontent.com/a/default-user=s128",
            "userId": "111772801988052207421"
          }
        }
      },
      "cell_type": "code",
      "source": [
        "model.fit(x_rnn[:mx], y_rnn[:mx], batch_size=bs, nb_epoch=4, shuffle=False)"
      ],
      "execution_count": 239,
      "outputs": [
        {
          "output_type": "stream",
          "text": [
            "Epoch 1/4\n",
            "75072/75072 [==============================] - 68s 901us/step - loss: 2.2904\n",
            "Epoch 2/4\n",
            " 2560/75072 [>.............................] - ETA: 1:05 - loss: 2.1701"
          ],
          "name": "stdout"
        },
        {
          "output_type": "stream",
          "text": [
            "75072/75072 [==============================] - 67s 893us/step - loss: 2.0338\n",
            "Epoch 3/4\n",
            " 8320/75072 [==>...........................] - ETA: 59s - loss: 2.0190"
          ],
          "name": "stdout"
        },
        {
          "output_type": "stream",
          "text": [
            "75072/75072 [==============================] - 67s 888us/step - loss: 1.9592\n",
            "Epoch 4/4\n",
            "10944/75072 [===>..........................] - ETA: 56s - loss: 1.9550"
          ],
          "name": "stdout"
        },
        {
          "output_type": "stream",
          "text": [
            "75072/75072 [==============================] - 67s 887us/step - loss: 1.9171\n"
          ],
          "name": "stdout"
        },
        {
          "output_type": "execute_result",
          "data": {
            "text/plain": [
              "<keras.callbacks.History at 0x7f0c3e130fd0>"
            ]
          },
          "metadata": {
            "tags": []
          },
          "execution_count": 239
        }
      ]
    },
    {
      "metadata": {
        "id": "83n0uv3piC4v",
        "colab_type": "code",
        "colab": {
          "autoexec": {
            "startup": false,
            "wait_interval": 0
          }
        }
      },
      "cell_type": "code",
      "source": [
        "model.optimizer.lr=1e-4"
      ],
      "execution_count": 0,
      "outputs": []
    },
    {
      "metadata": {
        "id": "lK-UHn48iC4w",
        "colab_type": "code",
        "colab": {
          "autoexec": {
            "startup": false,
            "wait_interval": 0
          },
          "output_extras": [
            {
              "item_id": 69
            },
            {
              "item_id": 142
            },
            {
              "item_id": 212
            },
            {
              "item_id": 276
            },
            {
              "item_id": 277
            }
          ],
          "base_uri": "https://localhost:8080/",
          "height": 168
        },
        "outputId": "ba709768-6ab4-4f3f-ad10-d4aa272ef462",
        "executionInfo": {
          "status": "ok",
          "timestamp": 1522750594949,
          "user_tz": -330,
          "elapsed": 266474,
          "user": {
            "displayName": "Rony Roy",
            "photoUrl": "https://lh3.googleusercontent.com/a/default-user=s128",
            "userId": "111772801988052207421"
          }
        }
      },
      "cell_type": "code",
      "source": [
        "model.fit(x_rnn[:mx], y_rnn[:mx], batch_size=bs, nb_epoch=4, shuffle=False)"
      ],
      "execution_count": 241,
      "outputs": [
        {
          "output_type": "stream",
          "text": [
            "Epoch 1/4\n",
            "75072/75072 [==============================] - 66s 884us/step - loss: 1.8886\n",
            "Epoch 2/4\n",
            " 2304/75072 [..............................] - ETA: 1:04 - loss: 1.9472"
          ],
          "name": "stdout"
        },
        {
          "output_type": "stream",
          "text": [
            "75072/75072 [==============================] - 67s 886us/step - loss: 1.8680\n",
            "Epoch 3/4\n",
            " 8192/75072 [==>...........................] - ETA: 59s - loss: 1.8917"
          ],
          "name": "stdout"
        },
        {
          "output_type": "stream",
          "text": [
            "75072/75072 [==============================] - 67s 887us/step - loss: 1.8518\n",
            "Epoch 4/4\n",
            "10880/75072 [===>..........................] - ETA: 57s - loss: 1.8650"
          ],
          "name": "stdout"
        },
        {
          "output_type": "stream",
          "text": [
            "75072/75072 [==============================] - 66s 885us/step - loss: 1.8382\n"
          ],
          "name": "stdout"
        },
        {
          "output_type": "execute_result",
          "data": {
            "text/plain": [
              "<keras.callbacks.History at 0x7f0c3e6795d0>"
            ]
          },
          "metadata": {
            "tags": []
          },
          "execution_count": 241
        }
      ]
    },
    {
      "metadata": {
        "id": "jQEBzEiBiC4x",
        "colab_type": "code",
        "colab": {
          "autoexec": {
            "startup": false,
            "wait_interval": 0
          },
          "output_extras": [
            {
              "item_id": 168
            },
            {
              "item_id": 298
            },
            {
              "item_id": 418
            },
            {
              "item_id": 485
            },
            {
              "item_id": 486
            }
          ],
          "base_uri": "https://localhost:8080/",
          "height": 168
        },
        "outputId": "cf57547b-f051-4eff-c770-6111b6b80587",
        "executionInfo": {
          "status": "ok",
          "timestamp": 1522750861881,
          "user_tz": -330,
          "elapsed": 266720,
          "user": {
            "displayName": "Rony Roy",
            "photoUrl": "https://lh3.googleusercontent.com/a/default-user=s128",
            "userId": "111772801988052207421"
          }
        }
      },
      "cell_type": "code",
      "source": [
        "model.fit(x_rnn[:mx], y_rnn[:mx], batch_size=bs, nb_epoch=4, shuffle=False)"
      ],
      "execution_count": 242,
      "outputs": [
        {
          "output_type": "stream",
          "text": [
            "Epoch 1/4\n",
            "75072/75072 [==============================] - 66s 884us/step - loss: 1.8268\n",
            "Epoch 2/4\n",
            " 2304/75072 [..............................] - ETA: 1:05 - loss: 1.8861"
          ],
          "name": "stdout"
        },
        {
          "output_type": "stream",
          "text": [
            "75072/75072 [==============================] - 66s 884us/step - loss: 1.8170\n",
            "Epoch 3/4\n",
            " 8192/75072 [==>...........................] - ETA: 58s - loss: 1.8439"
          ],
          "name": "stdout"
        },
        {
          "output_type": "stream",
          "text": [
            "75072/75072 [==============================] - 66s 884us/step - loss: 1.8081\n",
            "Epoch 4/4\n",
            "10880/75072 [===>..........................] - ETA: 57s - loss: 1.8239"
          ],
          "name": "stdout"
        },
        {
          "output_type": "stream",
          "text": [
            "75072/75072 [==============================] - 67s 894us/step - loss: 1.8000\n"
          ],
          "name": "stdout"
        },
        {
          "output_type": "execute_result",
          "data": {
            "text/plain": [
              "<keras.callbacks.History at 0x7f0c3abbe250>"
            ]
          },
          "metadata": {
            "tags": []
          },
          "execution_count": 242
        }
      ]
    },
    {
      "metadata": {
        "id": "YfS_GVnvBGDS",
        "colab_type": "code",
        "colab": {
          "autoexec": {
            "startup": false,
            "wait_interval": 0
          }
        }
      },
      "cell_type": "code",
      "source": [
        "# how to test the above..?"
      ],
      "execution_count": 0,
      "outputs": []
    },
    {
      "metadata": {
        "id": "YSsF0wUAE47T",
        "colab_type": "text"
      },
      "cell_type": "markdown",
      "source": [
        "Check out the notebook Char RNN"
      ]
    },
    {
      "metadata": {
        "id": "LXJmKdkjIkhw",
        "colab_type": "code",
        "colab": {
          "autoexec": {
            "startup": false,
            "wait_interval": 0
          }
        }
      },
      "cell_type": "code",
      "source": [
        "# theano is the back end.. we've reached apoint where.. you keep adding more and more stuff/layers on top of keras.. and it becomes easier to use theano itself.. :/"
      ],
      "execution_count": 0,
      "outputs": []
    },
    {
      "metadata": {
        "id": "nU3mjOw6SxTn",
        "colab_type": "text"
      },
      "cell_type": "markdown",
      "source": [
        "## Theano RNN"
      ]
    },
    {
      "metadata": {
        "id": "9iV6Fw7GSxTn",
        "colab_type": "code",
        "colab": {
          "autoexec": {
            "startup": false,
            "wait_interval": 0
          }
        }
      },
      "cell_type": "code",
      "source": [
        "n_input = vocab_size\n",
        "n_output = vocab_size"
      ],
      "execution_count": 0,
      "outputs": []
    },
    {
      "metadata": {
        "id": "olu2GacVSxTo",
        "colab_type": "text"
      },
      "cell_type": "markdown",
      "source": [
        "Using raw theano, we have to create our weight matrices and bias vectors ourselves - here are the functions we'll use to do so (using glorot initialization).\n",
        "\n",
        "The return values are wrapped in `shared()`, which is how we tell theano that it can manage this data (copying it to and from the GPU as necessary)."
      ]
    },
    {
      "metadata": {
        "id": "kgfyewXNSxTo",
        "colab_type": "code",
        "colab": {
          "autoexec": {
            "startup": false,
            "wait_interval": 0
          }
        }
      },
      "cell_type": "code",
      "source": [
        "def init_wgts(rows, cols): \n",
        "    scale = math.sqrt(2/rows)\n",
        "    return shared(normal(scale=scale, size=(rows, cols)).astype(np.float32))\n",
        "def init_bias(rows): \n",
        "    return shared(np.zeros(rows, dtype=np.float32))"
      ],
      "execution_count": 0,
      "outputs": []
    },
    {
      "metadata": {
        "id": "DMNo7Nb2SxTq",
        "colab_type": "text"
      },
      "cell_type": "markdown",
      "source": [
        "We return the weights and biases together as a tuple. For the hidden weights, we'll use an identity initialization (as recommended by [Hinton](https://arxiv.org/abs/1504.00941).)"
      ]
    },
    {
      "metadata": {
        "id": "9XwEVKtvSxTq",
        "colab_type": "code",
        "colab": {
          "autoexec": {
            "startup": false,
            "wait_interval": 0
          }
        }
      },
      "cell_type": "code",
      "source": [
        "def wgts_and_bias(n_in, n_out): \n",
        "    return init_wgts(n_in, n_out), init_bias(n_out)\n",
        "def id_and_bias(n): \n",
        "    return shared(np.eye(n, dtype=np.float32)), init_bias(n)"
      ],
      "execution_count": 0,
      "outputs": []
    },
    {
      "metadata": {
        "id": "npDE8J65SxTq",
        "colab_type": "text"
      },
      "cell_type": "markdown",
      "source": [
        "Theano doesn't actually do any computations until we explicitly compile and evaluate the function (at which point it'll be turned into CUDA code and sent off to the GPU). So our job is to describe the computations that we'll want theano to do - the first step is to tell theano what inputs we'll be providing to our computation:"
      ]
    },
    {
      "metadata": {
        "id": "romaa4AUSxTq",
        "colab_type": "code",
        "colab": {
          "autoexec": {
            "startup": false,
            "wait_interval": 0
          }
        }
      },
      "cell_type": "code",
      "source": [
        "t_inp = T.matrix('inp')\n",
        "t_outp = T.matrix('outp')\n",
        "t_h0 = T.vector('h0')\n",
        "lr = T.scalar('lr')\n",
        "\n",
        "all_args = [t_h0, t_inp, t_outp, lr]"
      ],
      "execution_count": 0,
      "outputs": []
    },
    {
      "metadata": {
        "id": "PLz1flkjSxTr",
        "colab_type": "text"
      },
      "cell_type": "markdown",
      "source": [
        "Now we're ready to create our intial weight matrices."
      ]
    },
    {
      "metadata": {
        "id": "M2uAhzspSxTr",
        "colab_type": "code",
        "colab": {
          "autoexec": {
            "startup": false,
            "wait_interval": 0
          }
        }
      },
      "cell_type": "code",
      "source": [
        "W_h = id_and_bias(n_hidden)\n",
        "W_x = wgts_and_bias(n_input, n_hidden)\n",
        "W_y = wgts_and_bias(n_hidden, n_output)\n",
        "w_all = list(chain.from_iterable([W_h, W_x, W_y]))"
      ],
      "execution_count": 0,
      "outputs": []
    },
    {
      "metadata": {
        "id": "CbIneNuqSxTs",
        "colab_type": "text"
      },
      "cell_type": "markdown",
      "source": [
        "Theano handles looping by using the [GPU scan](http://http.developer.nvidia.com/GPUGems3/gpugems3_ch39.html) operation. We have to tell theano what to do at each step through the scan - this is the function we'll use, which does a single forward pass for one character:"
      ]
    },
    {
      "metadata": {
        "id": "z2663uDfSxTs",
        "colab_type": "code",
        "colab": {
          "autoexec": {
            "startup": false,
            "wait_interval": 0
          }
        }
      },
      "cell_type": "code",
      "source": [
        "def step(x, h, W_h, b_h, W_x, b_x, W_y, b_y):\n",
        "    # Calculate the hidden activations\n",
        "    h = nnet.relu(T.dot(x, W_x) + b_x + T.dot(h, W_h) + b_h)\n",
        "    # Calculate the output activations\n",
        "    y = nnet.softmax(T.dot(h, W_y) + b_y)\n",
        "    # Return both (the 'Flatten()' is to work around a theano bug)\n",
        "    return h, T.flatten(y, 1)"
      ],
      "execution_count": 0,
      "outputs": []
    },
    {
      "metadata": {
        "id": "VN3tpqCFSxTt",
        "colab_type": "text"
      },
      "cell_type": "markdown",
      "source": [
        "Now we can provide everything necessary for the scan operation, so we can setup that up - we have to pass in the function to call at each step, the sequence to step through, the initial values of the outputs, and any other arguments to pass to the step function."
      ]
    },
    {
      "metadata": {
        "id": "VfVYn7NNSxTu",
        "colab_type": "code",
        "colab": {
          "autoexec": {
            "startup": false,
            "wait_interval": 0
          },
          "output_extras": [
            {
              "item_id": 1
            }
          ],
          "base_uri": "https://localhost:8080/",
          "height": 71
        },
        "outputId": "7dfeaab0-b879-4cd7-dc6b-467bbde2c2a2",
        "executionInfo": {
          "status": "ok",
          "timestamp": 1522755626674,
          "user_tz": -330,
          "elapsed": 939,
          "user": {
            "displayName": "Rony Roy",
            "photoUrl": "https://lh3.googleusercontent.com/a/default-user=s128",
            "userId": "111772801988052207421"
          }
        }
      },
      "cell_type": "code",
      "source": [
        "[v_h, v_y], _ = theano.scan(step, sequences=t_inp, \n",
        "                            outputs_info=[t_h0, None], non_sequences=w_all)"
      ],
      "execution_count": 298,
      "outputs": [
        {
          "output_type": "stream",
          "text": [
            "/usr/local/lib/python2.7/dist-packages/ipykernel_launcher.py:5: UserWarning: DEPRECATION: If x is a vector, Softmax will not automatically pad x anymore in next releases. If you need it, please do it manually. The vector case is gonna be supported soon and the output will be a vector.\n",
            "  \"\"\"\n"
          ],
          "name": "stderr"
        }
      ]
    },
    {
      "metadata": {
        "id": "QqzgtnLtSxTz",
        "colab_type": "text"
      },
      "cell_type": "markdown",
      "source": [
        "We can now calculate our loss function, and *all* of our gradients, with just a couple of lines of code!"
      ]
    },
    {
      "metadata": {
        "id": "6dLH25NASxT0",
        "colab_type": "code",
        "colab": {
          "autoexec": {
            "startup": false,
            "wait_interval": 0
          }
        }
      },
      "cell_type": "code",
      "source": [
        "error = nnet.categorical_crossentropy(v_y, t_outp).sum()\n",
        "g_all = T.grad(error, w_all)"
      ],
      "execution_count": 0,
      "outputs": []
    },
    {
      "metadata": {
        "id": "_WHi1-9cSxT3",
        "colab_type": "text"
      },
      "cell_type": "markdown",
      "source": [
        "We even have to show theano how to do SGD - so we set up this dictionary of updates to complete after every forward pass, which apply to standard SGD update rule to every weight."
      ]
    },
    {
      "metadata": {
        "id": "XQa6ThhGSxT4",
        "colab_type": "code",
        "colab": {
          "autoexec": {
            "startup": false,
            "wait_interval": 0
          }
        }
      },
      "cell_type": "code",
      "source": [
        "def upd_dict(wgts, grads, lr): \n",
        "    return OrderedDict({w: w-g*lr for (w,g) in zip(wgts,grads)})\n",
        "\n",
        "upd = upd_dict(w_all, g_all, lr)"
      ],
      "execution_count": 0,
      "outputs": []
    },
    {
      "metadata": {
        "id": "dOrgG0HXSxT6",
        "colab_type": "text"
      },
      "cell_type": "markdown",
      "source": [
        "We're finally ready to compile the function!"
      ]
    },
    {
      "metadata": {
        "id": "pH0J5lTDSxT6",
        "colab_type": "code",
        "colab": {
          "autoexec": {
            "startup": false,
            "wait_interval": 0
          },
          "output_extras": [
            {
              "item_id": 1
            }
          ],
          "base_uri": "https://localhost:8080/",
          "height": 518
        },
        "outputId": "10065b37-5562-4b43-84af-24dd8306e01d",
        "executionInfo": {
          "status": "error",
          "timestamp": 1522755670764,
          "user_tz": -330,
          "elapsed": 864,
          "user": {
            "displayName": "Rony Roy",
            "photoUrl": "https://lh3.googleusercontent.com/a/default-user=s128",
            "userId": "111772801988052207421"
          }
        }
      },
      "cell_type": "code",
      "source": [
        "#fn = theano.function(all_args, error, updates=upd, allow_input_downcast=True)"
      ],
      "execution_count": 302,
      "outputs": [
        {
          "output_type": "error",
          "ename": "TypeError",
          "evalue": "ignored",
          "traceback": [
            "\u001b[0;31m\u001b[0m",
            "\u001b[0;31mTypeError\u001b[0mTraceback (most recent call last)",
            "\u001b[0;32m<ipython-input-302-feb425b0b512>\u001b[0m in \u001b[0;36m<module>\u001b[0;34m()\u001b[0m\n\u001b[0;32m----> 1\u001b[0;31m \u001b[0mfn\u001b[0m \u001b[0;34m=\u001b[0m \u001b[0mtheano\u001b[0m\u001b[0;34m.\u001b[0m\u001b[0mfunction\u001b[0m\u001b[0;34m(\u001b[0m\u001b[0mall_args\u001b[0m\u001b[0;34m,\u001b[0m \u001b[0merror\u001b[0m\u001b[0;34m,\u001b[0m \u001b[0mupdates\u001b[0m\u001b[0;34m=\u001b[0m\u001b[0mupd\u001b[0m\u001b[0;34m,\u001b[0m \u001b[0mallow_input_downcast\u001b[0m\u001b[0;34m=\u001b[0m\u001b[0mTrue\u001b[0m\u001b[0;34m)\u001b[0m\u001b[0;34m\u001b[0m\u001b[0m\n\u001b[0m",
            "\u001b[0;32m/usr/local/lib/python2.7/dist-packages/theano/compile/function.pyc\u001b[0m in \u001b[0;36mfunction\u001b[0;34m(inputs, outputs, mode, updates, givens, no_default_updates, accept_inplace, name, rebuild_strict, allow_input_downcast, profile, on_unused_input)\u001b[0m\n\u001b[1;32m    315\u001b[0m                    \u001b[0mon_unused_input\u001b[0m\u001b[0;34m=\u001b[0m\u001b[0mon_unused_input\u001b[0m\u001b[0;34m,\u001b[0m\u001b[0;34m\u001b[0m\u001b[0m\n\u001b[1;32m    316\u001b[0m                    \u001b[0mprofile\u001b[0m\u001b[0;34m=\u001b[0m\u001b[0mprofile\u001b[0m\u001b[0;34m,\u001b[0m\u001b[0;34m\u001b[0m\u001b[0m\n\u001b[0;32m--> 317\u001b[0;31m                    output_keys=output_keys)\n\u001b[0m\u001b[1;32m    318\u001b[0m     \u001b[0;32mreturn\u001b[0m \u001b[0mfn\u001b[0m\u001b[0;34m\u001b[0m\u001b[0m\n",
            "\u001b[0;32m/usr/local/lib/python2.7/dist-packages/theano/compile/pfunc.pyc\u001b[0m in \u001b[0;36mpfunc\u001b[0;34m(params, outputs, mode, updates, givens, no_default_updates, accept_inplace, name, rebuild_strict, allow_input_downcast, profile, on_unused_input, output_keys)\u001b[0m\n\u001b[1;32m    447\u001b[0m                                          \u001b[0mrebuild_strict\u001b[0m\u001b[0;34m=\u001b[0m\u001b[0mrebuild_strict\u001b[0m\u001b[0;34m,\u001b[0m\u001b[0;34m\u001b[0m\u001b[0m\n\u001b[1;32m    448\u001b[0m                                          \u001b[0mcopy_inputs_over\u001b[0m\u001b[0;34m=\u001b[0m\u001b[0mTrue\u001b[0m\u001b[0;34m,\u001b[0m\u001b[0;34m\u001b[0m\u001b[0m\n\u001b[0;32m--> 449\u001b[0;31m                                          no_default_updates=no_default_updates)\n\u001b[0m\u001b[1;32m    450\u001b[0m     \u001b[0;31m# extracting the arguments\u001b[0m\u001b[0;34m\u001b[0m\u001b[0;34m\u001b[0m\u001b[0m\n\u001b[1;32m    451\u001b[0m     \u001b[0minput_variables\u001b[0m\u001b[0;34m,\u001b[0m \u001b[0mcloned_extended_outputs\u001b[0m\u001b[0;34m,\u001b[0m \u001b[0mother_stuff\u001b[0m \u001b[0;34m=\u001b[0m \u001b[0moutput_vars\u001b[0m\u001b[0;34m\u001b[0m\u001b[0m\n",
            "\u001b[0;32m/usr/local/lib/python2.7/dist-packages/theano/compile/pfunc.pyc\u001b[0m in \u001b[0;36mrebuild_collect_shared\u001b[0;34m(outputs, inputs, replace, updates, rebuild_strict, copy_inputs_over, no_default_updates)\u001b[0m\n\u001b[1;32m    206\u001b[0m                        ' function to remove broadcastable dimensions.')\n\u001b[1;32m    207\u001b[0m \u001b[0;34m\u001b[0m\u001b[0m\n\u001b[0;32m--> 208\u001b[0;31m             \u001b[0;32mraise\u001b[0m \u001b[0mTypeError\u001b[0m\u001b[0;34m(\u001b[0m\u001b[0merr_msg\u001b[0m\u001b[0;34m,\u001b[0m \u001b[0merr_sug\u001b[0m\u001b[0;34m)\u001b[0m\u001b[0;34m\u001b[0m\u001b[0m\n\u001b[0m\u001b[1;32m    209\u001b[0m         \u001b[0;32massert\u001b[0m \u001b[0mupdate_val\u001b[0m\u001b[0;34m.\u001b[0m\u001b[0mtype\u001b[0m \u001b[0;34m==\u001b[0m \u001b[0mstore_into\u001b[0m\u001b[0;34m.\u001b[0m\u001b[0mtype\u001b[0m\u001b[0;34m\u001b[0m\u001b[0m\n\u001b[1;32m    210\u001b[0m \u001b[0;34m\u001b[0m\u001b[0m\n",
            "\u001b[0;31mTypeError\u001b[0m: ('An update must have the same type as the original shared variable (shared_var=<TensorType(float32, matrix)>, shared_var.type=TensorType(float32, matrix), update_val=Elemwise{sub,no_inplace}.0, update_val.type=TensorType(float64, matrix)).', 'If the difference is related to the broadcast pattern, you can call the tensor.unbroadcast(var, axis_to_unbroadcast[, ...]) function to remove broadcastable dimensions.')"
          ]
        }
      ]
    },
    {
      "metadata": {
        "id": "ZKCs4FujTxLo",
        "colab_type": "text"
      },
      "cell_type": "markdown",
      "source": [
        "Function creation doesnt wwork..  \n",
        "Tried downgrading to 0.9.0 no effect.. data type mismatch"
      ]
    },
    {
      "metadata": {
        "id": "gDs4jnJwSxT7",
        "colab_type": "code",
        "colab": {
          "autoexec": {
            "startup": false,
            "wait_interval": 0
          },
          "output_extras": [
            {
              "item_id": 1
            }
          ],
          "base_uri": "https://localhost:8080/",
          "height": 34
        },
        "outputId": "79389244-fdea-4d19-e038-cd862970eac8",
        "executionInfo": {
          "status": "ok",
          "timestamp": 1522755678142,
          "user_tz": -330,
          "elapsed": 829,
          "user": {
            "displayName": "Rony Roy",
            "photoUrl": "https://lh3.googleusercontent.com/a/default-user=s128",
            "userId": "111772801988052207421"
          }
        }
      },
      "cell_type": "code",
      "source": [
        "X = oh_x_rnn\n",
        "Y = oh_y_rnn\n",
        "X.shape, Y.shape"
      ],
      "execution_count": 303,
      "outputs": [
        {
          "output_type": "execute_result",
          "data": {
            "text/plain": [
              "((75110, 8, 86), (75110, 8, 86))"
            ]
          },
          "metadata": {
            "tags": []
          },
          "execution_count": 303
        }
      ]
    },
    {
      "metadata": {
        "id": "GlKs4o7MSxT9",
        "colab_type": "text"
      },
      "cell_type": "markdown",
      "source": [
        "To use it, we simply loop through our input data, calling the function compiled above, and printing our progress from time to time."
      ]
    },
    {
      "metadata": {
        "id": "q1x91_IDSxT9",
        "colab_type": "code",
        "colab": {
          "autoexec": {
            "startup": false,
            "wait_interval": 0
          },
          "output_extras": [
            {
              "item_id": 1
            }
          ],
          "base_uri": "https://localhost:8080/",
          "height": 229
        },
        "outputId": "42d5eeae-4e2c-4234-ad0b-cc01bd2c01f8",
        "executionInfo": {
          "status": "error",
          "timestamp": 1522755681206,
          "user_tz": -330,
          "elapsed": 826,
          "user": {
            "displayName": "Rony Roy",
            "photoUrl": "https://lh3.googleusercontent.com/a/default-user=s128",
            "userId": "111772801988052207421"
          }
        }
      },
      "cell_type": "code",
      "source": [
        "err=0.0; l_rate=0.01\n",
        "for i in range(len(X)): \n",
        "    err+=fn(np.zeros(n_hidden), X[i], Y[i], l_rate)\n",
        "    if i % 1000 == 999: \n",
        "        print (\"Error:{:.3f}\".format(err/1000))\n",
        "        err=0.0"
      ],
      "execution_count": 304,
      "outputs": [
        {
          "output_type": "error",
          "ename": "NameError",
          "evalue": "ignored",
          "traceback": [
            "\u001b[0;31m\u001b[0m",
            "\u001b[0;31mNameError\u001b[0mTraceback (most recent call last)",
            "\u001b[0;32m<ipython-input-304-829a22e84be9>\u001b[0m in \u001b[0;36m<module>\u001b[0;34m()\u001b[0m\n\u001b[1;32m      1\u001b[0m \u001b[0merr\u001b[0m\u001b[0;34m=\u001b[0m\u001b[0;36m0.0\u001b[0m\u001b[0;34m;\u001b[0m \u001b[0ml_rate\u001b[0m\u001b[0;34m=\u001b[0m\u001b[0;36m0.01\u001b[0m\u001b[0;34m\u001b[0m\u001b[0m\n\u001b[1;32m      2\u001b[0m \u001b[0;32mfor\u001b[0m \u001b[0mi\u001b[0m \u001b[0;32min\u001b[0m \u001b[0mrange\u001b[0m\u001b[0;34m(\u001b[0m\u001b[0mlen\u001b[0m\u001b[0;34m(\u001b[0m\u001b[0mX\u001b[0m\u001b[0;34m)\u001b[0m\u001b[0;34m)\u001b[0m\u001b[0;34m:\u001b[0m\u001b[0;34m\u001b[0m\u001b[0m\n\u001b[0;32m----> 3\u001b[0;31m     \u001b[0merr\u001b[0m\u001b[0;34m+=\u001b[0m\u001b[0mfn\u001b[0m\u001b[0;34m(\u001b[0m\u001b[0mnp\u001b[0m\u001b[0;34m.\u001b[0m\u001b[0mzeros\u001b[0m\u001b[0;34m(\u001b[0m\u001b[0mn_hidden\u001b[0m\u001b[0;34m)\u001b[0m\u001b[0;34m,\u001b[0m \u001b[0mX\u001b[0m\u001b[0;34m[\u001b[0m\u001b[0mi\u001b[0m\u001b[0;34m]\u001b[0m\u001b[0;34m,\u001b[0m \u001b[0mY\u001b[0m\u001b[0;34m[\u001b[0m\u001b[0mi\u001b[0m\u001b[0;34m]\u001b[0m\u001b[0;34m,\u001b[0m \u001b[0ml_rate\u001b[0m\u001b[0;34m)\u001b[0m\u001b[0;34m\u001b[0m\u001b[0m\n\u001b[0m\u001b[1;32m      4\u001b[0m     \u001b[0;32mif\u001b[0m \u001b[0mi\u001b[0m \u001b[0;34m%\u001b[0m \u001b[0;36m1000\u001b[0m \u001b[0;34m==\u001b[0m \u001b[0;36m999\u001b[0m\u001b[0;34m:\u001b[0m\u001b[0;34m\u001b[0m\u001b[0m\n\u001b[1;32m      5\u001b[0m         \u001b[0;32mprint\u001b[0m \u001b[0;34m(\u001b[0m\u001b[0;34m\"Error:{:.3f}\"\u001b[0m\u001b[0;34m.\u001b[0m\u001b[0mformat\u001b[0m\u001b[0;34m(\u001b[0m\u001b[0merr\u001b[0m\u001b[0;34m/\u001b[0m\u001b[0;36m1000\u001b[0m\u001b[0;34m)\u001b[0m\u001b[0;34m)\u001b[0m\u001b[0;34m\u001b[0m\u001b[0m\n",
            "\u001b[0;31mNameError\u001b[0m: name 'fn' is not defined"
          ]
        }
      ]
    },
    {
      "metadata": {
        "id": "TG7j28iUSxUA",
        "colab_type": "code",
        "colab": {
          "autoexec": {
            "startup": false,
            "wait_interval": 0
          }
        }
      },
      "cell_type": "code",
      "source": [
        "f_y = theano.function([t_h0, t_inp], v_y, allow_input_downcast=True)"
      ],
      "execution_count": 0,
      "outputs": []
    },
    {
      "metadata": {
        "id": "dBxF9csPUHmB",
        "colab_type": "text"
      },
      "cell_type": "markdown",
      "source": [
        "Funnyli enough the output fn creation worked.. :D  \n"
      ]
    },
    {
      "metadata": {
        "id": "HwJt288GSxUD",
        "colab_type": "code",
        "colab": {
          "autoexec": {
            "startup": false,
            "wait_interval": 0
          }
        }
      },
      "cell_type": "code",
      "source": [
        "pred = np.argmax(f_y(np.zeros(n_hidden), X[6]), axis=1)"
      ],
      "execution_count": 0,
      "outputs": []
    },
    {
      "metadata": {
        "id": "mRFHpuQCSxUE",
        "colab_type": "code",
        "colab": {
          "autoexec": {
            "startup": false,
            "wait_interval": 0
          }
        }
      },
      "cell_type": "code",
      "source": [
        "act = np.argmax(X[6], axis=1)"
      ],
      "execution_count": 0,
      "outputs": []
    },
    {
      "metadata": {
        "id": "FN0yVx2FSxUF",
        "colab_type": "code",
        "colab": {
          "autoexec": {
            "startup": false,
            "wait_interval": 0
          },
          "output_extras": [
            {
              "item_id": 1
            }
          ],
          "base_uri": "https://localhost:8080/",
          "height": 34
        },
        "outputId": "8ab05854-9d69-4429-8656-6167014a3690",
        "executionInfo": {
          "status": "ok",
          "timestamp": 1522755718729,
          "user_tz": -330,
          "elapsed": 781,
          "user": {
            "displayName": "Rony Roy",
            "photoUrl": "https://lh3.googleusercontent.com/a/default-user=s128",
            "userId": "111772801988052207421"
          }
        }
      },
      "cell_type": "code",
      "source": [
        "[indices_char[o] for o in act]"
      ],
      "execution_count": 308,
      "outputs": [
        {
          "output_type": "execute_result",
          "data": {
            "text/plain": [
              "['t', 'h', 'e', 'n', '?', ' ', 'I', 's']"
            ]
          },
          "metadata": {
            "tags": []
          },
          "execution_count": 308
        }
      ]
    },
    {
      "metadata": {
        "id": "8e95Yc_fSxUH",
        "colab_type": "code",
        "colab": {
          "autoexec": {
            "startup": false,
            "wait_interval": 0
          },
          "output_extras": [
            {
              "item_id": 1
            }
          ],
          "base_uri": "https://localhost:8080/",
          "height": 34
        },
        "outputId": "22d30c91-e538-4086-aa80-5a2495de2c32",
        "executionInfo": {
          "status": "ok",
          "timestamp": 1522755721542,
          "user_tz": -330,
          "elapsed": 837,
          "user": {
            "displayName": "Rony Roy",
            "photoUrl": "https://lh3.googleusercontent.com/a/default-user=s128",
            "userId": "111772801988052207421"
          }
        }
      },
      "cell_type": "code",
      "source": [
        "[indices_char[o] for o in pred]"
      ],
      "execution_count": 309,
      "outputs": [
        {
          "output_type": "execute_result",
          "data": {
            "text/plain": [
              "['F', '0', '0', 'c', '4', 'c', 'c', 'L']"
            ]
          },
          "metadata": {
            "tags": []
          },
          "execution_count": 309
        }
      ]
    },
    {
      "metadata": {
        "id": "R60jxD6hUcSL",
        "colab_type": "text"
      },
      "cell_type": "markdown",
      "source": [
        "Since the input wasn't used in training the mode... the output is gibberish :/"
      ]
    },
    {
      "metadata": {
        "id": "s_c8qnKkSxUJ",
        "colab_type": "text"
      },
      "cell_type": "markdown",
      "source": [
        "## Pure python RNN!"
      ]
    },
    {
      "metadata": {
        "id": "ZvbITWqrSxUL",
        "colab_type": "text"
      },
      "cell_type": "markdown",
      "source": [
        "### Set up basic functions"
      ]
    },
    {
      "metadata": {
        "id": "_Jsbn191SxUL",
        "colab_type": "text"
      },
      "cell_type": "markdown",
      "source": [
        "Now we're going to try to repeat the above theano RNN, using just pure python (and numpy).   \n",
        "we have to do everything ourselves, including defining the basic functions of a neural net!  \n",
        "Below are all of the definitions, along with tests to check that they give the same answers as theano. The functions ending in `_d` are the derivatives of each function."
      ]
    },
    {
      "metadata": {
        "id": "XWTFbjrjSxUN",
        "colab_type": "code",
        "colab": {
          "autoexec": {
            "startup": false,
            "wait_interval": 0
          }
        }
      },
      "cell_type": "code",
      "source": [
        "def sigmoid(x): return 1/(1+np.exp(-x))\n",
        "def sigmoid_d(x): \n",
        "    output = sigmoid(x)\n",
        "    return output*(1-output)"
      ],
      "execution_count": 0,
      "outputs": []
    },
    {
      "metadata": {
        "id": "_XZLUVQ5YicC",
        "colab_type": "text"
      },
      "cell_type": "markdown",
      "source": [
        "define sigmoid fn"
      ]
    },
    {
      "metadata": {
        "id": "wNm5_2EBSxUP",
        "colab_type": "code",
        "colab": {
          "autoexec": {
            "startup": false,
            "wait_interval": 0
          }
        }
      },
      "cell_type": "code",
      "source": [
        "def relu(x): return np.maximum(0., x)\n",
        "def relu_d(x): return (x > 0.)*1."
      ],
      "execution_count": 0,
      "outputs": []
    },
    {
      "metadata": {
        "id": "G9AZTDNyYkUN",
        "colab_type": "text"
      },
      "cell_type": "markdown",
      "source": [
        "refine relu "
      ]
    },
    {
      "metadata": {
        "id": "iqK_fnzaSxUQ",
        "colab_type": "code",
        "colab": {
          "autoexec": {
            "startup": false,
            "wait_interval": 0
          },
          "output_extras": [
            {
              "item_id": 1
            }
          ],
          "base_uri": "https://localhost:8080/",
          "height": 34
        },
        "outputId": "4e3f89ff-4c08-4b7f-fc80-9233fa5249cc",
        "executionInfo": {
          "status": "ok",
          "timestamp": 1522756877324,
          "user_tz": -330,
          "elapsed": 617,
          "user": {
            "displayName": "Rony Roy",
            "photoUrl": "https://lh3.googleusercontent.com/a/default-user=s128",
            "userId": "111772801988052207421"
          }
        }
      },
      "cell_type": "code",
      "source": [
        "relu(np.array([3.,-3.])), relu_d(np.array([3.,-3.]))"
      ],
      "execution_count": 312,
      "outputs": [
        {
          "output_type": "execute_result",
          "data": {
            "text/plain": [
              "(array([3., 0.]), array([1., 0.]))"
            ]
          },
          "metadata": {
            "tags": []
          },
          "execution_count": 312
        }
      ]
    },
    {
      "metadata": {
        "id": "kN3UJb0sSxUS",
        "colab_type": "code",
        "colab": {
          "autoexec": {
            "startup": false,
            "wait_interval": 0
          }
        }
      },
      "cell_type": "code",
      "source": [
        "def dist(a,b): return pow(a-b,2)\n",
        "def dist_d(a,b): return 2*(a-b)"
      ],
      "execution_count": 0,
      "outputs": []
    },
    {
      "metadata": {
        "id": "XX4cfhIpSxUT",
        "colab_type": "code",
        "colab": {
          "autoexec": {
            "startup": false,
            "wait_interval": 0
          }
        }
      },
      "cell_type": "code",
      "source": [
        "import pdb # python debugger.. cool tool.. much like the eclipse de bugger.. check values of what ever on the notebook"
      ],
      "execution_count": 0,
      "outputs": []
    },
    {
      "metadata": {
        "id": "AYv1uUoWSxUV",
        "colab_type": "code",
        "colab": {
          "autoexec": {
            "startup": false,
            "wait_interval": 0
          }
        }
      },
      "cell_type": "code",
      "source": [
        "eps = 1e-7\n",
        "def x_entropy(pred, actual): \n",
        "    return -np.sum(actual * np.log(np.clip(pred, eps, 1-eps)))\n",
        "def x_entropy_d(pred, actual): return -actual/pred"
      ],
      "execution_count": 0,
      "outputs": []
    },
    {
      "metadata": {
        "id": "rtVOSjHHSxUY",
        "colab_type": "code",
        "colab": {
          "autoexec": {
            "startup": false,
            "wait_interval": 0
          }
        }
      },
      "cell_type": "code",
      "source": [
        "def softmax(x): return np.exp(x)/np.exp(x).sum()"
      ],
      "execution_count": 0,
      "outputs": []
    },
    {
      "metadata": {
        "id": "APSduM7ISxUY",
        "colab_type": "code",
        "colab": {
          "autoexec": {
            "startup": false,
            "wait_interval": 0
          }
        }
      },
      "cell_type": "code",
      "source": [
        "def softmax_d(x):\n",
        "    sm = softmax(x)\n",
        "    res = np.expand_dims(-sm,-1)*sm\n",
        "    res[np.diag_indices_from(res)] = sm*(1-sm)\n",
        "    return res"
      ],
      "execution_count": 0,
      "outputs": []
    },
    {
      "metadata": {
        "id": "JeM2dQmsSxUa",
        "colab_type": "code",
        "colab": {
          "autoexec": {
            "startup": false,
            "wait_interval": 0
          },
          "output_extras": [
            {
              "item_id": 1
            }
          ],
          "base_uri": "https://localhost:8080/",
          "height": 34
        },
        "outputId": "0dc9d145-ed43-4672-a848-a40a33f0cf5c",
        "executionInfo": {
          "status": "ok",
          "timestamp": 1522756886839,
          "user_tz": -330,
          "elapsed": 3962,
          "user": {
            "displayName": "Rony Roy",
            "photoUrl": "https://lh3.googleusercontent.com/a/default-user=s128",
            "userId": "111772801988052207421"
          }
        }
      },
      "cell_type": "code",
      "source": [
        "test_preds = np.array([0.2,0.7,0.1])\n",
        "test_actuals = np.array([0.,1.,0.])\n",
        "nnet.categorical_crossentropy(test_preds, test_actuals).eval()"
      ],
      "execution_count": 318,
      "outputs": [
        {
          "output_type": "execute_result",
          "data": {
            "text/plain": [
              "array(0.35667494)"
            ]
          },
          "metadata": {
            "tags": []
          },
          "execution_count": 318
        }
      ]
    },
    {
      "metadata": {
        "id": "_hZ6nrCCSxUb",
        "colab_type": "code",
        "colab": {
          "autoexec": {
            "startup": false,
            "wait_interval": 0
          },
          "output_extras": [
            {
              "item_id": 1
            }
          ],
          "base_uri": "https://localhost:8080/",
          "height": 34
        },
        "outputId": "08e0cb47-4291-4b7e-de35-c94d5823e13b",
        "executionInfo": {
          "status": "ok",
          "timestamp": 1522756887705,
          "user_tz": -330,
          "elapsed": 658,
          "user": {
            "displayName": "Rony Roy",
            "photoUrl": "https://lh3.googleusercontent.com/a/default-user=s128",
            "userId": "111772801988052207421"
          }
        }
      },
      "cell_type": "code",
      "source": [
        "x_entropy(test_preds, test_actuals)"
      ],
      "execution_count": 319,
      "outputs": [
        {
          "output_type": "execute_result",
          "data": {
            "text/plain": [
              "0.35667494393873245"
            ]
          },
          "metadata": {
            "tags": []
          },
          "execution_count": 319
        }
      ]
    },
    {
      "metadata": {
        "id": "8LaL1MJMSxUd",
        "colab_type": "code",
        "colab": {
          "autoexec": {
            "startup": false,
            "wait_interval": 0
          }
        }
      },
      "cell_type": "code",
      "source": [
        "test_inp = T.dvector()\n",
        "test_out = nnet.categorical_crossentropy(test_inp, test_actuals)\n",
        "test_grad = theano.function([test_inp], T.grad(test_out, test_inp))"
      ],
      "execution_count": 0,
      "outputs": []
    },
    {
      "metadata": {
        "id": "V_XGd0bFSxUd",
        "colab_type": "code",
        "colab": {
          "autoexec": {
            "startup": false,
            "wait_interval": 0
          },
          "output_extras": [
            {
              "item_id": 1
            }
          ],
          "base_uri": "https://localhost:8080/",
          "height": 34
        },
        "outputId": "ed06a240-71e4-4653-c0d6-2303f617f297",
        "executionInfo": {
          "status": "ok",
          "timestamp": 1522756891658,
          "user_tz": -330,
          "elapsed": 832,
          "user": {
            "displayName": "Rony Roy",
            "photoUrl": "https://lh3.googleusercontent.com/a/default-user=s128",
            "userId": "111772801988052207421"
          }
        }
      },
      "cell_type": "code",
      "source": [
        "test_grad(test_preds)"
      ],
      "execution_count": 321,
      "outputs": [
        {
          "output_type": "execute_result",
          "data": {
            "text/plain": [
              "array([-0.        , -1.42857143, -0.        ])"
            ]
          },
          "metadata": {
            "tags": []
          },
          "execution_count": 321
        }
      ]
    },
    {
      "metadata": {
        "id": "p0nuPzi7SxUf",
        "colab_type": "code",
        "colab": {
          "autoexec": {
            "startup": false,
            "wait_interval": 0
          },
          "output_extras": [
            {
              "item_id": 1
            }
          ],
          "base_uri": "https://localhost:8080/",
          "height": 34
        },
        "outputId": "9a3b11e9-71f0-472e-b56a-717edcbbff37",
        "executionInfo": {
          "status": "ok",
          "timestamp": 1522756893074,
          "user_tz": -330,
          "elapsed": 650,
          "user": {
            "displayName": "Rony Roy",
            "photoUrl": "https://lh3.googleusercontent.com/a/default-user=s128",
            "userId": "111772801988052207421"
          }
        }
      },
      "cell_type": "code",
      "source": [
        "x_entropy_d(test_preds, test_actuals)"
      ],
      "execution_count": 322,
      "outputs": [
        {
          "output_type": "execute_result",
          "data": {
            "text/plain": [
              "array([-0.        , -1.42857143, -0.        ])"
            ]
          },
          "metadata": {
            "tags": []
          },
          "execution_count": 322
        }
      ]
    },
    {
      "metadata": {
        "id": "2PU8crjvY3FE",
        "colab_type": "code",
        "colab": {
          "autoexec": {
            "startup": false,
            "wait_interval": 0
          }
        }
      },
      "cell_type": "code",
      "source": [
        "from numpy.random import random"
      ],
      "execution_count": 0,
      "outputs": []
    },
    {
      "metadata": {
        "id": "U-TEnAGZSxUg",
        "colab_type": "code",
        "colab": {
          "autoexec": {
            "startup": false,
            "wait_interval": 0
          }
        }
      },
      "cell_type": "code",
      "source": [
        "pre_pred = random(oh_x_rnn[0][0].shape)\n",
        "preds = softmax(pre_pred)\n",
        "actual = oh_x_rnn[0][0]"
      ],
      "execution_count": 0,
      "outputs": []
    },
    {
      "metadata": {
        "id": "AnWMc1ChSxUi",
        "colab_type": "code",
        "colab": {
          "autoexec": {
            "startup": false,
            "wait_interval": 0
          },
          "output_extras": [
            {
              "item_id": 1
            }
          ],
          "base_uri": "https://localhost:8080/",
          "height": 34
        },
        "outputId": "b04a9548-d6b3-4c0c-ad00-24db3f2d33d3",
        "executionInfo": {
          "status": "ok",
          "timestamp": 1522756986754,
          "user_tz": -330,
          "elapsed": 815,
          "user": {
            "displayName": "Rony Roy",
            "photoUrl": "https://lh3.googleusercontent.com/a/default-user=s128",
            "userId": "111772801988052207421"
          }
        }
      },
      "cell_type": "code",
      "source": [
        "np.allclose(softmax_d(pre_pred).dot(x_entropy_d(preds,actual)), preds-actual)"
      ],
      "execution_count": 326,
      "outputs": [
        {
          "output_type": "execute_result",
          "data": {
            "text/plain": [
              "True"
            ]
          },
          "metadata": {
            "tags": []
          },
          "execution_count": 326
        }
      ]
    },
    {
      "metadata": {
        "id": "I7bDPXlaSxUk",
        "colab_type": "code",
        "colab": {
          "autoexec": {
            "startup": false,
            "wait_interval": 0
          },
          "output_extras": [
            {
              "item_id": 1
            }
          ],
          "base_uri": "https://localhost:8080/",
          "height": 34
        },
        "outputId": "a8ab220c-9e39-47c2-8ad5-631197493d38",
        "executionInfo": {
          "status": "ok",
          "timestamp": 1522756989808,
          "user_tz": -330,
          "elapsed": 1820,
          "user": {
            "displayName": "Rony Roy",
            "photoUrl": "https://lh3.googleusercontent.com/a/default-user=s128",
            "userId": "111772801988052207421"
          }
        }
      },
      "cell_type": "code",
      "source": [
        "softmax(test_preds)"
      ],
      "execution_count": 327,
      "outputs": [
        {
          "output_type": "execute_result",
          "data": {
            "text/plain": [
              "array([0.28140804, 0.46396343, 0.25462853])"
            ]
          },
          "metadata": {
            "tags": []
          },
          "execution_count": 327
        }
      ]
    },
    {
      "metadata": {
        "id": "mk1IJV6USxUm",
        "colab_type": "code",
        "colab": {
          "autoexec": {
            "startup": false,
            "wait_interval": 0
          },
          "output_extras": [
            {
              "item_id": 1
            },
            {
              "item_id": 2
            }
          ],
          "base_uri": "https://localhost:8080/",
          "height": 87
        },
        "outputId": "211b60ac-5958-4aae-dd1f-e6c23fbc0652",
        "executionInfo": {
          "status": "ok",
          "timestamp": 1522756991345,
          "user_tz": -330,
          "elapsed": 873,
          "user": {
            "displayName": "Rony Roy",
            "photoUrl": "https://lh3.googleusercontent.com/a/default-user=s128",
            "userId": "111772801988052207421"
          }
        }
      },
      "cell_type": "code",
      "source": [
        "nnet.softmax(test_preds).eval()"
      ],
      "execution_count": 328,
      "outputs": [
        {
          "output_type": "stream",
          "text": [
            "/usr/local/lib/python2.7/dist-packages/ipykernel_launcher.py:1: UserWarning: DEPRECATION: If x is a vector, Softmax will not automatically pad x anymore in next releases. If you need it, please do it manually. The vector case is gonna be supported soon and the output will be a vector.\n",
            "  \"\"\"Entry point for launching an IPython kernel.\n"
          ],
          "name": "stderr"
        },
        {
          "output_type": "execute_result",
          "data": {
            "text/plain": [
              "array([[0.28140804, 0.46396343, 0.25462853]])"
            ]
          },
          "metadata": {
            "tags": []
          },
          "execution_count": 328
        }
      ]
    },
    {
      "metadata": {
        "id": "zILfgGTiSxUo",
        "colab_type": "code",
        "colab": {
          "autoexec": {
            "startup": false,
            "wait_interval": 0
          },
          "output_extras": [
            {
              "item_id": 1
            }
          ],
          "base_uri": "https://localhost:8080/",
          "height": 71
        },
        "outputId": "4a89b0cf-a3bd-46a2-ca09-08f8d16ca6e8",
        "executionInfo": {
          "status": "ok",
          "timestamp": 1522756992630,
          "user_tz": -330,
          "elapsed": 852,
          "user": {
            "displayName": "Rony Roy",
            "photoUrl": "https://lh3.googleusercontent.com/a/default-user=s128",
            "userId": "111772801988052207421"
          }
        }
      },
      "cell_type": "code",
      "source": [
        "test_out = T.flatten(nnet.softmax(test_inp))"
      ],
      "execution_count": 329,
      "outputs": [
        {
          "output_type": "stream",
          "text": [
            "/usr/local/lib/python2.7/dist-packages/ipykernel_launcher.py:1: UserWarning: DEPRECATION: If x is a vector, Softmax will not automatically pad x anymore in next releases. If you need it, please do it manually. The vector case is gonna be supported soon and the output will be a vector.\n",
            "  \"\"\"Entry point for launching an IPython kernel.\n"
          ],
          "name": "stderr"
        }
      ]
    },
    {
      "metadata": {
        "id": "pw_ycGSlSxUr",
        "colab_type": "code",
        "colab": {
          "autoexec": {
            "startup": false,
            "wait_interval": 0
          }
        }
      },
      "cell_type": "code",
      "source": [
        "test_grad = theano.function([test_inp], theano.gradient.jacobian(test_out, test_inp))"
      ],
      "execution_count": 0,
      "outputs": []
    },
    {
      "metadata": {
        "id": "k2PONN9eSxUr",
        "colab_type": "code",
        "colab": {
          "autoexec": {
            "startup": false,
            "wait_interval": 0
          },
          "output_extras": [
            {
              "item_id": 1
            }
          ],
          "base_uri": "https://localhost:8080/",
          "height": 67
        },
        "outputId": "446d30c0-b683-48c9-8dde-96a212cc733d",
        "executionInfo": {
          "status": "ok",
          "timestamp": 1522756998936,
          "user_tz": -330,
          "elapsed": 850,
          "user": {
            "displayName": "Rony Roy",
            "photoUrl": "https://lh3.googleusercontent.com/a/default-user=s128",
            "userId": "111772801988052207421"
          }
        }
      },
      "cell_type": "code",
      "source": [
        "test_grad(test_preds)"
      ],
      "execution_count": 331,
      "outputs": [
        {
          "output_type": "execute_result",
          "data": {
            "text/plain": [
              "array([[ 0.20221756, -0.13056304, -0.07165452],\n",
              "       [-0.13056304,  0.24870137, -0.11813832],\n",
              "       [-0.07165452, -0.11813832,  0.18979284]])"
            ]
          },
          "metadata": {
            "tags": []
          },
          "execution_count": 331
        }
      ]
    },
    {
      "metadata": {
        "id": "8uPCdsncSxUs",
        "colab_type": "code",
        "colab": {
          "autoexec": {
            "startup": false,
            "wait_interval": 0
          },
          "output_extras": [
            {
              "item_id": 1
            }
          ],
          "base_uri": "https://localhost:8080/",
          "height": 67
        },
        "outputId": "963fdeed-7743-4506-c767-2776357329aa",
        "executionInfo": {
          "status": "ok",
          "timestamp": 1522757000617,
          "user_tz": -330,
          "elapsed": 798,
          "user": {
            "displayName": "Rony Roy",
            "photoUrl": "https://lh3.googleusercontent.com/a/default-user=s128",
            "userId": "111772801988052207421"
          }
        }
      },
      "cell_type": "code",
      "source": [
        "softmax_d(test_preds)"
      ],
      "execution_count": 332,
      "outputs": [
        {
          "output_type": "execute_result",
          "data": {
            "text/plain": [
              "array([[ 0.20221756, -0.13056304, -0.07165452],\n",
              "       [-0.13056304,  0.24870137, -0.11813832],\n",
              "       [-0.07165452, -0.11813832,  0.18979284]])"
            ]
          },
          "metadata": {
            "tags": []
          },
          "execution_count": 332
        }
      ]
    },
    {
      "metadata": {
        "id": "kAFSk5xkSxUw",
        "colab_type": "code",
        "colab": {
          "autoexec": {
            "startup": false,
            "wait_interval": 0
          }
        }
      },
      "cell_type": "code",
      "source": [
        "act=relu\n",
        "act_d = relu_d # activation fn is relu, and the activation function's derivative is .. assigned as relu_d"
      ],
      "execution_count": 0,
      "outputs": []
    },
    {
      "metadata": {
        "id": "3VNuJMcBSxUw",
        "colab_type": "code",
        "colab": {
          "autoexec": {
            "startup": false,
            "wait_interval": 0
          }
        }
      },
      "cell_type": "code",
      "source": [
        "loss=x_entropy\n",
        "loss_d=x_entropy_d"
      ],
      "execution_count": 0,
      "outputs": []
    },
    {
      "metadata": {
        "id": "UwcjpvDzSxUx",
        "colab_type": "text"
      },
      "cell_type": "markdown",
      "source": [
        "We also have to define our own scan function. Since we're not worrying about running things in parallel (as in theano), it's very simple to implement:"
      ]
    },
    {
      "metadata": {
        "id": "uzNcfCZwSxUx",
        "colab_type": "code",
        "colab": {
          "autoexec": {
            "startup": false,
            "wait_interval": 0
          }
        }
      },
      "cell_type": "code",
      "source": [
        "def scan(fn, start, seq):\n",
        "    res = []\n",
        "    prev = start\n",
        "    for s in seq:\n",
        "        app = fn(prev, s)\n",
        "        res.append(app)\n",
        "        prev = app\n",
        "    return res"
      ],
      "execution_count": 0,
      "outputs": []
    },
    {
      "metadata": {
        "id": "OCYCBxjuSxUy",
        "colab_type": "text"
      },
      "cell_type": "markdown",
      "source": [
        "...for instance, `scan` on `+` is the cumulative sum."
      ]
    },
    {
      "metadata": {
        "id": "skKy0ECKSxUy",
        "colab_type": "code",
        "colab": {
          "autoexec": {
            "startup": false,
            "wait_interval": 0
          },
          "output_extras": [
            {
              "item_id": 1
            }
          ],
          "base_uri": "https://localhost:8080/",
          "height": 34
        },
        "outputId": "c514457a-8045-4f57-aeab-003801b5de46",
        "executionInfo": {
          "status": "ok",
          "timestamp": 1522757009135,
          "user_tz": -330,
          "elapsed": 1145,
          "user": {
            "displayName": "Rony Roy",
            "photoUrl": "https://lh3.googleusercontent.com/a/default-user=s128",
            "userId": "111772801988052207421"
          }
        }
      },
      "cell_type": "code",
      "source": [
        "scan(lambda prev,curr: prev+curr, 0, range(5))"
      ],
      "execution_count": 336,
      "outputs": [
        {
          "output_type": "execute_result",
          "data": {
            "text/plain": [
              "[0, 1, 3, 6, 10]"
            ]
          },
          "metadata": {
            "tags": []
          },
          "execution_count": 336
        }
      ]
    },
    {
      "metadata": {
        "id": "TF0UkWizSxU2",
        "colab_type": "text"
      },
      "cell_type": "markdown",
      "source": [
        "### Set up training"
      ]
    },
    {
      "metadata": {
        "id": "hCSvitgmSxU2",
        "colab_type": "text"
      },
      "cell_type": "markdown",
      "source": [
        "Let's now build the functions to do the forward and backward passes of our RNN. First, define our data and shape."
      ]
    },
    {
      "metadata": {
        "id": "gav01IyfSxU2",
        "colab_type": "code",
        "colab": {
          "autoexec": {
            "startup": false,
            "wait_interval": 0
          }
        }
      },
      "cell_type": "code",
      "source": [
        "inp = oh_x_rnn\n",
        "outp = oh_y_rnn\n",
        "n_input = vocab_size\n",
        "n_output = vocab_size"
      ],
      "execution_count": 0,
      "outputs": []
    },
    {
      "metadata": {
        "id": "lOM9rI56SxU3",
        "colab_type": "code",
        "colab": {
          "autoexec": {
            "startup": false,
            "wait_interval": 0
          },
          "output_extras": [
            {
              "item_id": 1
            }
          ],
          "base_uri": "https://localhost:8080/",
          "height": 34
        },
        "outputId": "4ee4c0c1-1f01-406d-cb3f-c82b526ce67e",
        "executionInfo": {
          "status": "ok",
          "timestamp": 1522757081751,
          "user_tz": -330,
          "elapsed": 1068,
          "user": {
            "displayName": "Rony Roy",
            "photoUrl": "https://lh3.googleusercontent.com/a/default-user=s128",
            "userId": "111772801988052207421"
          }
        }
      },
      "cell_type": "code",
      "source": [
        "inp.shape, outp.shape"
      ],
      "execution_count": 338,
      "outputs": [
        {
          "output_type": "execute_result",
          "data": {
            "text/plain": [
              "((75110, 8, 86), (75110, 8, 86))"
            ]
          },
          "metadata": {
            "tags": []
          },
          "execution_count": 338
        }
      ]
    },
    {
      "metadata": {
        "id": "0q7vLI8gSxU4",
        "colab_type": "text"
      },
      "cell_type": "markdown",
      "source": [
        "Here's the function to do a single forward pass of an RNN, for a single character."
      ]
    },
    {
      "metadata": {
        "id": "zIO8YuwbSxU4",
        "colab_type": "code",
        "colab": {
          "autoexec": {
            "startup": false,
            "wait_interval": 0
          }
        }
      },
      "cell_type": "code",
      "source": [
        "def one_char(prev, item):\n",
        "    # Previous state\n",
        "    tot_loss, pre_hidden, pre_pred, hidden, ypred = prev\n",
        "    # Current inputs and output\n",
        "    x, y = item\n",
        "    pre_hidden = np.dot(x,w_x) + np.dot(hidden,w_h)\n",
        "    hidden = act(pre_hidden)\n",
        "    pre_pred = np.dot(hidden,w_y)\n",
        "    ypred = softmax(pre_pred)\n",
        "    return (\n",
        "        # Keep track of loss so we can report it\n",
        "        tot_loss+loss(ypred, y),\n",
        "        # Used in backprop\n",
        "        pre_hidden, pre_pred, \n",
        "        # Used in next iteration\n",
        "        hidden, \n",
        "        # To provide predictions\n",
        "        ypred)"
      ],
      "execution_count": 0,
      "outputs": []
    },
    {
      "metadata": {
        "id": "uvuuuQtESxU4",
        "colab_type": "text"
      },
      "cell_type": "markdown",
      "source": [
        "We use `scan` to apply the above to a whole sequence of characters."
      ]
    },
    {
      "metadata": {
        "id": "DRADW9XgSxU4",
        "colab_type": "code",
        "colab": {
          "autoexec": {
            "startup": false,
            "wait_interval": 0
          }
        }
      },
      "cell_type": "code",
      "source": [
        "def get_chars(n): return zip(inp[n], outp[n])\n",
        "def one_fwd(n): return scan(one_char, (0,0,0,np.zeros(n_hidden),0), get_chars(n))# one forward pass\n",
        "# this is stateless, stateful.. add the retun from the scan funciton insteadof the zeros\n",
        "# not a good idea tho.. gradient explostion etc"
      ],
      "execution_count": 0,
      "outputs": []
    },
    {
      "metadata": {
        "id": "15erRcJMSxU6",
        "colab_type": "text"
      },
      "cell_type": "markdown",
      "source": [
        "Now we can define the backward step.  \n",
        "We use a loop to go through every element of the sequence.  \n",
        "The derivatives are applying the chain rule to each step, and accumulating the gradients across the sequence."
      ]
    },
    {
      "metadata": {
        "id": "6HoNO6APSxU6",
        "colab_type": "code",
        "colab": {
          "autoexec": {
            "startup": false,
            "wait_interval": 0
          }
        }
      },
      "cell_type": "code",
      "source": [
        "# \"Columnify\" a vector\n",
        "def col(x): return x[:,newaxis]\n",
        "\n",
        "def one_bkwd(args, n):\n",
        "    global w_x,w_y,w_h\n",
        "\n",
        "    i=inp[n]  # 8x86\n",
        "    o=outp[n] # 8x86\n",
        "    d_pre_hidden = np.zeros(n_hidden) # 256\n",
        "    for p in reversed(range(len(i))):\n",
        "        totloss, pre_hidden, pre_pred, hidden, ypred = args[p]\n",
        "        x=i[p] # 86\n",
        "        y=o[p] # 86\n",
        "        d_pre_pred = softmax_d(pre_pred).dot(loss_d(ypred,y))  # 86\n",
        "        d_pre_hidden = (np.dot(d_pre_hidden, w_h.T) ## matrix multiplicaiton derivative is matrix mult with a transpose..\n",
        "                        + np.dot(d_pre_pred,w_y.T)) * act_d(pre_hidden) # 256 # this : deivative with respect to the outputs.. above. deivative w.r.t hidden weights\n",
        "\n",
        "        # d(loss)/d(w_y) = d(loss)/d(pre_pred) * d(pre_pred)/d(w_y)\n",
        "        w_y -= col(hidden) * d_pre_pred * alpha\n",
        "        # d(loss)/d(w_h) = d(loss)/d(pre_hidden[p-1]) * d(pre_hidden[p-1])/d(w_h)\n",
        "        if (p>0): w_h -= args[p-1][3].dot(d_pre_hidden) * alpha\n",
        "        w_x -= col(x)*d_pre_hidden * alpha\n",
        "    return d_pre_hidden"
      ],
      "execution_count": 0,
      "outputs": []
    },
    {
      "metadata": {
        "id": "A5DWMAZkSxU6",
        "colab_type": "text"
      },
      "cell_type": "markdown",
      "source": [
        "Now we can set up our initial weight matrices. Note that we're not using bias at all in this example, in order to keep things simpler."
      ]
    },
    {
      "metadata": {
        "id": "B-jhg98sSxU6",
        "colab_type": "code",
        "colab": {
          "autoexec": {
            "startup": false,
            "wait_interval": 0
          }
        }
      },
      "cell_type": "code",
      "source": [
        "scale=math.sqrt(2./n_input)\n",
        "w_x = normal(scale=scale, size=(n_input,n_hidden))\n",
        "w_y = normal(scale=scale, size=(n_hidden, n_output))\n",
        "w_h = np.eye(n_hidden, dtype=np.float32)"
      ],
      "execution_count": 0,
      "outputs": []
    },
    {
      "metadata": {
        "id": "goaczY2pSxU6",
        "colab_type": "text"
      },
      "cell_type": "markdown",
      "source": [
        "Our loop looks much like the theano loop in the previous section, except that we have to call the backwards step ourselves."
      ]
    },
    {
      "metadata": {
        "id": "Wy8P5HKEZeMj",
        "colab_type": "code",
        "colab": {
          "autoexec": {
            "startup": false,
            "wait_interval": 0
          }
        }
      },
      "cell_type": "code",
      "source": [
        "from numpy import newaxis"
      ],
      "execution_count": 0,
      "outputs": []
    },
    {
      "metadata": {
        "id": "8JMFoicgSxU7",
        "colab_type": "code",
        "colab": {
          "autoexec": {
            "startup": false,
            "wait_interval": 0
          },
          "output_extras": [
            {
              "item_id": 10
            }
          ],
          "base_uri": "https://localhost:8080/",
          "height": 185
        },
        "outputId": "9b0548ca-38e3-482b-d64e-f875d9a5c9b9",
        "executionInfo": {
          "status": "ok",
          "timestamp": 1522757191144,
          "user_tz": -330,
          "elapsed": 53103,
          "user": {
            "displayName": "Rony Roy",
            "photoUrl": "https://lh3.googleusercontent.com/a/default-user=s128",
            "userId": "111772801988052207421"
          }
        }
      },
      "cell_type": "code",
      "source": [
        "overallError=0\n",
        "alpha=0.0001\n",
        "for n in range(10000):\n",
        "    res = one_fwd(n)\n",
        "    overallError+=res[-1][0]\n",
        "    deriv = one_bkwd(res, n)\n",
        "    if(n % 1000 == 999):\n",
        "        print (\"Error:{:.4f}; Gradient:{:.5f}\".format(\n",
        "                overallError/1000, np.linalg.norm(deriv)))\n",
        "        overallError=0"
      ],
      "execution_count": 345,
      "outputs": [
        {
          "output_type": "stream",
          "text": [
            "Error:35.7141; Gradient:2.11107\n",
            "Error:35.4483; Gradient:2.82171\n",
            "Error:34.2573; Gradient:4.22795\n",
            "Error:32.3743; Gradient:3.46695\n",
            "Error:30.9945; Gradient:3.94601\n",
            "Error:30.2121; Gradient:3.40161\n",
            "Error:29.2409; Gradient:3.99968\n",
            "Error:28.6919; Gradient:3.36748\n",
            "Error:28.1954; Gradient:3.41394\n",
            "Error:28.2226; Gradient:3.70966\n"
          ],
          "name": "stdout"
        }
      ]
    },
    {
      "metadata": {
        "id": "LO1OXOwcSxU7",
        "colab_type": "text"
      },
      "cell_type": "markdown",
      "source": [
        "## Keras GRU"
      ]
    },
    {
      "metadata": {
        "id": "8kNAYL5aSxU8",
        "colab_type": "text"
      },
      "cell_type": "markdown",
      "source": [
        "Identical to the last keras rnn, but a GRU!\n",
        "\n",
        "checke out https://blog.keras.io/a-ten-minute-introduction-to-sequence-to-sequence-learning-in-keras.html"
      ]
    },
    {
      "metadata": {
        "id": "Mula1fqVaNQy",
        "colab_type": "code",
        "colab": {
          "autoexec": {
            "startup": false,
            "wait_interval": 0
          }
        }
      },
      "cell_type": "code",
      "source": [
        "from keras.layers import  GRU"
      ],
      "execution_count": 0,
      "outputs": []
    },
    {
      "metadata": {
        "id": "ITniN8wzSxU8",
        "colab_type": "code",
        "colab": {
          "autoexec": {
            "startup": false,
            "wait_interval": 0
          }
        }
      },
      "cell_type": "code",
      "source": [
        "model=Sequential([\n",
        "        GRU(n_hidden, return_sequences=True, input_shape=(cs, vocab_size),\n",
        "                  activation='relu' ),\n",
        "                  #activation='relu', inner_init='identity'),\n",
        "        TimeDistributed(Dense(vocab_size, activation='softmax')),\n",
        "    ])\n",
        "model.compile(loss='categorical_crossentropy', optimizer=Adam())"
      ],
      "execution_count": 0,
      "outputs": []
    },
    {
      "metadata": {
        "id": "i5QL5C9TacJa",
        "colab_type": "text"
      },
      "cell_type": "markdown",
      "source": [
        "Error idenitity .. matris can be used with 2d matrices only.. hence blanked out.."
      ]
    },
    {
      "metadata": {
        "id": "0MI3K9d-SxU9",
        "colab_type": "code",
        "colab": {
          "autoexec": {
            "startup": false,
            "wait_interval": 0
          },
          "output_extras": [
            {
              "item_id": 131
            },
            {
              "item_id": 218
            },
            {
              "item_id": 442
            },
            {
              "item_id": 559
            },
            {
              "item_id": 731
            },
            {
              "item_id": 820
            },
            {
              "item_id": 892
            },
            {
              "item_id": 958
            },
            {
              "item_id": 959
            }
          ],
          "base_uri": "https://localhost:8080/",
          "height": 303
        },
        "outputId": "3d724617-c832-40d8-a23a-a39e55f64be6",
        "executionInfo": {
          "status": "ok",
          "timestamp": 1522757977038,
          "user_tz": -330,
          "elapsed": 568418,
          "user": {
            "displayName": "Rony Roy",
            "photoUrl": "https://lh3.googleusercontent.com/a/default-user=s128",
            "userId": "111772801988052207421"
          }
        }
      },
      "cell_type": "code",
      "source": [
        "model.fit(oh_x_rnn, oh_y_rnn, batch_size=64, nb_epoch=8)"
      ],
      "execution_count": 350,
      "outputs": [
        {
          "output_type": "stream",
          "text": [
            "Epoch 1/8\n",
            "75110/75110 [==============================] - 72s 962us/step - loss: 2.4018\n",
            "Epoch 2/8\n",
            " 2368/75110 [..............................] - ETA: 1:08 - loss: 2.0647"
          ],
          "name": "stdout"
        },
        {
          "output_type": "stream",
          "text": [
            "75110/75110 [==============================] - 71s 942us/step - loss: 1.9860\n",
            "Epoch 3/8\n",
            " 8192/75110 [==>...........................] - ETA: 1:02 - loss: 1.9123"
          ],
          "name": "stdout"
        },
        {
          "output_type": "stream",
          "text": [
            "75110/75110 [==============================] - 71s 940us/step - loss: 1.8755\n",
            "Epoch 4/8\n",
            "10816/75110 [===>..........................] - ETA: 1:00 - loss: 1.8306"
          ],
          "name": "stdout"
        },
        {
          "output_type": "stream",
          "text": [
            "75110/75110 [==============================] - 71s 939us/step - loss: 1.8127\n",
            "Epoch 5/8\n",
            "11968/75110 [===>..........................] - ETA: 59s - loss: 1.7774"
          ],
          "name": "stdout"
        },
        {
          "output_type": "stream",
          "text": [
            "75110/75110 [==============================] - 71s 941us/step - loss: 1.7709\n",
            "Epoch 6/8\n",
            "12480/75110 [===>..........................] - ETA: 59s - loss: 1.7450"
          ],
          "name": "stdout"
        },
        {
          "output_type": "stream",
          "text": [
            "75110/75110 [==============================] - 71s 939us/step - loss: 1.7405\n",
            "Epoch 7/8\n",
            "12736/75110 [====>.........................] - ETA: 58s - loss: 1.7185"
          ],
          "name": "stdout"
        },
        {
          "output_type": "stream",
          "text": [
            "75110/75110 [==============================] - 71s 943us/step - loss: 1.7160\n",
            "Epoch 8/8\n",
            "12864/75110 [====>.........................] - ETA: 58s - loss: 1.6916"
          ],
          "name": "stdout"
        },
        {
          "output_type": "stream",
          "text": [
            "75110/75110 [==============================] - 71s 943us/step - loss: 1.6970\n"
          ],
          "name": "stdout"
        },
        {
          "output_type": "execute_result",
          "data": {
            "text/plain": [
              "<keras.callbacks.History at 0x7f0c36cff4d0>"
            ]
          },
          "metadata": {
            "tags": []
          },
          "execution_count": 350
        }
      ]
    },
    {
      "metadata": {
        "id": "KMhNROwRSxVA",
        "colab_type": "code",
        "colab": {
          "autoexec": {
            "startup": false,
            "wait_interval": 0
          },
          "output_extras": [
            {
              "item_id": 1
            },
            {
              "item_id": 2
            }
          ],
          "base_uri": "https://localhost:8080/",
          "height": 51
        },
        "outputId": "434d7b60-8895-4127-a89e-a3f24822c4be",
        "executionInfo": {
          "status": "ok",
          "timestamp": 1522757978185,
          "user_tz": -330,
          "elapsed": 1076,
          "user": {
            "displayName": "Rony Roy",
            "photoUrl": "https://lh3.googleusercontent.com/a/default-user=s128",
            "userId": "111772801988052207421"
          }
        }
      },
      "cell_type": "code",
      "source": [
        "get_nexts_oh(' this is')"
      ],
      "execution_count": 351,
      "outputs": [
        {
          "output_type": "stream",
          "text": [
            "[' ', 't', 'h', 'i', 's', ' ', 'i', 's']\n"
          ],
          "name": "stdout"
        },
        {
          "output_type": "execute_result",
          "data": {
            "text/plain": [
              "['t', 'h', 'e', 's', ' ', 'c', 's', ' ']"
            ]
          },
          "metadata": {
            "tags": []
          },
          "execution_count": 351
        }
      ]
    },
    {
      "metadata": {
        "id": "MIRoMA2GSxVB",
        "colab_type": "text"
      },
      "cell_type": "markdown",
      "source": [
        "## Theano GRU\n",
        "\n",
        "GRU: gated recurrent unit..."
      ]
    },
    {
      "metadata": {
        "id": "AdsQmgFtSxVC",
        "colab_type": "text"
      },
      "cell_type": "markdown",
      "source": [
        "### Separate weights"
      ]
    },
    {
      "metadata": {
        "id": "N0voLzD3SxVC",
        "colab_type": "text"
      },
      "cell_type": "markdown",
      "source": [
        "The theano GRU looks just like the simple theano RNN, except for the use of the reset and update gates. Each of these gates requires its own hidden and input weights, so we add those to our weight matrices."
      ]
    },
    {
      "metadata": {
        "id": "IFTQ7K_jSxVC",
        "colab_type": "code",
        "colab": {
          "autoexec": {
            "startup": false,
            "wait_interval": 0
          }
        }
      },
      "cell_type": "code",
      "source": [
        "W_h = id_and_bias(n_hidden)\n",
        "W_x = init_wgts(n_input, n_hidden)\n",
        "W_y = wgts_and_bias(n_hidden, n_output)\n",
        "rW_h = init_wgts(n_hidden, n_hidden)\n",
        "rW_x = wgts_and_bias(n_input, n_hidden)\n",
        "uW_h = init_wgts(n_hidden, n_hidden)\n",
        "uW_x = wgts_and_bias(n_input, n_hidden)\n",
        "w_all = list(chain.from_iterable([W_h, W_y, uW_x, rW_x]))\n",
        "w_all.extend([W_x, uW_h, rW_h])"
      ],
      "execution_count": 0,
      "outputs": []
    },
    {
      "metadata": {
        "id": "hUpTnU7VeD9I",
        "colab_type": "code",
        "colab": {
          "autoexec": {
            "startup": false,
            "wait_interval": 0
          },
          "output_extras": [
            {
              "item_id": 1
            }
          ],
          "base_uri": "https://localhost:8080/",
          "height": 162
        },
        "outputId": "9fa2dc11-a37b-4bfe-a933-4c3695303eaa",
        "executionInfo": {
          "status": "error",
          "timestamp": 1522758439035,
          "user_tz": -330,
          "elapsed": 793,
          "user": {
            "displayName": "Rony Roy",
            "photoUrl": "https://lh3.googleusercontent.com/a/default-user=s128",
            "userId": "111772801988052207421"
          }
        }
      },
      "cell_type": "code",
      "source": [
        "type(uW_x.dtype)"
      ],
      "execution_count": 366,
      "outputs": [
        {
          "output_type": "error",
          "ename": "AttributeError",
          "evalue": "ignored",
          "traceback": [
            "\u001b[0;31m\u001b[0m",
            "\u001b[0;31mAttributeError\u001b[0mTraceback (most recent call last)",
            "\u001b[0;32m<ipython-input-366-d314b9a0942d>\u001b[0m in \u001b[0;36m<module>\u001b[0;34m()\u001b[0m\n\u001b[0;32m----> 1\u001b[0;31m \u001b[0mtype\u001b[0m\u001b[0;34m(\u001b[0m\u001b[0muW_x\u001b[0m\u001b[0;34m.\u001b[0m\u001b[0mdtype\u001b[0m\u001b[0;34m)\u001b[0m\u001b[0;34m\u001b[0m\u001b[0m\n\u001b[0m",
            "\u001b[0;31mAttributeError\u001b[0m: 'tuple' object has no attribute 'dtype'"
          ]
        }
      ]
    },
    {
      "metadata": {
        "id": "mAoKX0pieQyY",
        "colab_type": "code",
        "colab": {
          "autoexec": {
            "startup": false,
            "wait_interval": 0
          },
          "output_extras": [
            {
              "item_id": 1
            }
          ],
          "base_uri": "https://localhost:8080/",
          "height": 34
        },
        "outputId": "bfbbfdb3-ca32-4a1c-b3c2-b0c890e624ec",
        "executionInfo": {
          "status": "ok",
          "timestamp": 1522758430979,
          "user_tz": -330,
          "elapsed": 803,
          "user": {
            "displayName": "Rony Roy",
            "photoUrl": "https://lh3.googleusercontent.com/a/default-user=s128",
            "userId": "111772801988052207421"
          }
        }
      },
      "cell_type": "code",
      "source": [
        "type(uW_h.dtype)"
      ],
      "execution_count": 365,
      "outputs": [
        {
          "output_type": "execute_result",
          "data": {
            "text/plain": [
              "str"
            ]
          },
          "metadata": {
            "tags": []
          },
          "execution_count": 365
        }
      ]
    },
    {
      "metadata": {
        "id": "D692a7b-SxVD",
        "colab_type": "text"
      },
      "cell_type": "markdown",
      "source": [
        "Here's the definition of a gate - it's just a sigmoid applied to the addition of the dot products of the input vectors."
      ]
    },
    {
      "metadata": {
        "id": "7EYFv6JJSxVD",
        "colab_type": "code",
        "colab": {
          "autoexec": {
            "startup": false,
            "wait_interval": 0
          }
        }
      },
      "cell_type": "code",
      "source": [
        "def gate(x, h, W_h, W_x, b_x):\n",
        "    return nnet.sigmoid(T.dot(x, W_x) + b_x + T.dot(h, W_h))"
      ],
      "execution_count": 0,
      "outputs": []
    },
    {
      "metadata": {
        "id": "djxb8RcsSxVF",
        "colab_type": "text"
      },
      "cell_type": "markdown",
      "source": [
        "Our step is nearly identical to before, except that we multiply our hidden state by our reset gate, and we update our hidden state based on the update gate."
      ]
    },
    {
      "metadata": {
        "id": "kQgP4JJTSxVF",
        "colab_type": "code",
        "colab": {
          "autoexec": {
            "startup": false,
            "wait_interval": 0
          }
        }
      },
      "cell_type": "code",
      "source": [
        "def step(x, h, W_h, b_h, W_y, b_y, uW_x, ub_x, rW_x, rb_x, W_x, uW_h, rW_h):\n",
        "    reset = gate(x, h, rW_h, rW_x, rb_x)\n",
        "    update = gate(x, h, uW_h, uW_x, ub_x)\n",
        "    h_new = gate(x, h * reset, W_h, W_x, b_h)\n",
        "    h = update*h + (1-update)*h_new\n",
        "    y = nnet.softmax(T.dot(h, W_y) + b_y)\n",
        "    return h, T.flatten(y, 1)"
      ],
      "execution_count": 0,
      "outputs": []
    },
    {
      "metadata": {
        "id": "k3xV85_7SxVG",
        "colab_type": "text"
      },
      "cell_type": "markdown",
      "source": [
        "Everything from here on is identical to our simple RNN in theano."
      ]
    },
    {
      "metadata": {
        "id": "owU7R9hsSxVG",
        "colab_type": "code",
        "colab": {
          "autoexec": {
            "startup": false,
            "wait_interval": 0
          },
          "output_extras": [
            {
              "item_id": 1
            }
          ],
          "base_uri": "https://localhost:8080/",
          "height": 71
        },
        "outputId": "bc069885-b8fb-4aaf-a1d3-393acf431d6a",
        "executionInfo": {
          "status": "ok",
          "timestamp": 1522758067304,
          "user_tz": -330,
          "elapsed": 773,
          "user": {
            "displayName": "Rony Roy",
            "photoUrl": "https://lh3.googleusercontent.com/a/default-user=s128",
            "userId": "111772801988052207421"
          }
        }
      },
      "cell_type": "code",
      "source": [
        "[v_h, v_y], _ = theano.scan(step, sequences=t_inp, \n",
        "                            outputs_info=[t_h0, None], non_sequences=w_all)"
      ],
      "execution_count": 355,
      "outputs": [
        {
          "output_type": "stream",
          "text": [
            "/usr/local/lib/python2.7/dist-packages/ipykernel_launcher.py:6: UserWarning: DEPRECATION: If x is a vector, Softmax will not automatically pad x anymore in next releases. If you need it, please do it manually. The vector case is gonna be supported soon and the output will be a vector.\n",
            "  \n"
          ],
          "name": "stderr"
        }
      ]
    },
    {
      "metadata": {
        "id": "FWPM7OaqSxVH",
        "colab_type": "code",
        "colab": {
          "autoexec": {
            "startup": false,
            "wait_interval": 0
          }
        }
      },
      "cell_type": "code",
      "source": [
        "error = nnet.categorical_crossentropy(v_y, t_outp).sum()\n",
        "g_all = T.grad(error, w_all)"
      ],
      "execution_count": 0,
      "outputs": []
    },
    {
      "metadata": {
        "id": "2G_LhA4xfC8B",
        "colab_type": "code",
        "colab": {
          "autoexec": {
            "startup": false,
            "wait_interval": 0
          }
        }
      },
      "cell_type": "code",
      "source": [
        "!THEANO_FLAGS='floatX=float32'"
      ],
      "execution_count": 0,
      "outputs": []
    },
    {
      "metadata": {
        "id": "ytC9UBruSxVI",
        "colab_type": "code",
        "colab": {
          "autoexec": {
            "startup": false,
            "wait_interval": 0
          },
          "output_extras": [
            {
              "item_id": 1
            }
          ],
          "base_uri": "https://localhost:8080/",
          "height": 535
        },
        "outputId": "87a06130-3756-4252-9dab-48186b453d7e",
        "executionInfo": {
          "status": "error",
          "timestamp": 1522758606722,
          "user_tz": -330,
          "elapsed": 799,
          "user": {
            "displayName": "Rony Roy",
            "photoUrl": "https://lh3.googleusercontent.com/a/default-user=s128",
            "userId": "111772801988052207421"
          }
        }
      },
      "cell_type": "code",
      "source": [
        "upd = upd_dict(w_all, g_all, lr)\n",
        "fn = theano.function(all_args, error, updates=upd, allow_input_downcast=True)"
      ],
      "execution_count": 368,
      "outputs": [
        {
          "output_type": "error",
          "ename": "TypeError",
          "evalue": "ignored",
          "traceback": [
            "\u001b[0;31m\u001b[0m",
            "\u001b[0;31mTypeError\u001b[0mTraceback (most recent call last)",
            "\u001b[0;32m<ipython-input-368-9d6cdc39581c>\u001b[0m in \u001b[0;36m<module>\u001b[0;34m()\u001b[0m\n\u001b[1;32m      1\u001b[0m \u001b[0mupd\u001b[0m \u001b[0;34m=\u001b[0m \u001b[0mupd_dict\u001b[0m\u001b[0;34m(\u001b[0m\u001b[0mw_all\u001b[0m\u001b[0;34m,\u001b[0m \u001b[0mg_all\u001b[0m\u001b[0;34m,\u001b[0m \u001b[0mlr\u001b[0m\u001b[0;34m)\u001b[0m\u001b[0;34m\u001b[0m\u001b[0m\n\u001b[0;32m----> 2\u001b[0;31m \u001b[0mfn\u001b[0m \u001b[0;34m=\u001b[0m \u001b[0mtheano\u001b[0m\u001b[0;34m.\u001b[0m\u001b[0mfunction\u001b[0m\u001b[0;34m(\u001b[0m\u001b[0mall_args\u001b[0m\u001b[0;34m,\u001b[0m \u001b[0merror\u001b[0m\u001b[0;34m,\u001b[0m \u001b[0mupdates\u001b[0m\u001b[0;34m=\u001b[0m\u001b[0mupd\u001b[0m\u001b[0;34m,\u001b[0m \u001b[0mallow_input_downcast\u001b[0m\u001b[0;34m=\u001b[0m\u001b[0mTrue\u001b[0m\u001b[0;34m)\u001b[0m\u001b[0;34m\u001b[0m\u001b[0m\n\u001b[0m",
            "\u001b[0;32m/usr/local/lib/python2.7/dist-packages/theano/compile/function.pyc\u001b[0m in \u001b[0;36mfunction\u001b[0;34m(inputs, outputs, mode, updates, givens, no_default_updates, accept_inplace, name, rebuild_strict, allow_input_downcast, profile, on_unused_input)\u001b[0m\n\u001b[1;32m    315\u001b[0m                    \u001b[0mon_unused_input\u001b[0m\u001b[0;34m=\u001b[0m\u001b[0mon_unused_input\u001b[0m\u001b[0;34m,\u001b[0m\u001b[0;34m\u001b[0m\u001b[0m\n\u001b[1;32m    316\u001b[0m                    \u001b[0mprofile\u001b[0m\u001b[0;34m=\u001b[0m\u001b[0mprofile\u001b[0m\u001b[0;34m,\u001b[0m\u001b[0;34m\u001b[0m\u001b[0m\n\u001b[0;32m--> 317\u001b[0;31m                    output_keys=output_keys)\n\u001b[0m\u001b[1;32m    318\u001b[0m     \u001b[0;32mreturn\u001b[0m \u001b[0mfn\u001b[0m\u001b[0;34m\u001b[0m\u001b[0m\n",
            "\u001b[0;32m/usr/local/lib/python2.7/dist-packages/theano/compile/pfunc.pyc\u001b[0m in \u001b[0;36mpfunc\u001b[0;34m(params, outputs, mode, updates, givens, no_default_updates, accept_inplace, name, rebuild_strict, allow_input_downcast, profile, on_unused_input, output_keys)\u001b[0m\n\u001b[1;32m    447\u001b[0m                                          \u001b[0mrebuild_strict\u001b[0m\u001b[0;34m=\u001b[0m\u001b[0mrebuild_strict\u001b[0m\u001b[0;34m,\u001b[0m\u001b[0;34m\u001b[0m\u001b[0m\n\u001b[1;32m    448\u001b[0m                                          \u001b[0mcopy_inputs_over\u001b[0m\u001b[0;34m=\u001b[0m\u001b[0mTrue\u001b[0m\u001b[0;34m,\u001b[0m\u001b[0;34m\u001b[0m\u001b[0m\n\u001b[0;32m--> 449\u001b[0;31m                                          no_default_updates=no_default_updates)\n\u001b[0m\u001b[1;32m    450\u001b[0m     \u001b[0;31m# extracting the arguments\u001b[0m\u001b[0;34m\u001b[0m\u001b[0;34m\u001b[0m\u001b[0m\n\u001b[1;32m    451\u001b[0m     \u001b[0minput_variables\u001b[0m\u001b[0;34m,\u001b[0m \u001b[0mcloned_extended_outputs\u001b[0m\u001b[0;34m,\u001b[0m \u001b[0mother_stuff\u001b[0m \u001b[0;34m=\u001b[0m \u001b[0moutput_vars\u001b[0m\u001b[0;34m\u001b[0m\u001b[0m\n",
            "\u001b[0;32m/usr/local/lib/python2.7/dist-packages/theano/compile/pfunc.pyc\u001b[0m in \u001b[0;36mrebuild_collect_shared\u001b[0;34m(outputs, inputs, replace, updates, rebuild_strict, copy_inputs_over, no_default_updates)\u001b[0m\n\u001b[1;32m    206\u001b[0m                        ' function to remove broadcastable dimensions.')\n\u001b[1;32m    207\u001b[0m \u001b[0;34m\u001b[0m\u001b[0m\n\u001b[0;32m--> 208\u001b[0;31m             \u001b[0;32mraise\u001b[0m \u001b[0mTypeError\u001b[0m\u001b[0;34m(\u001b[0m\u001b[0merr_msg\u001b[0m\u001b[0;34m,\u001b[0m \u001b[0merr_sug\u001b[0m\u001b[0;34m)\u001b[0m\u001b[0;34m\u001b[0m\u001b[0m\n\u001b[0m\u001b[1;32m    209\u001b[0m         \u001b[0;32massert\u001b[0m \u001b[0mupdate_val\u001b[0m\u001b[0;34m.\u001b[0m\u001b[0mtype\u001b[0m \u001b[0;34m==\u001b[0m \u001b[0mstore_into\u001b[0m\u001b[0;34m.\u001b[0m\u001b[0mtype\u001b[0m\u001b[0;34m\u001b[0m\u001b[0m\n\u001b[1;32m    210\u001b[0m \u001b[0;34m\u001b[0m\u001b[0m\n",
            "\u001b[0;31mTypeError\u001b[0m: ('An update must have the same type as the original shared variable (shared_var=<TensorType(float32, vector)>, shared_var.type=TensorType(float32, vector), update_val=Elemwise{sub,no_inplace}.0, update_val.type=TensorType(float64, vector)).', 'If the difference is related to the broadcast pattern, you can call the tensor.unbroadcast(var, axis_to_unbroadcast[, ...]) function to remove broadcastable dimensions.')"
          ]
        }
      ]
    },
    {
      "metadata": {
        "id": "DWJ33GEjdFGH",
        "colab_type": "text"
      },
      "cell_type": "markdown",
      "source": [
        "Same funny error message as above.. when defining the fn:\n",
        "\n",
        "('An update must have the same type as the original shared variable (shared_var=<TensorType(float32, vector)>, shared_var.type=TensorType(float32, vector), update_val=Elemwise{sub,no_inplace}.0, update_val.type=TensorType(float64, vector)).', 'If the difference is related to the broadcast pattern, you can call the tensor.unbroadcast(var, axis_to_unbroadcast[, ...]) function to remove broadcastable dimensions.')"
      ]
    },
    {
      "metadata": {
        "id": "Sg6xfOM6SxVJ",
        "colab_type": "code",
        "colab": {
          "autoexec": {
            "startup": false,
            "wait_interval": 0
          },
          "output_extras": [
            {
              "item_id": 1
            }
          ],
          "base_uri": "https://localhost:8080/",
          "height": 229
        },
        "outputId": "d603692f-4207-4f5a-950f-a3f3804d21a0",
        "executionInfo": {
          "status": "error",
          "timestamp": 1522758113628,
          "user_tz": -330,
          "elapsed": 869,
          "user": {
            "displayName": "Rony Roy",
            "photoUrl": "https://lh3.googleusercontent.com/a/default-user=s128",
            "userId": "111772801988052207421"
          }
        }
      },
      "cell_type": "code",
      "source": [
        "err=0.0; l_rate=0.1\n",
        "for i in range(len(X)): \n",
        "    err+=fn(np.zeros(n_hidden), X[i], Y[i], l_rate)\n",
        "    if i % 1000 == 999: \n",
        "        l_rate *= 0.95\n",
        "        print (\"Error:{:.2f}\".format(err/1000))\n",
        "        err=0.0"
      ],
      "execution_count": 358,
      "outputs": [
        {
          "output_type": "error",
          "ename": "NameError",
          "evalue": "ignored",
          "traceback": [
            "\u001b[0;31m\u001b[0m",
            "\u001b[0;31mNameError\u001b[0mTraceback (most recent call last)",
            "\u001b[0;32m<ipython-input-358-2867536702d2>\u001b[0m in \u001b[0;36m<module>\u001b[0;34m()\u001b[0m\n\u001b[1;32m      1\u001b[0m \u001b[0merr\u001b[0m\u001b[0;34m=\u001b[0m\u001b[0;36m0.0\u001b[0m\u001b[0;34m;\u001b[0m \u001b[0ml_rate\u001b[0m\u001b[0;34m=\u001b[0m\u001b[0;36m0.1\u001b[0m\u001b[0;34m\u001b[0m\u001b[0m\n\u001b[1;32m      2\u001b[0m \u001b[0;32mfor\u001b[0m \u001b[0mi\u001b[0m \u001b[0;32min\u001b[0m \u001b[0mrange\u001b[0m\u001b[0;34m(\u001b[0m\u001b[0mlen\u001b[0m\u001b[0;34m(\u001b[0m\u001b[0mX\u001b[0m\u001b[0;34m)\u001b[0m\u001b[0;34m)\u001b[0m\u001b[0;34m:\u001b[0m\u001b[0;34m\u001b[0m\u001b[0m\n\u001b[0;32m----> 3\u001b[0;31m     \u001b[0merr\u001b[0m\u001b[0;34m+=\u001b[0m\u001b[0mfn\u001b[0m\u001b[0;34m(\u001b[0m\u001b[0mnp\u001b[0m\u001b[0;34m.\u001b[0m\u001b[0mzeros\u001b[0m\u001b[0;34m(\u001b[0m\u001b[0mn_hidden\u001b[0m\u001b[0;34m)\u001b[0m\u001b[0;34m,\u001b[0m \u001b[0mX\u001b[0m\u001b[0;34m[\u001b[0m\u001b[0mi\u001b[0m\u001b[0;34m]\u001b[0m\u001b[0;34m,\u001b[0m \u001b[0mY\u001b[0m\u001b[0;34m[\u001b[0m\u001b[0mi\u001b[0m\u001b[0;34m]\u001b[0m\u001b[0;34m,\u001b[0m \u001b[0ml_rate\u001b[0m\u001b[0;34m)\u001b[0m\u001b[0;34m\u001b[0m\u001b[0m\n\u001b[0m\u001b[1;32m      4\u001b[0m     \u001b[0;32mif\u001b[0m \u001b[0mi\u001b[0m \u001b[0;34m%\u001b[0m \u001b[0;36m1000\u001b[0m \u001b[0;34m==\u001b[0m \u001b[0;36m999\u001b[0m\u001b[0;34m:\u001b[0m\u001b[0;34m\u001b[0m\u001b[0m\n\u001b[1;32m      5\u001b[0m         \u001b[0ml_rate\u001b[0m \u001b[0;34m*=\u001b[0m \u001b[0;36m0.95\u001b[0m\u001b[0;34m\u001b[0m\u001b[0m\n",
            "\u001b[0;31mNameError\u001b[0m: name 'fn' is not defined"
          ]
        }
      ]
    },
    {
      "metadata": {
        "id": "-_GXm7zmSxVK",
        "colab_type": "text"
      },
      "cell_type": "markdown",
      "source": [
        "### Combined weights"
      ]
    },
    {
      "metadata": {
        "id": "Zy2EgwIzSxVL",
        "colab_type": "text"
      },
      "cell_type": "markdown",
      "source": [
        "We can make the previous section simpler and faster by concatenating the hidden and input matrices and inputs together. We're not going to step through this cell by cell - you'll see it's identical to the previous section except for this concatenation."
      ]
    },
    {
      "metadata": {
        "id": "HvNmLslKSxVL",
        "colab_type": "code",
        "colab": {
          "autoexec": {
            "startup": false,
            "wait_interval": 0
          }
        }
      },
      "cell_type": "code",
      "source": [
        "W = (shared(np.concatenate([np.eye(n_hidden), normal(size=(n_input, n_hidden))])\n",
        "            .astype(np.float32)), init_bias(n_hidden))\n",
        "\n",
        "rW = wgts_and_bias(n_input+n_hidden, n_hidden)\n",
        "uW = wgts_and_bias(n_input+n_hidden, n_hidden)\n",
        "W_y = wgts_and_bias(n_hidden, n_output)\n",
        "w_all = list(chain.from_iterable([W, W_y, uW, rW]))"
      ],
      "execution_count": 0,
      "outputs": []
    },
    {
      "metadata": {
        "id": "PpkRLaVZSxVL",
        "colab_type": "code",
        "colab": {
          "autoexec": {
            "startup": false,
            "wait_interval": 0
          }
        }
      },
      "cell_type": "code",
      "source": [
        "def gate(m, W, b): return nnet.sigmoid(T.dot(m, W) + b)"
      ],
      "execution_count": 0,
      "outputs": []
    },
    {
      "metadata": {
        "id": "kF1K3AW1SxVL",
        "colab_type": "code",
        "colab": {
          "autoexec": {
            "startup": false,
            "wait_interval": 0
          }
        }
      },
      "cell_type": "code",
      "source": [
        "def step(x, h, W, b, W_y, b_y, uW, ub, rW, rb):\n",
        "    m = T.concatenate([h, x])\n",
        "    reset = gate(m, rW, rb)\n",
        "    update = gate(m, uW, ub)\n",
        "    m = T.concatenate([h*reset, x])\n",
        "    h_new = gate(m, W, b)\n",
        "    h = update*h + (1-update)*h_new\n",
        "    y = nnet.softmax(T.dot(h, W_y) + b_y)\n",
        "    return h, T.flatten(y, 1)"
      ],
      "execution_count": 0,
      "outputs": []
    },
    {
      "metadata": {
        "id": "PF_Z-b6iSxVM",
        "colab_type": "code",
        "colab": {
          "autoexec": {
            "startup": false,
            "wait_interval": 0
          }
        }
      },
      "cell_type": "code",
      "source": [
        "[v_h, v_y], _ = theano.scan(step, sequences=t_inp, \n",
        "                            outputs_info=[t_h0, None], non_sequences=w_all)"
      ],
      "execution_count": 0,
      "outputs": []
    },
    {
      "metadata": {
        "id": "7kZATdAtSxVO",
        "colab_type": "code",
        "colab": {
          "autoexec": {
            "startup": false,
            "wait_interval": 0
          }
        }
      },
      "cell_type": "code",
      "source": [
        "def upd_dict(wgts, grads, lr): \n",
        "    return OrderedDict({w: w-g*lr for (w,g) in zip(wgts,grads)})"
      ],
      "execution_count": 0,
      "outputs": []
    },
    {
      "metadata": {
        "id": "5g2mthwZSxVP",
        "colab_type": "code",
        "colab": {
          "autoexec": {
            "startup": false,
            "wait_interval": 0
          }
        }
      },
      "cell_type": "code",
      "source": [
        "error = nnet.categorical_crossentropy(v_y, t_outp).sum()\n",
        "g_all = T.grad(error, w_all)"
      ],
      "execution_count": 0,
      "outputs": []
    },
    {
      "metadata": {
        "id": "ymOGlADySxVP",
        "colab_type": "code",
        "colab": {
          "autoexec": {
            "startup": false,
            "wait_interval": 0
          }
        }
      },
      "cell_type": "code",
      "source": [
        "upd = upd_dict(w_all, g_all, lr)\n",
        "fn = theano.function(all_args, error, updates=upd, allow_input_downcast=True)"
      ],
      "execution_count": 0,
      "outputs": []
    },
    {
      "metadata": {
        "id": "4EZ1EPSrdQgu",
        "colab_type": "code",
        "colab": {
          "autoexec": {
            "startup": false,
            "wait_interval": 0
          }
        }
      },
      "cell_type": "code",
      "source": [
        "err=0.0; l_rate=0.01\n",
        "for i in range(len(X)): \n",
        "    err+=fn(np.zeros(n_hidden), X[i], Y[i], l_rate)\n",
        "    if i % 1000 == 999: \n",
        "        print (\"Error:{:.2f}\".format(err/1000))\n",
        "        err=0.0"
      ],
      "execution_count": 0,
      "outputs": []
    },
    {
      "metadata": {
        "id": "k2kyzHyzSxVQ",
        "colab_type": "text"
      },
      "cell_type": "markdown",
      "source": [
        "### End"
      ]
    }
  ]
}
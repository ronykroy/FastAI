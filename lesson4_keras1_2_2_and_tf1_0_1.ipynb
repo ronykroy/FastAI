{
  "nbformat": 4,
  "nbformat_minor": 0,
  "metadata": {
    "colab": {
      "name": "lesson4 keras1.2.2 and tf1.0.1.ipynb",
      "version": "0.3.2",
      "views": {},
      "default_view": {},
      "provenance": [],
      "collapsed_sections": []
    },
    "kernelspec": {
      "display_name": "Python [default]",
      "language": "python",
      "name": "python2"
    },
    "accelerator": "GPU"
  },
  "cells": [
    {
      "metadata": {
        "id": "CSdcbpbUFUuc",
        "colab_type": "code",
        "colab": {
          "autoexec": {
            "startup": false,
            "wait_interval": 0
          },
          "output_extras": [
            {
              "item_id": 2
            }
          ],
          "base_uri": "https://localhost:8080/",
          "height": 118
        },
        "outputId": "c9a24431-018d-4c56-beb8-152eb26f04f7",
        "executionInfo": {
          "status": "ok",
          "timestamp": 1522058836216,
          "user_tz": -330,
          "elapsed": 2645,
          "user": {
            "displayName": "Rony Roy",
            "photoUrl": "https://lh3.googleusercontent.com/a/default-user=s128",
            "userId": "111772801988052207421"
          }
        }
      },
      "cell_type": "code",
      "source": [
        "! pip install keras==1.2.2"
      ],
      "execution_count": 124,
      "outputs": [
        {
          "output_type": "stream",
          "text": [
            "Requirement already satisfied: keras==1.2.2 in /usr/local/lib/python2.7/dist-packages\r\n",
            "Requirement already satisfied: six in /usr/local/lib/python2.7/dist-packages (from keras==1.2.2)\r\n",
            "Requirement already satisfied: theano in /usr/local/lib/python2.7/dist-packages (from keras==1.2.2)\n",
            "Requirement already satisfied: pyyaml in /usr/local/lib/python2.7/dist-packages (from keras==1.2.2)\n",
            "Requirement already satisfied: numpy>=1.9.1 in /usr/local/lib/python2.7/dist-packages (from theano->keras==1.2.2)\n",
            "Requirement already satisfied: scipy>=0.14 in /usr/local/lib/python2.7/dist-packages (from theano->keras==1.2.2)\n"
          ],
          "name": "stdout"
        }
      ]
    },
    {
      "metadata": {
        "id": "yokKvyW0Fa39",
        "colab_type": "code",
        "colab": {
          "autoexec": {
            "startup": false,
            "wait_interval": 0
          },
          "output_extras": [
            {
              "item_id": 1
            }
          ],
          "base_uri": "https://localhost:8080/",
          "height": 34
        },
        "outputId": "ce90ad0a-643c-4ed3-d09e-f8cc744c2e40",
        "executionInfo": {
          "status": "ok",
          "timestamp": 1522058837085,
          "user_tz": -330,
          "elapsed": 773,
          "user": {
            "displayName": "Rony Roy",
            "photoUrl": "https://lh3.googleusercontent.com/a/default-user=s128",
            "userId": "111772801988052207421"
          }
        }
      },
      "cell_type": "code",
      "source": [
        " import keras\n",
        " print(keras.__version__)"
      ],
      "execution_count": 125,
      "outputs": [
        {
          "output_type": "stream",
          "text": [
            "1.2.2\n"
          ],
          "name": "stdout"
        }
      ]
    },
    {
      "metadata": {
        "id": "5qyLxijGFkYF",
        "colab_type": "code",
        "colab": {
          "autoexec": {
            "startup": false,
            "wait_interval": 0
          },
          "output_extras": [
            {
              "item_id": 2
            }
          ],
          "base_uri": "https://localhost:8080/",
          "height": 168
        },
        "outputId": "13aaf164-ea81-4a78-e9d6-9056cf6de615",
        "executionInfo": {
          "status": "ok",
          "timestamp": 1522058838885,
          "user_tz": -330,
          "elapsed": 1662,
          "user": {
            "displayName": "Rony Roy",
            "photoUrl": "https://lh3.googleusercontent.com/a/default-user=s128",
            "userId": "111772801988052207421"
          }
        }
      },
      "cell_type": "code",
      "source": [
        "! pip install tensorflow==1.0.1"
      ],
      "execution_count": 126,
      "outputs": [
        {
          "output_type": "stream",
          "text": [
            "Requirement already satisfied: tensorflow==1.0.1 in /usr/local/lib/python2.7/dist-packages\r\n",
            "Requirement already satisfied: numpy>=1.11.0 in /usr/local/lib/python2.7/dist-packages (from tensorflow==1.0.1)\r\n",
            "Requirement already satisfied: mock>=2.0.0 in /usr/local/lib/python2.7/dist-packages (from tensorflow==1.0.1)\r\n",
            "Requirement already satisfied: wheel in /usr/local/lib/python2.7/dist-packages (from tensorflow==1.0.1)\n",
            "Requirement already satisfied: six>=1.10.0 in /usr/local/lib/python2.7/dist-packages (from tensorflow==1.0.1)\n",
            "Requirement already satisfied: protobuf>=3.1.0 in /usr/local/lib/python2.7/dist-packages (from tensorflow==1.0.1)\n",
            "Requirement already satisfied: funcsigs>=1; python_version < \"3.3\" in /usr/local/lib/python2.7/dist-packages (from mock>=2.0.0->tensorflow==1.0.1)\n",
            "Requirement already satisfied: pbr>=0.11 in /usr/local/lib/python2.7/dist-packages (from mock>=2.0.0->tensorflow==1.0.1)\n",
            "Requirement already satisfied: setuptools in /usr/lib/python2.7/dist-packages (from protobuf>=3.1.0->tensorflow==1.0.1)\n"
          ],
          "name": "stdout"
        }
      ]
    },
    {
      "metadata": {
        "id": "PK9eVCdCFxa3",
        "colab_type": "code",
        "colab": {
          "autoexec": {
            "startup": false,
            "wait_interval": 0
          },
          "output_extras": [
            {
              "item_id": 1
            }
          ],
          "base_uri": "https://localhost:8080/",
          "height": 34
        },
        "outputId": "585c0377-12d8-485d-809f-39d1c20e01e0",
        "executionInfo": {
          "status": "ok",
          "timestamp": 1522058839738,
          "user_tz": -330,
          "elapsed": 779,
          "user": {
            "displayName": "Rony Roy",
            "photoUrl": "https://lh3.googleusercontent.com/a/default-user=s128",
            "userId": "111772801988052207421"
          }
        }
      },
      "cell_type": "code",
      "source": [
        " import tensorflow \n",
        " print(tensorflow.__version__)"
      ],
      "execution_count": 127,
      "outputs": [
        {
          "output_type": "stream",
          "text": [
            "1.0.1\n"
          ],
          "name": "stdout"
        }
      ]
    },
    {
      "metadata": {
        "id": "G7M4olrUF2lA",
        "colab_type": "code",
        "colab": {
          "autoexec": {
            "startup": false,
            "wait_interval": 0
          },
          "output_extras": [
            {
              "item_id": 1
            }
          ],
          "base_uri": "https://localhost:8080/",
          "height": 84
        },
        "outputId": "89ab1b6b-8f4f-4149-c9d6-b5c49c303d92",
        "executionInfo": {
          "status": "ok",
          "timestamp": 1522058841502,
          "user_tz": -330,
          "elapsed": 1618,
          "user": {
            "displayName": "Rony Roy",
            "photoUrl": "https://lh3.googleusercontent.com/a/default-user=s128",
            "userId": "111772801988052207421"
          }
        }
      },
      "cell_type": "code",
      "source": [
        "! pip install theano"
      ],
      "execution_count": 128,
      "outputs": [
        {
          "output_type": "stream",
          "text": [
            "Requirement already satisfied: theano in /usr/local/lib/python2.7/dist-packages\r\n",
            "Requirement already satisfied: six>=1.9.0 in /usr/local/lib/python2.7/dist-packages (from theano)\r\n",
            "Requirement already satisfied: numpy>=1.9.1 in /usr/local/lib/python2.7/dist-packages (from theano)\r\n",
            "Requirement already satisfied: scipy>=0.14 in /usr/local/lib/python2.7/dist-packages (from theano)\r\n"
          ],
          "name": "stdout"
        }
      ]
    },
    {
      "metadata": {
        "id": "HQY7w7p_GAs9",
        "colab_type": "code",
        "colab": {
          "autoexec": {
            "startup": false,
            "wait_interval": 0
          },
          "output_extras": [
            {
              "item_id": 1
            }
          ],
          "base_uri": "https://localhost:8080/",
          "height": 34
        },
        "outputId": "c532d6f1-80fc-4f09-8e52-16d8c842c645",
        "executionInfo": {
          "status": "ok",
          "timestamp": 1522058843260,
          "user_tz": -330,
          "elapsed": 1671,
          "user": {
            "displayName": "Rony Roy",
            "photoUrl": "https://lh3.googleusercontent.com/a/default-user=s128",
            "userId": "111772801988052207421"
          }
        }
      },
      "cell_type": "code",
      "source": [
        "! pip install nose "
      ],
      "execution_count": 129,
      "outputs": [
        {
          "output_type": "stream",
          "text": [
            "Requirement already satisfied: nose in /usr/local/lib/python2.7/dist-packages\r\n"
          ],
          "name": "stdout"
        }
      ]
    },
    {
      "metadata": {
        "id": "2ibvbMjgEDRR",
        "colab_type": "code",
        "colab": {
          "autoexec": {
            "startup": false,
            "wait_interval": 0
          }
        }
      },
      "cell_type": "code",
      "source": [
        "# from theano.sandbox import cuda\n",
        "# nto sure why this is here.. chek for GPU..?"
      ],
      "execution_count": 0,
      "outputs": []
    },
    {
      "metadata": {
        "id": "GP1uixkPEDRX",
        "colab_type": "code",
        "colab": {
          "autoexec": {
            "startup": false,
            "wait_interval": 0
          }
        }
      },
      "cell_type": "code",
      "source": [
        "%matplotlib inline\n",
        "import utils; reload(utils)\n",
        "from utils import *\n",
        "from __future__ import division, print_function"
      ],
      "execution_count": 0,
      "outputs": []
    },
    {
      "metadata": {
        "id": "XaJHAiKPcayG",
        "colab_type": "text"
      },
      "cell_type": "markdown",
      "source": [
        "## upload files from local drive \n",
        "Google cloab import code if needed to upload the above utils file.."
      ]
    },
    {
      "metadata": {
        "id": "FbRGAB0-GMHE",
        "colab_type": "code",
        "colab": {
          "autoexec": {
            "startup": false,
            "wait_interval": 0
          },
          "output_extras": [
            {
              "item_id": 2
            }
          ],
          "base_uri": "https://localhost:8080/",
          "height": 202
        },
        "outputId": "5fcc5a9e-ae0c-4aca-84ff-c772c16515e3",
        "executionInfo": {
          "status": "ok",
          "timestamp": 1522058846485,
          "user_tz": -330,
          "elapsed": 1427,
          "user": {
            "displayName": "Rony Roy",
            "photoUrl": "https://lh3.googleusercontent.com/a/default-user=s128",
            "userId": "111772801988052207421"
          }
        }
      },
      "cell_type": "code",
      "source": [
        "! wget http://files.grouplens.org/datasets/movielens/ml-latest-small.zip"
      ],
      "execution_count": 132,
      "outputs": [
        {
          "output_type": "stream",
          "text": [
            "--2018-03-26 10:07:25--  http://files.grouplens.org/datasets/movielens/ml-latest-small.zip\n",
            "Resolving files.grouplens.org (files.grouplens.org)... 128.101.34.235\n",
            "Connecting to files.grouplens.org (files.grouplens.org)|128.101.34.235|:80... connected.\n",
            "HTTP request sent, awaiting response... 200 OK\n",
            "Length: 918269 (897K) [application/zip]\n",
            "Saving to: ‘ml-latest-small.zip.3’\n",
            "\n",
            "ml-latest-small.zip 100%[===================>] 896.75K  4.01MB/s    in 0.2s    \n",
            "\n",
            "2018-03-26 10:07:26 (4.01 MB/s) - ‘ml-latest-small.zip.3’ saved [918269/918269]\n",
            "\n"
          ],
          "name": "stdout"
        }
      ]
    },
    {
      "metadata": {
        "id": "gMatNGygHshw",
        "colab_type": "code",
        "colab": {
          "autoexec": {
            "startup": false,
            "wait_interval": 0
          },
          "output_extras": [
            {
              "item_id": 1
            }
          ],
          "base_uri": "https://localhost:8080/",
          "height": 34
        },
        "outputId": "4b9995fb-1126-4ff7-d0a9-466ee0c270c2",
        "executionInfo": {
          "status": "ok",
          "timestamp": 1522058847327,
          "user_tz": -330,
          "elapsed": 785,
          "user": {
            "displayName": "Rony Roy",
            "photoUrl": "https://lh3.googleusercontent.com/a/default-user=s128",
            "userId": "111772801988052207421"
          }
        }
      },
      "cell_type": "code",
      "source": [
        "! mkdir data"
      ],
      "execution_count": 133,
      "outputs": [
        {
          "output_type": "stream",
          "text": [
            "mkdir: cannot create directory ‘data’: File exists\r\n"
          ],
          "name": "stdout"
        }
      ]
    },
    {
      "metadata": {
        "id": "-mvchqBLHuzv",
        "colab_type": "code",
        "colab": {
          "autoexec": {
            "startup": false,
            "wait_interval": 0
          },
          "output_extras": [
            {
              "item_id": 1
            }
          ],
          "base_uri": "https://localhost:8080/",
          "height": 34
        },
        "outputId": "b8c9fcbc-cc24-4927-d5ba-be74d4fcffa9",
        "executionInfo": {
          "status": "ok",
          "timestamp": 1522058848172,
          "user_tz": -330,
          "elapsed": 667,
          "user": {
            "displayName": "Rony Roy",
            "photoUrl": "https://lh3.googleusercontent.com/a/default-user=s128",
            "userId": "111772801988052207421"
          }
        }
      },
      "cell_type": "code",
      "source": [
        "!ls data/\n"
      ],
      "execution_count": 134,
      "outputs": [
        {
          "output_type": "stream",
          "text": [
            "ml-latest-small\r\n"
          ],
          "name": "stdout"
        }
      ]
    },
    {
      "metadata": {
        "id": "jocyQH0HEDRb",
        "colab_type": "code",
        "colab": {
          "autoexec": {
            "startup": false,
            "wait_interval": 0
          }
        }
      },
      "cell_type": "code",
      "source": [
        "#path = \"data/ml-20m/\"\n",
        "path = \"data/ml-latest-small/\"\n",
        "model_path = path + 'models/'\n",
        "if not os.path.exists(model_path): os.mkdir(model_path)\n",
        "batch_size=64"
      ],
      "execution_count": 0,
      "outputs": []
    },
    {
      "metadata": {
        "id": "GlpoqP9DEDRe",
        "colab_type": "text"
      },
      "cell_type": "markdown",
      "source": [
        "## Set up data"
      ]
    },
    {
      "metadata": {
        "id": "IDwjCjVuEDRf",
        "colab_type": "text"
      },
      "cell_type": "markdown",
      "source": [
        "Structure:: the movielens data, which contains one rating per row, like so:"
      ]
    },
    {
      "metadata": {
        "id": "3kdGVKrhEDRg",
        "colab_type": "code",
        "colab": {
          "autoexec": {
            "startup": false,
            "wait_interval": 0
          },
          "output_extras": [
            {
              "item_id": 1
            }
          ],
          "base_uri": "https://localhost:8080/",
          "height": 195
        },
        "outputId": "e351f9cb-4a82-40d2-ec18-25d835a35ef4",
        "executionInfo": {
          "status": "ok",
          "timestamp": 1522058849889,
          "user_tz": -330,
          "elapsed": 757,
          "user": {
            "displayName": "Rony Roy",
            "photoUrl": "https://lh3.googleusercontent.com/a/default-user=s128",
            "userId": "111772801988052207421"
          }
        }
      },
      "cell_type": "code",
      "source": [
        "ratings = pd.read_csv(path+'ratings.csv')\n",
        "ratings.head()"
      ],
      "execution_count": 136,
      "outputs": [
        {
          "output_type": "execute_result",
          "data": {
            "text/html": [
              "<div>\n",
              "<style scoped>\n",
              "    .dataframe tbody tr th:only-of-type {\n",
              "        vertical-align: middle;\n",
              "    }\n",
              "\n",
              "    .dataframe tbody tr th {\n",
              "        vertical-align: top;\n",
              "    }\n",
              "\n",
              "    .dataframe thead th {\n",
              "        text-align: right;\n",
              "    }\n",
              "</style>\n",
              "<table border=\"1\" class=\"dataframe\">\n",
              "  <thead>\n",
              "    <tr style=\"text-align: right;\">\n",
              "      <th></th>\n",
              "      <th>userId</th>\n",
              "      <th>movieId</th>\n",
              "      <th>rating</th>\n",
              "      <th>timestamp</th>\n",
              "    </tr>\n",
              "  </thead>\n",
              "  <tbody>\n",
              "    <tr>\n",
              "      <th>0</th>\n",
              "      <td>1</td>\n",
              "      <td>31</td>\n",
              "      <td>2.5</td>\n",
              "      <td>1260759144</td>\n",
              "    </tr>\n",
              "    <tr>\n",
              "      <th>1</th>\n",
              "      <td>1</td>\n",
              "      <td>1029</td>\n",
              "      <td>3.0</td>\n",
              "      <td>1260759179</td>\n",
              "    </tr>\n",
              "    <tr>\n",
              "      <th>2</th>\n",
              "      <td>1</td>\n",
              "      <td>1061</td>\n",
              "      <td>3.0</td>\n",
              "      <td>1260759182</td>\n",
              "    </tr>\n",
              "    <tr>\n",
              "      <th>3</th>\n",
              "      <td>1</td>\n",
              "      <td>1129</td>\n",
              "      <td>2.0</td>\n",
              "      <td>1260759185</td>\n",
              "    </tr>\n",
              "    <tr>\n",
              "      <th>4</th>\n",
              "      <td>1</td>\n",
              "      <td>1172</td>\n",
              "      <td>4.0</td>\n",
              "      <td>1260759205</td>\n",
              "    </tr>\n",
              "  </tbody>\n",
              "</table>\n",
              "</div>"
            ],
            "text/plain": [
              "   userId  movieId  rating   timestamp\n",
              "0       1       31     2.5  1260759144\n",
              "1       1     1029     3.0  1260759179\n",
              "2       1     1061     3.0  1260759182\n",
              "3       1     1129     2.0  1260759185\n",
              "4       1     1172     4.0  1260759205"
            ]
          },
          "metadata": {
            "tags": []
          },
          "execution_count": 136
        }
      ]
    },
    {
      "metadata": {
        "id": "XFZD9g_ZEDRj",
        "colab_type": "code",
        "colab": {
          "autoexec": {
            "startup": false,
            "wait_interval": 0
          },
          "output_extras": [
            {
              "item_id": 1
            }
          ],
          "base_uri": "https://localhost:8080/",
          "height": 34
        },
        "outputId": "fac40062-b248-47d1-d8e1-c4802aadb26c",
        "executionInfo": {
          "status": "ok",
          "timestamp": 1522058850757,
          "user_tz": -330,
          "elapsed": 722,
          "user": {
            "displayName": "Rony Roy",
            "photoUrl": "https://lh3.googleusercontent.com/a/default-user=s128",
            "userId": "111772801988052207421"
          }
        }
      },
      "cell_type": "code",
      "source": [
        "len(ratings)"
      ],
      "execution_count": 137,
      "outputs": [
        {
          "output_type": "execute_result",
          "data": {
            "text/plain": [
              "100004"
            ]
          },
          "metadata": {
            "tags": []
          },
          "execution_count": 137
        }
      ]
    },
    {
      "metadata": {
        "id": "gcvvKwX6EDRn",
        "colab_type": "text"
      },
      "cell_type": "markdown",
      "source": [
        "Just for display purposes, let's read in the movie names too."
      ]
    },
    {
      "metadata": {
        "id": "pTL-qJ-7EDRp",
        "colab_type": "code",
        "colab": {
          "autoexec": {
            "startup": false,
            "wait_interval": 0
          }
        }
      },
      "cell_type": "code",
      "source": [
        "movie_names = pd.read_csv(path+'movies.csv').set_index('movieId')['title'].to_dict()"
      ],
      "execution_count": 0,
      "outputs": []
    },
    {
      "metadata": {
        "id": "MIR-001Fc_Di",
        "colab_type": "text"
      },
      "cell_type": "markdown",
      "source": [
        "Load the data to a data frame named movie_names.  \n",
        "like how: read path csv.. to a df..  \n",
        "set the index.. as movieID col..   \n",
        "the title column as key's values.. lump the whole thing into a dict..."
      ]
    },
    {
      "metadata": {
        "id": "UbBD0rU9EDRt",
        "colab_type": "code",
        "colab": {
          "autoexec": {
            "startup": false,
            "wait_interval": 0
          }
        }
      },
      "cell_type": "code",
      "source": [
        "users = ratings.userId.unique()\n",
        "movies = ratings.movieId.unique()"
      ],
      "execution_count": 0,
      "outputs": []
    },
    {
      "metadata": {
        "id": "I_LRZ-RpeOxs",
        "colab_type": "code",
        "colab": {
          "autoexec": {
            "startup": false,
            "wait_interval": 0
          },
          "output_extras": [
            {
              "item_id": 1
            }
          ],
          "base_uri": "https://localhost:8080/",
          "height": 34
        },
        "outputId": "c8f04b22-f991-4f47-856c-7c8cda2f5170",
        "executionInfo": {
          "status": "ok",
          "timestamp": 1522058853344,
          "user_tz": -330,
          "elapsed": 772,
          "user": {
            "displayName": "Rony Roy",
            "photoUrl": "https://lh3.googleusercontent.com/a/default-user=s128",
            "userId": "111772801988052207421"
          }
        }
      },
      "cell_type": "code",
      "source": [
        "users.shape"
      ],
      "execution_count": 140,
      "outputs": [
        {
          "output_type": "execute_result",
          "data": {
            "text/plain": [
              "(671,)"
            ]
          },
          "metadata": {
            "tags": []
          },
          "execution_count": 140
        }
      ]
    },
    {
      "metadata": {
        "id": "QASkk3QCeRfe",
        "colab_type": "code",
        "colab": {
          "autoexec": {
            "startup": false,
            "wait_interval": 0
          },
          "output_extras": [
            {
              "item_id": 1
            }
          ],
          "base_uri": "https://localhost:8080/",
          "height": 34
        },
        "outputId": "b685fc6f-7389-4ec1-cd05-ada7a3bc4a63",
        "executionInfo": {
          "status": "ok",
          "timestamp": 1522058854183,
          "user_tz": -330,
          "elapsed": 698,
          "user": {
            "displayName": "Rony Roy",
            "photoUrl": "https://lh3.googleusercontent.com/a/default-user=s128",
            "userId": "111772801988052207421"
          }
        }
      },
      "cell_type": "code",
      "source": [
        "users[-11:] # peculiarity of nd 1D array.. still gotta use the : for the result below.. which is \n",
        "# last 11 entries"
      ],
      "execution_count": 141,
      "outputs": [
        {
          "output_type": "execute_result",
          "data": {
            "text/plain": [
              "array([661, 662, 663, 664, 665, 666, 667, 668, 669, 670, 671])"
            ]
          },
          "metadata": {
            "tags": []
          },
          "execution_count": 141
        }
      ]
    },
    {
      "metadata": {
        "id": "zMYX0KDYeprG",
        "colab_type": "code",
        "colab": {
          "autoexec": {
            "startup": false,
            "wait_interval": 0
          },
          "output_extras": [
            {
              "item_id": 1
            }
          ],
          "base_uri": "https://localhost:8080/",
          "height": 34
        },
        "outputId": "fbf4daeb-3f8c-4939-c838-d5f5cdf39809",
        "executionInfo": {
          "status": "ok",
          "timestamp": 1522058855031,
          "user_tz": -330,
          "elapsed": 703,
          "user": {
            "displayName": "Rony Roy",
            "photoUrl": "https://lh3.googleusercontent.com/a/default-user=s128",
            "userId": "111772801988052207421"
          }
        }
      },
      "cell_type": "code",
      "source": [
        "movies[-11:] # remember this is just an nd array of ovie ids"
      ],
      "execution_count": 142,
      "outputs": [
        {
          "output_type": "execute_result",
          "data": {
            "text/plain": [
              "array([134246, 134528, 134783, 137595, 138204,  60832,  64997,  72380,    129,   4736,   6425])"
            ]
          },
          "metadata": {
            "tags": []
          },
          "execution_count": 142
        }
      ]
    },
    {
      "metadata": {
        "id": "O7ECfZDpEDRx",
        "colab_type": "code",
        "colab": {
          "autoexec": {
            "startup": false,
            "wait_interval": 0
          }
        }
      },
      "cell_type": "code",
      "source": [
        "userid2idx = {o:i for i,o in enumerate(users)}\n",
        "movieid2idx = {o:i for i,o in enumerate(movies)}"
      ],
      "execution_count": 0,
      "outputs": []
    },
    {
      "metadata": {
        "id": "aERwctgPelNK",
        "colab_type": "text"
      },
      "cell_type": "markdown",
      "source": [
        "the above converts to dict.. the elements of the above ND arrays"
      ]
    },
    {
      "metadata": {
        "id": "YAYPzTWgeDF1",
        "colab_type": "code",
        "colab": {
          "autoexec": {
            "startup": false,
            "wait_interval": 0
          },
          "output_extras": [
            {
              "item_id": 1
            }
          ],
          "base_uri": "https://localhost:8080/",
          "height": 34
        },
        "outputId": "0cfc35fc-9b10-4f8c-d56f-64016297d2ce",
        "executionInfo": {
          "status": "ok",
          "timestamp": 1522058856929,
          "user_tz": -330,
          "elapsed": 956,
          "user": {
            "displayName": "Rony Roy",
            "photoUrl": "https://lh3.googleusercontent.com/a/default-user=s128",
            "userId": "111772801988052207421"
          }
        }
      },
      "cell_type": "code",
      "source": [
        "type(users)"
      ],
      "execution_count": 144,
      "outputs": [
        {
          "output_type": "execute_result",
          "data": {
            "text/plain": [
              "numpy.ndarray"
            ]
          },
          "metadata": {
            "tags": []
          },
          "execution_count": 144
        }
      ]
    },
    {
      "metadata": {
        "id": "qK9tub5YeFR7",
        "colab_type": "code",
        "colab": {
          "autoexec": {
            "startup": false,
            "wait_interval": 0
          },
          "output_extras": [
            {
              "item_id": 1
            }
          ],
          "base_uri": "https://localhost:8080/",
          "height": 34
        },
        "outputId": "2c777462-1c3e-4ff0-abf1-0a34b5010cfd",
        "executionInfo": {
          "status": "ok",
          "timestamp": 1522058857769,
          "user_tz": -330,
          "elapsed": 741,
          "user": {
            "displayName": "Rony Roy",
            "photoUrl": "https://lh3.googleusercontent.com/a/default-user=s128",
            "userId": "111772801988052207421"
          }
        }
      },
      "cell_type": "code",
      "source": [
        "type(userid2idx)"
      ],
      "execution_count": 145,
      "outputs": [
        {
          "output_type": "execute_result",
          "data": {
            "text/plain": [
              "dict"
            ]
          },
          "metadata": {
            "tags": []
          },
          "execution_count": 145
        }
      ]
    },
    {
      "metadata": {
        "id": "qjj2T72_U_m6",
        "colab_type": "text"
      },
      "cell_type": "markdown",
      "source": [
        "Unsure why the above step didnt work before..  \n",
        "only major change from this version of the book vs prev  \n",
        "is the compination of keras and TF versions1.2.2 and 1.0.1 respectively\n",
        "Last seen error: was about batch_matmult..  \n",
        "knowissue where keras 2.X breasks down"
      ]
    },
    {
      "metadata": {
        "id": "IfuTL86sEDR0",
        "colab_type": "text"
      },
      "cell_type": "markdown",
      "source": [
        "Update the movie and user ids so that they are contiguous integers, which we want when using embeddings."
      ]
    },
    {
      "metadata": {
        "id": "0u7I2LqrEDR1",
        "colab_type": "code",
        "colab": {
          "autoexec": {
            "startup": false,
            "wait_interval": 0
          }
        }
      },
      "cell_type": "code",
      "source": [
        "ratings.movieId = ratings.movieId.apply(lambda x: movieid2idx[x])\n",
        "ratings.userId = ratings.userId.apply(lambda x: userid2idx[x])"
      ],
      "execution_count": 0,
      "outputs": []
    },
    {
      "metadata": {
        "id": "yvvY7xhvEDR4",
        "colab_type": "code",
        "colab": {
          "autoexec": {
            "startup": false,
            "wait_interval": 0
          },
          "output_extras": [
            {
              "item_id": 1
            }
          ],
          "base_uri": "https://localhost:8080/",
          "height": 34
        },
        "outputId": "c1962bc6-7057-4f12-a525-e2cda320d4c3",
        "executionInfo": {
          "status": "ok",
          "timestamp": 1522058859466,
          "user_tz": -330,
          "elapsed": 765,
          "user": {
            "displayName": "Rony Roy",
            "photoUrl": "https://lh3.googleusercontent.com/a/default-user=s128",
            "userId": "111772801988052207421"
          }
        }
      },
      "cell_type": "code",
      "source": [
        "user_min, user_max, movie_min, movie_max = (ratings.userId.min(), \n",
        "    ratings.userId.max(), ratings.movieId.min(), ratings.movieId.max())\n",
        "user_min, user_max, movie_min, movie_max #get the stats"
      ],
      "execution_count": 147,
      "outputs": [
        {
          "output_type": "execute_result",
          "data": {
            "text/plain": [
              "(0, 670, 0, 9065)"
            ]
          },
          "metadata": {
            "tags": []
          },
          "execution_count": 147
        }
      ]
    },
    {
      "metadata": {
        "id": "8dYlKDgzEDR7",
        "colab_type": "code",
        "colab": {
          "autoexec": {
            "startup": false,
            "wait_interval": 0
          },
          "output_extras": [
            {
              "item_id": 1
            }
          ],
          "base_uri": "https://localhost:8080/",
          "height": 34
        },
        "outputId": "2139839d-fb0e-4931-d117-cc20e894b754",
        "executionInfo": {
          "status": "ok",
          "timestamp": 1522058860318,
          "user_tz": -330,
          "elapsed": 692,
          "user": {
            "displayName": "Rony Roy",
            "photoUrl": "https://lh3.googleusercontent.com/a/default-user=s128",
            "userId": "111772801988052207421"
          }
        }
      },
      "cell_type": "code",
      "source": [
        "n_users = ratings.userId.nunique()\n",
        "n_movies = ratings.movieId.nunique()\n",
        "n_users, n_movies"
      ],
      "execution_count": 148,
      "outputs": [
        {
          "output_type": "execute_result",
          "data": {
            "text/plain": [
              "(671, 9066)"
            ]
          },
          "metadata": {
            "tags": []
          },
          "execution_count": 148
        }
      ]
    },
    {
      "metadata": {
        "id": "SlG_eP0SEDSE",
        "colab_type": "text"
      },
      "cell_type": "markdown",
      "source": [
        "This is the number of latent factors in each embedding..."
      ]
    },
    {
      "metadata": {
        "id": "1XOOTIquEDSE",
        "colab_type": "code",
        "colab": {
          "autoexec": {
            "startup": false,
            "wait_interval": 0
          }
        }
      },
      "cell_type": "code",
      "source": [
        "n_factors = 50"
      ],
      "execution_count": 0,
      "outputs": []
    },
    {
      "metadata": {
        "id": "0mz5PgBrEDSJ",
        "colab_type": "code",
        "colab": {
          "autoexec": {
            "startup": false,
            "wait_interval": 0
          }
        }
      },
      "cell_type": "code",
      "source": [
        "np.random.seed = 42"
      ],
      "execution_count": 0,
      "outputs": []
    },
    {
      "metadata": {
        "id": "iQZUg-23EDSM",
        "colab_type": "text"
      },
      "cell_type": "markdown",
      "source": [
        "Randomly split into training and validation."
      ]
    },
    {
      "metadata": {
        "id": "7vQivL3yEDSN",
        "colab_type": "code",
        "colab": {
          "autoexec": {
            "startup": false,
            "wait_interval": 0
          }
        }
      },
      "cell_type": "code",
      "source": [
        "msk = np.random.rand(len(ratings)) < 0.8 # create a mask.. much like bit mask\n",
        "trn = ratings[msk]\n",
        "val = ratings[~msk]"
      ],
      "execution_count": 0,
      "outputs": []
    },
    {
      "metadata": {
        "id": "MY96Lgm4EDSQ",
        "colab_type": "text"
      },
      "cell_type": "markdown",
      "source": [
        "## Create subset for Excel"
      ]
    },
    {
      "metadata": {
        "id": "zU-XFcp7EDSS",
        "colab_type": "text"
      },
      "cell_type": "markdown",
      "source": [
        "We create a crosstab of the most popular movies and most movie-addicted users which we'll copy into Excel for creating a simple example. This isn't necessary for any of the modeling below however."
      ]
    },
    {
      "metadata": {
        "id": "DBOefjb3EDST",
        "colab_type": "code",
        "colab": {
          "autoexec": {
            "startup": false,
            "wait_interval": 0
          }
        }
      },
      "cell_type": "code",
      "source": [
        "g=ratings.groupby('userId')['rating'].count()\n",
        "topUsers=g.sort_values(ascending=False)[:15] # get the top 15 users  for viewing purposes"
      ],
      "execution_count": 0,
      "outputs": []
    },
    {
      "metadata": {
        "id": "2kBYNWA1EDSX",
        "colab_type": "code",
        "colab": {
          "autoexec": {
            "startup": false,
            "wait_interval": 0
          }
        }
      },
      "cell_type": "code",
      "source": [
        "g=ratings.groupby('movieId')['rating'].count()\n",
        "topMovies=g.sort_values(ascending=False)[:15]# top rated movies this time.."
      ],
      "execution_count": 0,
      "outputs": []
    },
    {
      "metadata": {
        "id": "2YAltxZqEDSZ",
        "colab_type": "code",
        "colab": {
          "autoexec": {
            "startup": false,
            "wait_interval": 0
          }
        }
      },
      "cell_type": "code",
      "source": [
        "top_r = ratings.join(topUsers, rsuffix='_r', how='inner', on='userId') # cool SQL join.. :) in built"
      ],
      "execution_count": 0,
      "outputs": []
    },
    {
      "metadata": {
        "id": "ghAAkeWNEDSc",
        "colab_type": "code",
        "colab": {
          "autoexec": {
            "startup": false,
            "wait_interval": 0
          }
        }
      },
      "cell_type": "code",
      "source": [
        "top_r = top_r.join(topMovies, rsuffix='_r', how='inner', on='movieId')"
      ],
      "execution_count": 0,
      "outputs": []
    },
    {
      "metadata": {
        "id": "u_vh2dfDEDSe",
        "colab_type": "code",
        "colab": {
          "autoexec": {
            "startup": false,
            "wait_interval": 0
          },
          "output_extras": [
            {
              "item_id": 1
            }
          ],
          "base_uri": "https://localhost:8080/",
          "height": 521
        },
        "outputId": "7c4d774d-5c8a-4282-ec24-f2db3aae076b",
        "executionInfo": {
          "status": "ok",
          "timestamp": 1522058867247,
          "user_tz": -330,
          "elapsed": 779,
          "user": {
            "displayName": "Rony Roy",
            "photoUrl": "https://lh3.googleusercontent.com/a/default-user=s128",
            "userId": "111772801988052207421"
          }
        }
      },
      "cell_type": "code",
      "source": [
        "pd.crosstab(top_r.userId, top_r.movieId, top_r.rating, aggfunc=np.sum)"
      ],
      "execution_count": 156,
      "outputs": [
        {
          "output_type": "execute_result",
          "data": {
            "text/html": [
              "<div>\n",
              "<style scoped>\n",
              "    .dataframe tbody tr th:only-of-type {\n",
              "        vertical-align: middle;\n",
              "    }\n",
              "\n",
              "    .dataframe tbody tr th {\n",
              "        vertical-align: top;\n",
              "    }\n",
              "\n",
              "    .dataframe thead th {\n",
              "        text-align: right;\n",
              "    }\n",
              "</style>\n",
              "<table border=\"1\" class=\"dataframe\">\n",
              "  <thead>\n",
              "    <tr style=\"text-align: right;\">\n",
              "      <th>movieId</th>\n",
              "      <th>27</th>\n",
              "      <th>49</th>\n",
              "      <th>57</th>\n",
              "      <th>72</th>\n",
              "      <th>79</th>\n",
              "      <th>89</th>\n",
              "      <th>92</th>\n",
              "      <th>99</th>\n",
              "      <th>143</th>\n",
              "      <th>179</th>\n",
              "      <th>180</th>\n",
              "      <th>197</th>\n",
              "      <th>402</th>\n",
              "      <th>417</th>\n",
              "      <th>505</th>\n",
              "    </tr>\n",
              "    <tr>\n",
              "      <th>userId</th>\n",
              "      <th></th>\n",
              "      <th></th>\n",
              "      <th></th>\n",
              "      <th></th>\n",
              "      <th></th>\n",
              "      <th></th>\n",
              "      <th></th>\n",
              "      <th></th>\n",
              "      <th></th>\n",
              "      <th></th>\n",
              "      <th></th>\n",
              "      <th></th>\n",
              "      <th></th>\n",
              "      <th></th>\n",
              "      <th></th>\n",
              "    </tr>\n",
              "  </thead>\n",
              "  <tbody>\n",
              "    <tr>\n",
              "      <th>14</th>\n",
              "      <td>3.0</td>\n",
              "      <td>5.0</td>\n",
              "      <td>1.0</td>\n",
              "      <td>3.0</td>\n",
              "      <td>4.0</td>\n",
              "      <td>4.0</td>\n",
              "      <td>5.0</td>\n",
              "      <td>2.0</td>\n",
              "      <td>5.0</td>\n",
              "      <td>5.0</td>\n",
              "      <td>4.0</td>\n",
              "      <td>5.0</td>\n",
              "      <td>5.0</td>\n",
              "      <td>2.0</td>\n",
              "      <td>5.0</td>\n",
              "    </tr>\n",
              "    <tr>\n",
              "      <th>29</th>\n",
              "      <td>5.0</td>\n",
              "      <td>5.0</td>\n",
              "      <td>5.0</td>\n",
              "      <td>4.0</td>\n",
              "      <td>5.0</td>\n",
              "      <td>4.0</td>\n",
              "      <td>4.0</td>\n",
              "      <td>5.0</td>\n",
              "      <td>4.0</td>\n",
              "      <td>4.0</td>\n",
              "      <td>5.0</td>\n",
              "      <td>5.0</td>\n",
              "      <td>3.0</td>\n",
              "      <td>4.0</td>\n",
              "      <td>5.0</td>\n",
              "    </tr>\n",
              "    <tr>\n",
              "      <th>72</th>\n",
              "      <td>4.0</td>\n",
              "      <td>5.0</td>\n",
              "      <td>5.0</td>\n",
              "      <td>4.0</td>\n",
              "      <td>5.0</td>\n",
              "      <td>3.0</td>\n",
              "      <td>4.5</td>\n",
              "      <td>5.0</td>\n",
              "      <td>4.5</td>\n",
              "      <td>5.0</td>\n",
              "      <td>5.0</td>\n",
              "      <td>5.0</td>\n",
              "      <td>4.5</td>\n",
              "      <td>5.0</td>\n",
              "      <td>4.0</td>\n",
              "    </tr>\n",
              "    <tr>\n",
              "      <th>211</th>\n",
              "      <td>5.0</td>\n",
              "      <td>4.0</td>\n",
              "      <td>4.0</td>\n",
              "      <td>3.0</td>\n",
              "      <td>5.0</td>\n",
              "      <td>3.0</td>\n",
              "      <td>4.0</td>\n",
              "      <td>4.5</td>\n",
              "      <td>4.0</td>\n",
              "      <td>NaN</td>\n",
              "      <td>3.0</td>\n",
              "      <td>3.0</td>\n",
              "      <td>5.0</td>\n",
              "      <td>3.0</td>\n",
              "      <td>NaN</td>\n",
              "    </tr>\n",
              "    <tr>\n",
              "      <th>212</th>\n",
              "      <td>2.5</td>\n",
              "      <td>NaN</td>\n",
              "      <td>2.0</td>\n",
              "      <td>5.0</td>\n",
              "      <td>NaN</td>\n",
              "      <td>4.0</td>\n",
              "      <td>2.5</td>\n",
              "      <td>NaN</td>\n",
              "      <td>5.0</td>\n",
              "      <td>5.0</td>\n",
              "      <td>3.0</td>\n",
              "      <td>3.0</td>\n",
              "      <td>4.0</td>\n",
              "      <td>3.0</td>\n",
              "      <td>2.0</td>\n",
              "    </tr>\n",
              "    <tr>\n",
              "      <th>293</th>\n",
              "      <td>3.0</td>\n",
              "      <td>NaN</td>\n",
              "      <td>4.0</td>\n",
              "      <td>4.0</td>\n",
              "      <td>4.0</td>\n",
              "      <td>3.0</td>\n",
              "      <td>NaN</td>\n",
              "      <td>3.0</td>\n",
              "      <td>4.0</td>\n",
              "      <td>4.0</td>\n",
              "      <td>4.5</td>\n",
              "      <td>4.0</td>\n",
              "      <td>4.5</td>\n",
              "      <td>4.0</td>\n",
              "      <td>NaN</td>\n",
              "    </tr>\n",
              "    <tr>\n",
              "      <th>310</th>\n",
              "      <td>3.0</td>\n",
              "      <td>3.0</td>\n",
              "      <td>5.0</td>\n",
              "      <td>4.5</td>\n",
              "      <td>5.0</td>\n",
              "      <td>4.5</td>\n",
              "      <td>2.0</td>\n",
              "      <td>4.5</td>\n",
              "      <td>4.0</td>\n",
              "      <td>3.0</td>\n",
              "      <td>4.5</td>\n",
              "      <td>4.5</td>\n",
              "      <td>4.0</td>\n",
              "      <td>3.0</td>\n",
              "      <td>4.0</td>\n",
              "    </tr>\n",
              "    <tr>\n",
              "      <th>379</th>\n",
              "      <td>5.0</td>\n",
              "      <td>5.0</td>\n",
              "      <td>5.0</td>\n",
              "      <td>4.0</td>\n",
              "      <td>NaN</td>\n",
              "      <td>4.0</td>\n",
              "      <td>5.0</td>\n",
              "      <td>4.0</td>\n",
              "      <td>4.0</td>\n",
              "      <td>4.0</td>\n",
              "      <td>NaN</td>\n",
              "      <td>3.0</td>\n",
              "      <td>5.0</td>\n",
              "      <td>4.0</td>\n",
              "      <td>4.0</td>\n",
              "    </tr>\n",
              "    <tr>\n",
              "      <th>451</th>\n",
              "      <td>4.0</td>\n",
              "      <td>5.0</td>\n",
              "      <td>4.0</td>\n",
              "      <td>5.0</td>\n",
              "      <td>4.0</td>\n",
              "      <td>4.0</td>\n",
              "      <td>5.0</td>\n",
              "      <td>5.0</td>\n",
              "      <td>4.0</td>\n",
              "      <td>4.0</td>\n",
              "      <td>4.0</td>\n",
              "      <td>4.0</td>\n",
              "      <td>2.0</td>\n",
              "      <td>3.5</td>\n",
              "      <td>5.0</td>\n",
              "    </tr>\n",
              "    <tr>\n",
              "      <th>467</th>\n",
              "      <td>3.0</td>\n",
              "      <td>3.5</td>\n",
              "      <td>3.0</td>\n",
              "      <td>2.5</td>\n",
              "      <td>NaN</td>\n",
              "      <td>NaN</td>\n",
              "      <td>3.0</td>\n",
              "      <td>3.5</td>\n",
              "      <td>3.5</td>\n",
              "      <td>3.0</td>\n",
              "      <td>3.5</td>\n",
              "      <td>3.0</td>\n",
              "      <td>3.0</td>\n",
              "      <td>4.0</td>\n",
              "      <td>4.0</td>\n",
              "    </tr>\n",
              "    <tr>\n",
              "      <th>508</th>\n",
              "      <td>5.0</td>\n",
              "      <td>5.0</td>\n",
              "      <td>4.0</td>\n",
              "      <td>3.0</td>\n",
              "      <td>5.0</td>\n",
              "      <td>2.0</td>\n",
              "      <td>4.0</td>\n",
              "      <td>4.0</td>\n",
              "      <td>5.0</td>\n",
              "      <td>5.0</td>\n",
              "      <td>5.0</td>\n",
              "      <td>3.0</td>\n",
              "      <td>4.5</td>\n",
              "      <td>3.0</td>\n",
              "      <td>4.5</td>\n",
              "    </tr>\n",
              "    <tr>\n",
              "      <th>546</th>\n",
              "      <td>NaN</td>\n",
              "      <td>5.0</td>\n",
              "      <td>2.0</td>\n",
              "      <td>3.0</td>\n",
              "      <td>5.0</td>\n",
              "      <td>NaN</td>\n",
              "      <td>5.0</td>\n",
              "      <td>5.0</td>\n",
              "      <td>NaN</td>\n",
              "      <td>2.5</td>\n",
              "      <td>2.0</td>\n",
              "      <td>3.5</td>\n",
              "      <td>3.5</td>\n",
              "      <td>3.5</td>\n",
              "      <td>5.0</td>\n",
              "    </tr>\n",
              "    <tr>\n",
              "      <th>563</th>\n",
              "      <td>1.0</td>\n",
              "      <td>5.0</td>\n",
              "      <td>3.0</td>\n",
              "      <td>5.0</td>\n",
              "      <td>4.0</td>\n",
              "      <td>5.0</td>\n",
              "      <td>5.0</td>\n",
              "      <td>NaN</td>\n",
              "      <td>2.0</td>\n",
              "      <td>5.0</td>\n",
              "      <td>5.0</td>\n",
              "      <td>3.0</td>\n",
              "      <td>3.0</td>\n",
              "      <td>4.0</td>\n",
              "      <td>5.0</td>\n",
              "    </tr>\n",
              "    <tr>\n",
              "      <th>579</th>\n",
              "      <td>4.5</td>\n",
              "      <td>4.5</td>\n",
              "      <td>3.5</td>\n",
              "      <td>3.0</td>\n",
              "      <td>4.0</td>\n",
              "      <td>4.5</td>\n",
              "      <td>4.0</td>\n",
              "      <td>4.0</td>\n",
              "      <td>4.0</td>\n",
              "      <td>4.0</td>\n",
              "      <td>3.5</td>\n",
              "      <td>3.0</td>\n",
              "      <td>4.5</td>\n",
              "      <td>4.0</td>\n",
              "      <td>4.5</td>\n",
              "    </tr>\n",
              "    <tr>\n",
              "      <th>623</th>\n",
              "      <td>NaN</td>\n",
              "      <td>5.0</td>\n",
              "      <td>3.0</td>\n",
              "      <td>3.0</td>\n",
              "      <td>NaN</td>\n",
              "      <td>3.0</td>\n",
              "      <td>5.0</td>\n",
              "      <td>NaN</td>\n",
              "      <td>5.0</td>\n",
              "      <td>5.0</td>\n",
              "      <td>5.0</td>\n",
              "      <td>5.0</td>\n",
              "      <td>2.0</td>\n",
              "      <td>5.0</td>\n",
              "      <td>4.0</td>\n",
              "    </tr>\n",
              "  </tbody>\n",
              "</table>\n",
              "</div>"
            ],
            "text/plain": [
              "movieId  27   49   57   72   79   89   92   99   143  179  180  197  402  417  \\\n",
              "userId                                                                          \n",
              "14       3.0  5.0  1.0  3.0  4.0  4.0  5.0  2.0  5.0  5.0  4.0  5.0  5.0  2.0   \n",
              "29       5.0  5.0  5.0  4.0  5.0  4.0  4.0  5.0  4.0  4.0  5.0  5.0  3.0  4.0   \n",
              "72       4.0  5.0  5.0  4.0  5.0  3.0  4.5  5.0  4.5  5.0  5.0  5.0  4.5  5.0   \n",
              "211      5.0  4.0  4.0  3.0  5.0  3.0  4.0  4.5  4.0  NaN  3.0  3.0  5.0  3.0   \n",
              "212      2.5  NaN  2.0  5.0  NaN  4.0  2.5  NaN  5.0  5.0  3.0  3.0  4.0  3.0   \n",
              "293      3.0  NaN  4.0  4.0  4.0  3.0  NaN  3.0  4.0  4.0  4.5  4.0  4.5  4.0   \n",
              "310      3.0  3.0  5.0  4.5  5.0  4.5  2.0  4.5  4.0  3.0  4.5  4.5  4.0  3.0   \n",
              "379      5.0  5.0  5.0  4.0  NaN  4.0  5.0  4.0  4.0  4.0  NaN  3.0  5.0  4.0   \n",
              "451      4.0  5.0  4.0  5.0  4.0  4.0  5.0  5.0  4.0  4.0  4.0  4.0  2.0  3.5   \n",
              "467      3.0  3.5  3.0  2.5  NaN  NaN  3.0  3.5  3.5  3.0  3.5  3.0  3.0  4.0   \n",
              "508      5.0  5.0  4.0  3.0  5.0  2.0  4.0  4.0  5.0  5.0  5.0  3.0  4.5  3.0   \n",
              "546      NaN  5.0  2.0  3.0  5.0  NaN  5.0  5.0  NaN  2.5  2.0  3.5  3.5  3.5   \n",
              "563      1.0  5.0  3.0  5.0  4.0  5.0  5.0  NaN  2.0  5.0  5.0  3.0  3.0  4.0   \n",
              "579      4.5  4.5  3.5  3.0  4.0  4.5  4.0  4.0  4.0  4.0  3.5  3.0  4.5  4.0   \n",
              "623      NaN  5.0  3.0  3.0  NaN  3.0  5.0  NaN  5.0  5.0  5.0  5.0  2.0  5.0   \n",
              "\n",
              "movieId  505  \n",
              "userId        \n",
              "14       5.0  \n",
              "29       5.0  \n",
              "72       4.0  \n",
              "211      NaN  \n",
              "212      2.0  \n",
              "293      NaN  \n",
              "310      4.0  \n",
              "379      4.0  \n",
              "451      5.0  \n",
              "467      4.0  \n",
              "508      4.5  \n",
              "546      5.0  \n",
              "563      5.0  \n",
              "579      4.5  \n",
              "623      4.0  "
            ]
          },
          "metadata": {
            "tags": []
          },
          "execution_count": 156
        }
      ]
    },
    {
      "metadata": {
        "id": "DjN0GDdrEDSi",
        "colab_type": "text"
      },
      "cell_type": "markdown",
      "source": [
        "## Dot product"
      ]
    },
    {
      "metadata": {
        "id": "zh-qjeF6EDSj",
        "colab_type": "text"
      },
      "cell_type": "markdown",
      "source": [
        "The most basic model is a dot product of a movie embedding and a user embedding. Let's see how well that works:"
      ]
    },
    {
      "metadata": {
        "id": "X0nIxHKdEDSj",
        "colab_type": "code",
        "colab": {
          "autoexec": {
            "startup": false,
            "wait_interval": 0
          }
        }
      },
      "cell_type": "code",
      "source": [
        "user_in = Input(shape=(1,), dtype='int64', name='user_in')\n",
        "u = Embedding(n_users, n_factors, input_length=1, W_regularizer=l2(1e-4))(user_in)# W_regularizer weight regulairzer\n",
        "movie_in = Input(shape=(1,), dtype='int64', name='movie_in')\n",
        "m = Embedding(n_movies, n_factors, input_length=1, W_regularizer=l2(1e-4))(movie_in)#https://keras.io/regularizers/"
      ],
      "execution_count": 0,
      "outputs": []
    },
    {
      "metadata": {
        "id": "ELfhQLmuEDSl",
        "colab_type": "code",
        "colab": {
          "autoexec": {
            "startup": false,
            "wait_interval": 0
          }
        }
      },
      "cell_type": "code",
      "source": [
        "x = merge([u, m], mode='dot')\n",
        "x = Flatten()(x)\n",
        "model = Model([user_in, movie_in], x)# model is an object of type model.. x was a merge.. a dot prod of.. user and movie ratings inputs\n",
        "model.compile(Adam(0.001), loss='mse') # ADAM instead of SGD... and loss is MSE instead of RMSE... the usual ones..\n",
        "\n",
        "# model = Model(inputs=[a1, a2], outputs=[b1, b2, b3])\n",
        "#https://keras.io/models/model/\n",
        "# and then compile..a fter declaring it.."
      ],
      "execution_count": 0,
      "outputs": []
    },
    {
      "metadata": {
        "id": "ce_95OeUEDSo",
        "colab_type": "code",
        "colab": {
          "autoexec": {
            "startup": false,
            "wait_interval": 0
          },
          "output_extras": [
            {
              "item_id": 101
            },
            {
              "item_id": 102
            }
          ],
          "base_uri": "https://localhost:8080/",
          "height": 84
        },
        "collapsed": true,
        "outputId": "e5c1aa32-a386-406c-83cf-bcef1d7615fb",
        "executionInfo": {
          "status": "ok",
          "timestamp": 1522058901858,
          "user_tz": -330,
          "elapsed": 32810,
          "user": {
            "displayName": "Rony Roy",
            "photoUrl": "https://lh3.googleusercontent.com/a/default-user=s128",
            "userId": "111772801988052207421"
          }
        }
      },
      "cell_type": "code",
      "source": [
        "model.fit([trn.userId, trn.movieId], trn.rating, batch_size=64, nb_epoch=1, \n",
        "          validation_data=([val.userId, val.movieId], val.rating))"
      ],
      "execution_count": 159,
      "outputs": [
        {
          "output_type": "stream",
          "text": [
            "Train on 80026 samples, validate on 19978 samples\n",
            "Epoch 1/1\n",
            "80026/80026 [==============================] - 31s - loss: 9.9305 - val_loss: 4.2691\n"
          ],
          "name": "stdout"
        },
        {
          "output_type": "execute_result",
          "data": {
            "text/plain": [
              "<keras.callbacks.History at 0x7f7a580fa090>"
            ]
          },
          "metadata": {
            "tags": []
          },
          "execution_count": 159
        }
      ]
    },
    {
      "metadata": {
        "id": "EzzR3oBCEDSu",
        "colab_type": "code",
        "colab": {
          "autoexec": {
            "startup": false,
            "wait_interval": 0
          }
        }
      },
      "cell_type": "code",
      "source": [
        "model.optimizer.lr=0.01 # loss was too high hence lowering the rlearning rate.. suallay does the trick :)"
      ],
      "execution_count": 0,
      "outputs": []
    },
    {
      "metadata": {
        "id": "UKHy3kH4EDSy",
        "colab_type": "code",
        "colab": {
          "autoexec": {
            "startup": false,
            "wait_interval": 0
          },
          "output_extras": [
            {
              "item_id": 127
            },
            {
              "item_id": 291
            },
            {
              "item_id": 311
            },
            {
              "item_id": 312
            }
          ],
          "base_uri": "https://localhost:8080/",
          "height": 151
        },
        "collapsed": true,
        "outputId": "8817a56d-2439-435f-9eab-67958e641566",
        "executionInfo": {
          "status": "ok",
          "timestamp": 1522059000439,
          "user_tz": -330,
          "elapsed": 97635,
          "user": {
            "displayName": "Rony Roy",
            "photoUrl": "https://lh3.googleusercontent.com/a/default-user=s128",
            "userId": "111772801988052207421"
          }
        }
      },
      "cell_type": "code",
      "source": [
        "model.fit([trn.userId, trn.movieId], trn.rating, batch_size=64, nb_epoch=3, \n",
        "          validation_data=([val.userId, val.movieId], val.rating))"
      ],
      "execution_count": 161,
      "outputs": [
        {
          "output_type": "stream",
          "text": [
            "Train on 80026 samples, validate on 19978 samples\n",
            "Epoch 1/3\n",
            "80026/80026 [==============================] - 32s - loss: 3.1479 - val_loss: 2.7968\n",
            "Epoch 2/3\n",
            "17728/80026 [=====>........................] - ETA: 24s - loss: 2.3886"
          ],
          "name": "stdout"
        },
        {
          "output_type": "stream",
          "text": [
            "80026/80026 [==============================] - 32s - loss: 2.4251 - val_loss: 2.5959\n",
            "Epoch 3/3\n",
            "66432/80026 [=======================>......] - ETA: 5s - loss: 2.2417"
          ],
          "name": "stdout"
        },
        {
          "output_type": "stream",
          "text": [
            "80026/80026 [==============================] - 31s - loss: 2.2583 - val_loss: 2.5473\n"
          ],
          "name": "stdout"
        },
        {
          "output_type": "execute_result",
          "data": {
            "text/plain": [
              "<keras.callbacks.History at 0x7f7a5811e950>"
            ]
          },
          "metadata": {
            "tags": []
          },
          "execution_count": 161
        }
      ]
    },
    {
      "metadata": {
        "id": "X-KfOnZ9EDS6",
        "colab_type": "code",
        "colab": {
          "autoexec": {
            "startup": false,
            "wait_interval": 0
          }
        }
      },
      "cell_type": "code",
      "source": [
        "model.optimizer.lr=0.001 # reduce the leadning rate even mode.. by an order of 10"
      ],
      "execution_count": 0,
      "outputs": []
    },
    {
      "metadata": {
        "id": "9XeXyO0gEDS9",
        "colab_type": "code",
        "colab": {
          "autoexec": {
            "startup": false,
            "wait_interval": 0
          },
          "output_extras": [
            {
              "item_id": 130
            },
            {
              "item_id": 290
            },
            {
              "item_id": 415
            },
            {
              "item_id": 587
            },
            {
              "item_id": 600
            },
            {
              "item_id": 601
            }
          ],
          "base_uri": "https://localhost:8080/",
          "height": 252
        },
        "outputId": "11d1d3d2-fab5-42b6-fc6d-956cae4590e0",
        "executionInfo": {
          "status": "ok",
          "timestamp": 1522059191285,
          "user_tz": -330,
          "elapsed": 189822,
          "user": {
            "displayName": "Rony Roy",
            "photoUrl": "https://lh3.googleusercontent.com/a/default-user=s128",
            "userId": "111772801988052207421"
          }
        }
      },
      "cell_type": "code",
      "source": [
        "model.fit([trn.userId, trn.movieId], trn.rating, batch_size=64, nb_epoch=6, \n",
        "          validation_data=([val.userId, val.movieId], val.rating))"
      ],
      "execution_count": 163,
      "outputs": [
        {
          "output_type": "stream",
          "text": [
            "Train on 80026 samples, validate on 19978 samples\n",
            "Epoch 1/6\n",
            "80026/80026 [==============================] - 31s - loss: 2.1939 - val_loss: 2.5314\n",
            "Epoch 2/6\n",
            "23168/80026 [=======>......................] - ETA: 22s - loss: 2.0828"
          ],
          "name": "stdout"
        },
        {
          "output_type": "stream",
          "text": [
            "80026/80026 [==============================] - 31s - loss: 2.1539 - val_loss: 2.5281\n",
            "Epoch 3/6\n",
            "72512/80026 [==========================>...] - ETA: 2s - loss: 2.1185"
          ],
          "name": "stdout"
        },
        {
          "output_type": "stream",
          "text": [
            "80026/80026 [==============================] - 31s - loss: 2.1235 - val_loss: 2.5293\n",
            "Epoch 4/6\n",
            "80026/80026 [==============================] - 31s - loss: 2.0981 - val_loss: 2.5376\n",
            "Epoch 5/6\n",
            " 9280/80026 [==>...........................] - ETA: 27s - loss: 1.9764"
          ],
          "name": "stdout"
        },
        {
          "output_type": "stream",
          "text": [
            "80026/80026 [==============================] - 31s - loss: 2.0741 - val_loss: 2.5408\n",
            "Epoch 6/6\n",
            "70912/80026 [=========================>....] - ETA: 3s - loss: 2.0430"
          ],
          "name": "stdout"
        },
        {
          "output_type": "stream",
          "text": [
            "80026/80026 [==============================] - 31s - loss: 2.0517 - val_loss: 2.5532\n"
          ],
          "name": "stdout"
        },
        {
          "output_type": "execute_result",
          "data": {
            "text/plain": [
              "<keras.callbacks.History at 0x7f7a59e81d90>"
            ]
          },
          "metadata": {
            "tags": []
          },
          "execution_count": 163
        }
      ]
    },
    {
      "metadata": {
        "id": "yVd2rGi5EDTD",
        "colab_type": "text"
      },
      "cell_type": "markdown",
      "source": [
        "The [best benchmarks](http://www.librec.net/example.html) are a bit over 0.9, so this model doesn't seem to be working that well..."
      ]
    },
    {
      "metadata": {
        "id": "RN2DwkCIEDTE",
        "colab_type": "text"
      },
      "cell_type": "markdown",
      "source": [
        "##  Bias"
      ]
    },
    {
      "metadata": {
        "id": "9ajI1PSgEDTG",
        "colab_type": "text"
      },
      "cell_type": "markdown",
      "source": [
        "The problem is likely to be that we don't have bias terms i.e a single bias for each user and each movie representing how positive or negative each user is, and how good each movie is.   \n",
        "We can add that easily by simply creating an embedding with one output for each movie and each user, and adding it to our output."
      ]
    },
    {
      "metadata": {
        "id": "-EjiO8kXEDTG",
        "colab_type": "code",
        "colab": {
          "autoexec": {
            "startup": false,
            "wait_interval": 0
          }
        }
      },
      "cell_type": "code",
      "source": [
        "def embedding_input(name, n_in, n_out, reg):\n",
        "    inp = Input(shape=(1,), dtype='int64', name=name)\n",
        "    return inp, Embedding(n_in, n_out, input_length=1, W_regularizer=l2(reg))(inp) # return the input recast, and the embedding of it.."
      ],
      "execution_count": 0,
      "outputs": []
    },
    {
      "metadata": {
        "id": "CsUqv9NgEDTK",
        "colab_type": "code",
        "colab": {
          "autoexec": {
            "startup": false,
            "wait_interval": 0
          }
        }
      },
      "cell_type": "code",
      "source": [
        "user_in, u = embedding_input('user_in', n_users, n_factors, 1e-4)\n",
        "movie_in, m = embedding_input('movie_in', n_movies, n_factors, 1e-4)"
      ],
      "execution_count": 0,
      "outputs": []
    },
    {
      "metadata": {
        "id": "xqz9f1OLEDTM",
        "colab_type": "code",
        "colab": {
          "autoexec": {
            "startup": false,
            "wait_interval": 0
          }
        }
      },
      "cell_type": "code",
      "source": [
        "def create_bias(inp, n_in):\n",
        "    x = Embedding(n_in, 1, input_length=1)(inp)\n",
        "    return Flatten()(x)"
      ],
      "execution_count": 0,
      "outputs": []
    },
    {
      "metadata": {
        "id": "nZXyAoR3EDTO",
        "colab_type": "code",
        "colab": {
          "autoexec": {
            "startup": false,
            "wait_interval": 0
          }
        }
      },
      "cell_type": "code",
      "source": [
        "ub = create_bias(user_in, n_users)\n",
        "mb = create_bias(movie_in, n_movies) #creating bias vectors/tensors"
      ],
      "execution_count": 0,
      "outputs": []
    },
    {
      "metadata": {
        "id": "-ai3DY57377n",
        "colab_type": "code",
        "colab": {
          "autoexec": {
            "startup": false,
            "wait_interval": 0
          },
          "output_extras": [
            {
              "item_id": 1
            }
          ],
          "base_uri": "https://localhost:8080/",
          "height": 34
        },
        "outputId": "6aea2757-1c28-4931-c1be-b520fcd9341d",
        "executionInfo": {
          "status": "ok",
          "timestamp": 1522060482342,
          "user_tz": -330,
          "elapsed": 837,
          "user": {
            "displayName": "Rony Roy",
            "photoUrl": "https://lh3.googleusercontent.com/a/default-user=s128",
            "userId": "111772801988052207421"
          }
        }
      },
      "cell_type": "code",
      "source": [
        "\n",
        "type(ub)"
      ],
      "execution_count": 202,
      "outputs": [
        {
          "output_type": "execute_result",
          "data": {
            "text/plain": [
              "tensorflow.python.framework.ops.Tensor"
            ]
          },
          "metadata": {
            "tags": []
          },
          "execution_count": 202
        }
      ]
    },
    {
      "metadata": {
        "id": "kApoUy9PEDTQ",
        "colab_type": "code",
        "colab": {
          "autoexec": {
            "startup": false,
            "wait_interval": 0
          }
        }
      },
      "cell_type": "code",
      "source": [
        "x = merge([u, m], mode='dot') # dor product of user embedding s and movie embeddings.. defined as above wi\n",
        "x = Flatten()(x)\n",
        "x = merge([x, ub], mode='sum')\n",
        "x = merge([x, mb], mode='sum')\n",
        "model = Model([user_in, movie_in], x) # this time with embedded inputs that have been generated above..\n",
        "model.compile(Adam(0.001), loss='mse')"
      ],
      "execution_count": 0,
      "outputs": []
    },
    {
      "metadata": {
        "id": "SX20GOCCEDTR",
        "colab_type": "code",
        "colab": {
          "autoexec": {
            "startup": false,
            "wait_interval": 0
          },
          "output_extras": [
            {
              "item_id": 99
            },
            {
              "item_id": 100
            }
          ],
          "base_uri": "https://localhost:8080/",
          "height": 84
        },
        "outputId": "0bea99ac-bff9-4fa7-c7c8-88274e9f68f0",
        "executionInfo": {
          "status": "ok",
          "timestamp": 1522059227705,
          "user_tz": -330,
          "elapsed": 32027,
          "user": {
            "displayName": "Rony Roy",
            "photoUrl": "https://lh3.googleusercontent.com/a/default-user=s128",
            "userId": "111772801988052207421"
          }
        }
      },
      "cell_type": "code",
      "source": [
        "model.fit([trn.userId, trn.movieId], trn.rating, batch_size=64, nb_epoch=1, \n",
        "          validation_data=([val.userId, val.movieId], val.rating))"
      ],
      "execution_count": 169,
      "outputs": [
        {
          "output_type": "stream",
          "text": [
            "Train on 80026 samples, validate on 19978 samples\n",
            "Epoch 1/1\n",
            "80026/80026 [==============================] - 31s - loss: 8.8566 - val_loss: 3.5204\n"
          ],
          "name": "stdout"
        },
        {
          "output_type": "execute_result",
          "data": {
            "text/plain": [
              "<keras.callbacks.History at 0x7f7a4e287ed0>"
            ]
          },
          "metadata": {
            "tags": []
          },
          "execution_count": 169
        }
      ]
    },
    {
      "metadata": {
        "id": "2EL0Pg9wEDTU",
        "colab_type": "code",
        "colab": {
          "autoexec": {
            "startup": false,
            "wait_interval": 0
          }
        }
      },
      "cell_type": "code",
      "source": [
        "model.optimizer.lr=0.01"
      ],
      "execution_count": 0,
      "outputs": []
    },
    {
      "metadata": {
        "id": "QO-6SS8CEDTZ",
        "colab_type": "code",
        "colab": {
          "autoexec": {
            "startup": false,
            "wait_interval": 0
          },
          "output_extras": [
            {
              "item_id": 129
            },
            {
              "item_id": 291
            },
            {
              "item_id": 398
            },
            {
              "item_id": 569
            },
            {
              "item_id": 578
            },
            {
              "item_id": 579
            }
          ],
          "base_uri": "https://localhost:8080/",
          "height": 252
        },
        "outputId": "5f7f6175-23d0-4bf5-fa24-e7729e897d59",
        "executionInfo": {
          "status": "ok",
          "timestamp": 1522059416525,
          "user_tz": -330,
          "elapsed": 187862,
          "user": {
            "displayName": "Rony Roy",
            "photoUrl": "https://lh3.googleusercontent.com/a/default-user=s128",
            "userId": "111772801988052207421"
          }
        }
      },
      "cell_type": "code",
      "source": [
        "model.fit([trn.userId, trn.movieId], trn.rating, batch_size=64, nb_epoch=6, \n",
        "          validation_data=([val.userId, val.movieId], val.rating))"
      ],
      "execution_count": 171,
      "outputs": [
        {
          "output_type": "stream",
          "text": [
            "Train on 80026 samples, validate on 19978 samples\n",
            "Epoch 1/6\n",
            "80026/80026 [==============================] - 31s - loss: 2.5948 - val_loss: 2.2814\n",
            "Epoch 2/6\n",
            "25088/80026 [========>.....................] - ETA: 21s - loss: 2.0110"
          ],
          "name": "stdout"
        },
        {
          "output_type": "stream",
          "text": [
            "80026/80026 [==============================] - 31s - loss: 1.9987 - val_loss: 2.0836\n",
            "Epoch 3/6\n",
            "76416/80026 [===========================>..] - ETA: 1s - loss: 1.8381"
          ],
          "name": "stdout"
        },
        {
          "output_type": "stream",
          "text": [
            "80026/80026 [==============================] - 31s - loss: 1.8382 - val_loss: 1.9896\n",
            "Epoch 4/6\n",
            "80026/80026 [==============================] - 30s - loss: 1.7452 - val_loss: 1.9188\n",
            "Epoch 5/6\n",
            "14144/80026 [====>.........................] - ETA: 25s - loss: 1.6235"
          ],
          "name": "stdout"
        },
        {
          "output_type": "stream",
          "text": [
            "80026/80026 [==============================] - 31s - loss: 1.6666 - val_loss: 1.8525\n",
            "Epoch 6/6\n",
            "74816/80026 [===========================>..] - ETA: 1s - loss: 1.5891"
          ],
          "name": "stdout"
        },
        {
          "output_type": "stream",
          "text": [
            "80026/80026 [==============================] - 30s - loss: 1.5921 - val_loss: 1.7807\n"
          ],
          "name": "stdout"
        },
        {
          "output_type": "execute_result",
          "data": {
            "text/plain": [
              "<keras.callbacks.History at 0x7f7a4e203290>"
            ]
          },
          "metadata": {
            "tags": []
          },
          "execution_count": 171
        }
      ]
    },
    {
      "metadata": {
        "id": "ZiWfzbG3EDTe",
        "colab_type": "code",
        "colab": {
          "autoexec": {
            "startup": false,
            "wait_interval": 0
          }
        }
      },
      "cell_type": "code",
      "source": [
        "model.optimizer.lr=0.001 # decrease LR further"
      ],
      "execution_count": 0,
      "outputs": []
    },
    {
      "metadata": {
        "id": "roMdSwobEDTh",
        "colab_type": "code",
        "colab": {
          "autoexec": {
            "startup": false,
            "wait_interval": 0
          },
          "output_extras": [
            {
              "item_id": 133
            },
            {
              "item_id": 295
            },
            {
              "item_id": 477
            },
            {
              "item_id": 603
            },
            {
              "item_id": 778
            },
            {
              "item_id": 902
            },
            {
              "item_id": 989
            },
            {
              "item_id": 990
            }
          ],
          "base_uri": "https://localhost:8080/",
          "height": 387
        },
        "outputId": "c26e09a9-d48a-41db-c4d5-62345c9b66d4",
        "executionInfo": {
          "status": "ok",
          "timestamp": 1522059728420,
          "user_tz": -330,
          "elapsed": 310780,
          "user": {
            "displayName": "Rony Roy",
            "photoUrl": "https://lh3.googleusercontent.com/a/default-user=s128",
            "userId": "111772801988052207421"
          }
        }
      },
      "cell_type": "code",
      "source": [
        "model.fit([trn.userId, trn.movieId], trn.rating, batch_size=64, nb_epoch=10, \n",
        "          validation_data=([val.userId, val.movieId], val.rating))"
      ],
      "execution_count": 173,
      "outputs": [
        {
          "output_type": "stream",
          "text": [
            "Train on 80026 samples, validate on 19978 samples\n",
            "Epoch 1/10\n",
            "80026/80026 [==============================] - 30s - loss: 1.5184 - val_loss: 1.7193\n",
            "Epoch 2/10\n",
            "29184/80026 [=========>....................] - ETA: 19s - loss: 1.4110"
          ],
          "name": "stdout"
        },
        {
          "output_type": "stream",
          "text": [
            "80026/80026 [==============================] - 30s - loss: 1.4469 - val_loss: 1.6591\n",
            "Epoch 3/10\n",
            "80026/80026 [==============================] - 30s - loss: 1.3763 - val_loss: 1.6057\n",
            "Epoch 4/10\n",
            "  384/80026 [..............................] - ETA: 31s - loss: 1.2169"
          ],
          "name": "stdout"
        },
        {
          "output_type": "stream",
          "text": [
            "80026/80026 [==============================] - 31s - loss: 1.3101 - val_loss: 1.5536\n",
            "Epoch 5/10\n",
            "68032/80026 [========================>.....] - ETA: 4s - loss: 1.2426"
          ],
          "name": "stdout"
        },
        {
          "output_type": "stream",
          "text": [
            "80026/80026 [==============================] - 30s - loss: 1.2463 - val_loss: 1.4995\n",
            "Epoch 6/10\n",
            "80026/80026 [==============================] - 30s - loss: 1.1858 - val_loss: 1.4542\n",
            "Epoch 7/10\n",
            "10304/80026 [==>...........................] - ETA: 27s - loss: 1.0983"
          ],
          "name": "stdout"
        },
        {
          "output_type": "stream",
          "text": [
            "80026/80026 [==============================] - 31s - loss: 1.1282 - val_loss: 1.4064\n",
            "Epoch 8/10\n",
            "71744/80026 [=========================>....] - ETA: 3s - loss: 1.0706"
          ],
          "name": "stdout"
        },
        {
          "output_type": "stream",
          "text": [
            "80026/80026 [==============================] - 31s - loss: 1.0734 - val_loss: 1.3665\n",
            "Epoch 9/10\n",
            "80026/80026 [==============================] - 31s - loss: 1.0211 - val_loss: 1.3247\n",
            "Epoch 10/10\n",
            "11136/80026 [===>..........................] - ETA: 26s - loss: 0.9336"
          ],
          "name": "stdout"
        },
        {
          "output_type": "stream",
          "text": [
            "80026/80026 [==============================] - 31s - loss: 0.9724 - val_loss: 1.2902\n"
          ],
          "name": "stdout"
        },
        {
          "output_type": "execute_result",
          "data": {
            "text/plain": [
              "<keras.callbacks.History at 0x7f7a4e31e390>"
            ]
          },
          "metadata": {
            "tags": []
          },
          "execution_count": 173
        }
      ]
    },
    {
      "metadata": {
        "id": "wGnD5wZGEDTm",
        "colab_type": "code",
        "colab": {
          "autoexec": {
            "startup": false,
            "wait_interval": 0
          },
          "output_extras": [
            {
              "item_id": 133
            },
            {
              "item_id": 297
            },
            {
              "item_id": 479
            },
            {
              "item_id": 494
            },
            {
              "item_id": 495
            }
          ],
          "base_uri": "https://localhost:8080/",
          "height": 219
        },
        "outputId": "5659b6cd-78ee-4341-cc68-2420654698ad",
        "executionInfo": {
          "status": "ok",
          "timestamp": 1522059884266,
          "user_tz": -330,
          "elapsed": 155810,
          "user": {
            "displayName": "Rony Roy",
            "photoUrl": "https://lh3.googleusercontent.com/a/default-user=s128",
            "userId": "111772801988052207421"
          }
        }
      },
      "cell_type": "code",
      "source": [
        "model.fit([trn.userId, trn.movieId], trn.rating, batch_size=64, nb_epoch=5, \n",
        "          validation_data=([val.userId, val.movieId], val.rating))"
      ],
      "execution_count": 174,
      "outputs": [
        {
          "output_type": "stream",
          "text": [
            "Train on 80026 samples, validate on 19978 samples\n",
            "Epoch 1/5\n",
            "80026/80026 [==============================] - 30s - loss: 0.9262 - val_loss: 1.2579\n",
            "Epoch 2/5\n",
            "28800/80026 [=========>....................] - ETA: 19s - loss: 0.8672"
          ],
          "name": "stdout"
        },
        {
          "output_type": "stream",
          "text": [
            "80026/80026 [==============================] - 31s - loss: 0.8825 - val_loss: 1.2244\n",
            "Epoch 3/5\n",
            "80026/80026 [==============================] - 30s - loss: 0.8427 - val_loss: 1.1946\n",
            "Epoch 4/5\n",
            "   64/80026 [..............................] - ETA: 36s - loss: 0.8164"
          ],
          "name": "stdout"
        },
        {
          "output_type": "stream",
          "text": [
            "80026/80026 [==============================] - 31s - loss: 0.8049 - val_loss: 1.1703\n",
            "Epoch 5/5\n",
            "70208/80026 [=========================>....] - ETA: 3s - loss: 0.7658"
          ],
          "name": "stdout"
        },
        {
          "output_type": "stream",
          "text": [
            "80026/80026 [==============================] - 30s - loss: 0.7705 - val_loss: 1.1461\n"
          ],
          "name": "stdout"
        },
        {
          "output_type": "execute_result",
          "data": {
            "text/plain": [
              "<keras.callbacks.History at 0x7f7a518c57d0>"
            ]
          },
          "metadata": {
            "tags": []
          },
          "execution_count": 174
        }
      ]
    },
    {
      "metadata": {
        "id": "XcD9TupREDTs",
        "colab_type": "text"
      },
      "cell_type": "markdown",
      "source": [
        "This result is quite a bit better than the best benchmarks that we could find with a quick google search - so looks like a great approach!\n",
        "slight overfitting on the training data..? # might be subjective too"
      ]
    },
    {
      "metadata": {
        "id": "uS6VXGVDEDTt",
        "colab_type": "code",
        "colab": {
          "autoexec": {
            "startup": false,
            "wait_interval": 0
          }
        }
      },
      "cell_type": "code",
      "source": [
        "model.save_weights(model_path+'bias.h5')"
      ],
      "execution_count": 0,
      "outputs": []
    },
    {
      "metadata": {
        "id": "Cq8fJyKBEDTw",
        "colab_type": "code",
        "colab": {
          "autoexec": {
            "startup": false,
            "wait_interval": 0
          }
        }
      },
      "cell_type": "code",
      "source": [
        "model.load_weights(model_path+'bias.h5')"
      ],
      "execution_count": 0,
      "outputs": []
    },
    {
      "metadata": {
        "id": "7v4HX6oDEDT2",
        "colab_type": "text"
      },
      "cell_type": "markdown",
      "source": [
        "We can use the model to generate predictions by passing a pair of ints   \n",
        "== a user id and a movie id. For instance, this predicts that user #3 would really enjoy movie #6.\n",
        "\n",
        "Why..? score is close to the max .. i.e 5 chk input file for these things.\n",
        "and the model is such.. that it gives a single output for the said inputs"
      ]
    },
    {
      "metadata": {
        "id": "yIZGLEjqEDT3",
        "colab_type": "code",
        "colab": {
          "autoexec": {
            "startup": false,
            "wait_interval": 0
          },
          "output_extras": [
            {
              "item_id": 1
            }
          ],
          "base_uri": "https://localhost:8080/",
          "height": 34
        },
        "outputId": "c21c7de5-f0f5-4189-83ad-be5f66ca0747",
        "executionInfo": {
          "status": "ok",
          "timestamp": 1522059886775,
          "user_tz": -330,
          "elapsed": 776,
          "user": {
            "displayName": "Rony Roy",
            "photoUrl": "https://lh3.googleusercontent.com/a/default-user=s128",
            "userId": "111772801988052207421"
          }
        }
      },
      "cell_type": "code",
      "source": [
        "model.predict([np.array([3]), np.array([6])])"
      ],
      "execution_count": 177,
      "outputs": [
        {
          "output_type": "execute_result",
          "data": {
            "text/plain": [
              "array([[4.9724]], dtype=float32)"
            ]
          },
          "metadata": {
            "tags": []
          },
          "execution_count": 177
        }
      ]
    },
    {
      "metadata": {
        "id": "IaRHAi1REDT9",
        "colab_type": "text"
      },
      "cell_type": "markdown",
      "source": [
        "## Analyze results"
      ]
    },
    {
      "metadata": {
        "id": "FM_9CI1UEDT-",
        "colab_type": "text"
      },
      "cell_type": "markdown",
      "source": [
        "Restrict it to the top 2000 most popular movies... why.. interesting surprise.. "
      ]
    },
    {
      "metadata": {
        "id": "vL-MmyMFEDT_",
        "colab_type": "code",
        "colab": {
          "autoexec": {
            "startup": false,
            "wait_interval": 0
          }
        }
      },
      "cell_type": "code",
      "source": [
        "g=ratings.groupby('movieId')['rating'].count()\n",
        "topMovies=g.sort_values(ascending=False)[:2000]\n",
        "topMovies = np.array(topMovies.index)"
      ],
      "execution_count": 0,
      "outputs": []
    },
    {
      "metadata": {
        "id": "jdg4jAiVEDUD",
        "colab_type": "text"
      },
      "cell_type": "markdown",
      "source": [
        "First, we'll look at the movie bias term. \n",
        "We create a 'model' - which in keras is simply a way of associating one or more inputs with one more more outputs, using the functional API.[obviously]   \n",
        "Here, our input is the movie id (a single id), and the output is the movie bias (a single float).   \n",
        "HMMMM\n"
      ]
    },
    {
      "metadata": {
        "id": "ZIsI_vt6EDUE",
        "colab_type": "code",
        "colab": {
          "autoexec": {
            "startup": false,
            "wait_interval": 0
          }
        }
      },
      "cell_type": "code",
      "source": [
        "get_movie_bias = Model(movie_in, mb) #mb: movie bias\n",
        "movie_bias = get_movie_bias.predict(topMovies)\n",
        "movie_ratings = [(b[0], movie_names[movies[i]]) for i,b in zip(topMovies,movie_bias)]"
      ],
      "execution_count": 0,
      "outputs": []
    },
    {
      "metadata": {
        "id": "LQ4KWmKeur6V",
        "colab_type": "code",
        "colab": {
          "autoexec": {
            "startup": false,
            "wait_interval": 0
          }
        }
      },
      "cell_type": "code",
      "source": [
        "# odd that there is no compile.."
      ],
      "execution_count": 0,
      "outputs": []
    },
    {
      "metadata": {
        "id": "N2sRgwRwEDUH",
        "colab_type": "text"
      },
      "cell_type": "markdown",
      "source": [
        "Now we can look at the top and bottom rated movies. These ratings are corrected for different levels of reviewer sentiment, as well as different types of movies that different reviewers watch."
      ]
    },
    {
      "metadata": {
        "id": "TfiKK5dhEDUI",
        "colab_type": "code",
        "colab": {
          "autoexec": {
            "startup": false,
            "wait_interval": 0
          },
          "output_extras": [
            {
              "item_id": 1
            }
          ],
          "base_uri": "https://localhost:8080/",
          "height": 269
        },
        "outputId": "951131be-d8d8-4478-830e-73fd10ccff7e",
        "executionInfo": {
          "status": "ok",
          "timestamp": 1522059890172,
          "user_tz": -330,
          "elapsed": 796,
          "user": {
            "displayName": "Rony Roy",
            "photoUrl": "https://lh3.googleusercontent.com/a/default-user=s128",
            "userId": "111772801988052207421"
          }
        }
      },
      "cell_type": "code",
      "source": [
        "sorted(movie_ratings, key=itemgetter(0))[:15]"
      ],
      "execution_count": 181,
      "outputs": [
        {
          "output_type": "execute_result",
          "data": {
            "text/plain": [
              "[(-0.575424, 'Battlefield Earth (2000)'),\n",
              " (-0.14547518, 'Super Mario Bros. (1993)'),\n",
              " (-0.12986688, 'Speed 2: Cruise Control (1997)'),\n",
              " (-0.11524214, '2 Fast 2 Furious (Fast and the Furious 2, The) (2003)'),\n",
              " (-0.102334276, 'Jaws 3-D (1983)'),\n",
              " (-0.04918569, 'Spice World (1997)'),\n",
              " (-0.041068185, 'Blade: Trinity (2004)'),\n",
              " (0.03118807, 'Police Academy 6: City Under Siege (1989)'),\n",
              " (0.031462956, 'Hollow Man (2000)'),\n",
              " (0.05282901, 'Wild Wild West (1999)'),\n",
              " (0.07914124, 'King Kong (1976)'),\n",
              " (0.08065898, 'Batman & Robin (1997)'),\n",
              " (0.0811, 'Avengers, The (1998)'),\n",
              " (0.082611926, 'Anaconda (1997)'),\n",
              " (0.0977818, 'Mighty Morphin Power Rangers: The Movie (1995)')]"
            ]
          },
          "metadata": {
            "tags": []
          },
          "execution_count": 181
        }
      ]
    },
    {
      "metadata": {
        "id": "rOiHoxixEDUM",
        "colab_type": "code",
        "colab": {
          "autoexec": {
            "startup": false,
            "wait_interval": 0
          },
          "output_extras": [
            {
              "item_id": 1
            }
          ],
          "base_uri": "https://localhost:8080/",
          "height": 269
        },
        "outputId": "b3517b9a-9681-4bf5-cc5f-d6044b189e91",
        "executionInfo": {
          "status": "ok",
          "timestamp": 1522059891042,
          "user_tz": -330,
          "elapsed": 744,
          "user": {
            "displayName": "Rony Roy",
            "photoUrl": "https://lh3.googleusercontent.com/a/default-user=s128",
            "userId": "111772801988052207421"
          }
        }
      },
      "cell_type": "code",
      "source": [
        "sorted(movie_ratings, key=itemgetter(0), reverse=True)[:15]"
      ],
      "execution_count": 182,
      "outputs": [
        {
          "output_type": "execute_result",
          "data": {
            "text/plain": [
              "[(1.4285297, 'Rush (2013)'),\n",
              " (1.3939021, 'Shawshank Redemption, The (1994)'),\n",
              " (1.3168967, 'Tom Jones (1963)'),\n",
              " (1.3110429, \"Howl's Moving Castle (Hauru no ugoku shiro) (2004)\"),\n",
              " (1.2806263, 'Smoke (1995)'),\n",
              " (1.2719597, 'Exotica (1994)'),\n",
              " (1.269336, 'Cyrano de Bergerac (1990)'),\n",
              " (1.2691075, 'Gone Baby Gone (2007)'),\n",
              " (1.2678388, 'Harry Potter and the Deathly Hallows: Part 2 (2011)'),\n",
              " (1.2618655, 'Argo (2012)'),\n",
              " (1.2545917, 'Klute (1971)'),\n",
              " (1.2465804, 'My Neighbor Totoro (Tonari no Totoro) (1988)'),\n",
              " (1.2455024, 'Top Secret! (1984)'),\n",
              " (1.2443054, 'All About Eve (1950)'),\n",
              " (1.2418745, 'Grave of the Fireflies (Hotaru no haka) (1988)')]"
            ]
          },
          "metadata": {
            "tags": []
          },
          "execution_count": 182
        }
      ]
    },
    {
      "metadata": {
        "id": "gTkGqMoNEDUP",
        "colab_type": "text"
      },
      "cell_type": "markdown",
      "source": [
        "We can now do the same thing for the embeddings."
      ]
    },
    {
      "metadata": {
        "id": "ad7XTcpaEDUP",
        "colab_type": "code",
        "colab": {
          "autoexec": {
            "startup": false,
            "wait_interval": 0
          },
          "output_extras": [
            {
              "item_id": 1
            }
          ],
          "base_uri": "https://localhost:8080/",
          "height": 34
        },
        "outputId": "b00d70eb-42ee-4f2d-e9e4-ada8ebee7e0d",
        "executionInfo": {
          "status": "ok",
          "timestamp": 1522059891878,
          "user_tz": -330,
          "elapsed": 710,
          "user": {
            "displayName": "Rony Roy",
            "photoUrl": "https://lh3.googleusercontent.com/a/default-user=s128",
            "userId": "111772801988052207421"
          }
        }
      },
      "cell_type": "code",
      "source": [
        "get_movie_emb = Model(movie_in, m) # m is the movies embeddings\n",
        "movie_emb = np.squeeze(get_movie_emb.predict([topMovies]))\n",
        "movie_emb.shape"
      ],
      "execution_count": 183,
      "outputs": [
        {
          "output_type": "execute_result",
          "data": {
            "text/plain": [
              "(2000, 50)"
            ]
          },
          "metadata": {
            "tags": []
          },
          "execution_count": 183
        }
      ]
    },
    {
      "metadata": {
        "id": "DOvfgnl-EDUS",
        "colab_type": "text"
      },
      "cell_type": "markdown",
      "source": [
        "Because it's hard to interpret 50 embeddings, we use [PCA](https://plot.ly/ipython-notebooks/principal-component-analysis/) to simplify them down to just 3 vectors. "
      ]
    },
    {
      "metadata": {
        "id": "NDLraiD-EDUT",
        "colab_type": "code",
        "colab": {
          "autoexec": {
            "startup": false,
            "wait_interval": 0
          }
        }
      },
      "cell_type": "code",
      "source": [
        "from sklearn.decomposition import PCA\n",
        "pca = PCA(n_components=3)\n",
        "movie_pca = pca.fit(movie_emb.T).components_ # force fit the movie embeddings as seen above.. to the 3 component PCA as defined above.."
      ],
      "execution_count": 0,
      "outputs": []
    },
    {
      "metadata": {
        "id": "L_8zuwOvEDUW",
        "colab_type": "code",
        "colab": {
          "autoexec": {
            "startup": false,
            "wait_interval": 0
          }
        }
      },
      "cell_type": "code",
      "source": [
        "fac0 = movie_pca[0]"
      ],
      "execution_count": 0,
      "outputs": []
    },
    {
      "metadata": {
        "id": "E_Gjzwa5EDUX",
        "colab_type": "code",
        "colab": {
          "autoexec": {
            "startup": false,
            "wait_interval": 0
          }
        }
      },
      "cell_type": "code",
      "source": [
        "movie_comp = [(f, movie_names[movies[i]]) for f,i in zip(fac0, topMovies)] # list comprehension :)"
      ],
      "execution_count": 0,
      "outputs": []
    },
    {
      "metadata": {
        "id": "V7-9kG7_EDUa",
        "colab_type": "text"
      },
      "cell_type": "markdown",
      "source": [
        "Here's the 1st component. It seems to be 'critically acclaimed' or 'classic'.\n",
        "### Seems to be..?  even jeremy was taking a guess at it..?"
      ]
    },
    {
      "metadata": {
        "id": "F2mVICzlEDUb",
        "colab_type": "code",
        "colab": {
          "autoexec": {
            "startup": false,
            "wait_interval": 0
          },
          "output_extras": [
            {
              "item_id": 1
            }
          ],
          "base_uri": "https://localhost:8080/",
          "height": 202
        },
        "outputId": "6d52fed9-4d24-4440-cac8-fa17c77a7899",
        "executionInfo": {
          "status": "ok",
          "timestamp": 1522059895288,
          "user_tz": -330,
          "elapsed": 769,
          "user": {
            "displayName": "Rony Roy",
            "photoUrl": "https://lh3.googleusercontent.com/a/default-user=s128",
            "userId": "111772801988052207421"
          }
        }
      },
      "cell_type": "code",
      "source": [
        "sorted(movie_comp, key=itemgetter(0), reverse=True)[:10]"
      ],
      "execution_count": 187,
      "outputs": [
        {
          "output_type": "execute_result",
          "data": {
            "text/plain": [
              "[(0.055225514, 'Lord of the Rings: The Fellowship of the Ring, The (2001)'),\n",
              " (0.05447774, \"Schindler's List (1993)\"),\n",
              " (0.05292423, 'Usual Suspects, The (1995)'),\n",
              " (0.050859425, 'Fargo (1996)'),\n",
              " (0.049663197, 'Lord of the Rings: The Two Towers, The (2002)'),\n",
              " (0.049453612, 'Star Wars: Episode VI - Return of the Jedi (1983)'),\n",
              " (0.04926035,\n",
              "  'Raiders of the Lost Ark (Indiana Jones and the Raiders of the Lost Ark) (1981)'),\n",
              " (0.049055528, 'American Beauty (1999)'),\n",
              " (0.04883957, 'Departed, The (2006)'),\n",
              " (0.048714414, 'Wallace & Gromit: The Wrong Trousers (1993)')]"
            ]
          },
          "metadata": {
            "tags": []
          },
          "execution_count": 187
        }
      ]
    },
    {
      "metadata": {
        "id": "ScsRS3WFEDUg",
        "colab_type": "code",
        "colab": {
          "autoexec": {
            "startup": false,
            "wait_interval": 0
          },
          "output_extras": [
            {
              "item_id": 1
            }
          ],
          "base_uri": "https://localhost:8080/",
          "height": 185
        },
        "outputId": "af53b139-8587-4e7b-9a12-83bf06ce2074",
        "executionInfo": {
          "status": "ok",
          "timestamp": 1522059896126,
          "user_tz": -330,
          "elapsed": 708,
          "user": {
            "displayName": "Rony Roy",
            "photoUrl": "https://lh3.googleusercontent.com/a/default-user=s128",
            "userId": "111772801988052207421"
          }
        }
      },
      "cell_type": "code",
      "source": [
        "sorted(movie_comp, key=itemgetter(0))[:10]"
      ],
      "execution_count": 188,
      "outputs": [
        {
          "output_type": "execute_result",
          "data": {
            "text/plain": [
              "[(-0.010768426, 'Anaconda (1997)'),\n",
              " (-0.010589281, 'Showgirls (1995)'),\n",
              " (-0.00969118, 'Blade: Trinity (2004)'),\n",
              " (-0.00876979, 'Mighty Morphin Power Rangers: The Movie (1995)'),\n",
              " (-0.008404285, '2012 (2009)'),\n",
              " (-0.008065517, 'Police Academy 5: Assignment: Miami Beach (1988)'),\n",
              " (-0.007830687, 'Police Academy 3: Back in Training (1986)'),\n",
              " (-0.007449094, 'Jaws 3-D (1983)'),\n",
              " (-0.0064976453, 'RoboCop 3 (1993)'),\n",
              " (-0.0059692888, 'Children of the Corn (1984)')]"
            ]
          },
          "metadata": {
            "tags": []
          },
          "execution_count": 188
        }
      ]
    },
    {
      "metadata": {
        "id": "3SOlNrGHEDUn",
        "colab_type": "code",
        "colab": {
          "autoexec": {
            "startup": false,
            "wait_interval": 0
          }
        }
      },
      "cell_type": "code",
      "source": [
        "fac1 = movie_pca[1]"
      ],
      "execution_count": 0,
      "outputs": []
    },
    {
      "metadata": {
        "id": "gstwx60BEDUp",
        "colab_type": "code",
        "colab": {
          "autoexec": {
            "startup": false,
            "wait_interval": 0
          }
        }
      },
      "cell_type": "code",
      "source": [
        "movie_comp = [(f, movie_names[movies[i]]) for f,i in zip(fac1, topMovies)]"
      ],
      "execution_count": 0,
      "outputs": []
    },
    {
      "metadata": {
        "id": "vm3EGxewEDUs",
        "colab_type": "text"
      },
      "cell_type": "markdown",
      "source": [
        "The 2nd is 'hollywood blockbuster'."
      ]
    },
    {
      "metadata": {
        "id": "P2ZPM44jEDUs",
        "colab_type": "code",
        "colab": {
          "autoexec": {
            "startup": false,
            "wait_interval": 0
          },
          "output_extras": [
            {
              "item_id": 1
            }
          ],
          "base_uri": "https://localhost:8080/",
          "height": 185
        },
        "outputId": "d5b0f6dc-2d7a-4088-8694-3b4bdeba7a1f",
        "executionInfo": {
          "status": "ok",
          "timestamp": 1522059898645,
          "user_tz": -330,
          "elapsed": 798,
          "user": {
            "displayName": "Rony Roy",
            "photoUrl": "https://lh3.googleusercontent.com/a/default-user=s128",
            "userId": "111772801988052207421"
          }
        }
      },
      "cell_type": "code",
      "source": [
        "sorted(movie_comp, key=itemgetter(0), reverse=True)[:10]"
      ],
      "execution_count": 191,
      "outputs": [
        {
          "output_type": "execute_result",
          "data": {
            "text/plain": [
              "[(0.110598244, 'Independence Day (a.k.a. ID4) (1996)'),\n",
              " (0.0924437, 'Armageddon (1998)'),\n",
              " (0.08018302, 'Stargate (1994)'),\n",
              " (0.07602061, 'Twister (1996)'),\n",
              " (0.075253546, 'Speed (1994)'),\n",
              " (0.07394668, 'Titanic (1997)'),\n",
              " (0.0670035, 'Patriot, The (2000)'),\n",
              " (0.06686038, 'Rock, The (1996)'),\n",
              " (0.06630275, 'Jurassic Park (1993)'),\n",
              " (0.06589488, 'Ace Ventura: Pet Detective (1994)')]"
            ]
          },
          "metadata": {
            "tags": []
          },
          "execution_count": 191
        }
      ]
    },
    {
      "metadata": {
        "id": "nEb9ysdjEDUu",
        "colab_type": "code",
        "colab": {
          "autoexec": {
            "startup": false,
            "wait_interval": 0
          },
          "output_extras": [
            {
              "item_id": 1
            }
          ],
          "base_uri": "https://localhost:8080/",
          "height": 185
        },
        "outputId": "7222f17d-3a42-4f16-bc3f-d9b643b1f1ea",
        "executionInfo": {
          "status": "ok",
          "timestamp": 1522059899477,
          "user_tz": -330,
          "elapsed": 740,
          "user": {
            "displayName": "Rony Roy",
            "photoUrl": "https://lh3.googleusercontent.com/a/default-user=s128",
            "userId": "111772801988052207421"
          }
        }
      },
      "cell_type": "code",
      "source": [
        "sorted(movie_comp, key=itemgetter(0))[:10]"
      ],
      "execution_count": 192,
      "outputs": [
        {
          "output_type": "execute_result",
          "data": {
            "text/plain": [
              "[(-0.069566056, 'Annie Hall (1977)'),\n",
              " (-0.065316565, 'Brokeback Mountain (2005)'),\n",
              " (-0.059214532, 'American Psycho (2000)'),\n",
              " (-0.057236556, 'City Lights (1931)'),\n",
              " (-0.055600617, 'Manhattan (1979)'),\n",
              " (-0.05436655, 'Apocalypse Now (1979)'),\n",
              " (-0.05355332, 'Harold and Maude (1971)'),\n",
              " (-0.05319102, 'Chinatown (1974)'),\n",
              " (-0.05245971, 'Royal Tenenbaums, The (2001)'),\n",
              " (-0.050087787, 'Wild Bunch, The (1969)')]"
            ]
          },
          "metadata": {
            "tags": []
          },
          "execution_count": 192
        }
      ]
    },
    {
      "metadata": {
        "id": "8rYcDXWcEDUw",
        "colab_type": "code",
        "colab": {
          "autoexec": {
            "startup": false,
            "wait_interval": 0
          }
        }
      },
      "cell_type": "code",
      "source": [
        "fac2 = movie_pca[2]"
      ],
      "execution_count": 0,
      "outputs": []
    },
    {
      "metadata": {
        "id": "w70b0t_MEDUz",
        "colab_type": "code",
        "colab": {
          "autoexec": {
            "startup": false,
            "wait_interval": 0
          }
        }
      },
      "cell_type": "code",
      "source": [
        "movie_comp = [(f, movie_names[movies[i]]) for f,i in zip(fac2, topMovies)]"
      ],
      "execution_count": 0,
      "outputs": []
    },
    {
      "metadata": {
        "id": "DHsrdpiXEDU1",
        "colab_type": "text"
      },
      "cell_type": "markdown",
      "source": [
        "The 3rd is 'violent vs happy'."
      ]
    },
    {
      "metadata": {
        "id": "F94HKcpmEDU2",
        "colab_type": "code",
        "colab": {
          "autoexec": {
            "startup": false,
            "wait_interval": 0
          },
          "output_extras": [
            {
              "item_id": 1
            }
          ],
          "base_uri": "https://localhost:8080/",
          "height": 202
        },
        "outputId": "163cab2b-c91a-4f74-e8a9-4faf8c5bca7e",
        "executionInfo": {
          "status": "ok",
          "timestamp": 1522059902037,
          "user_tz": -330,
          "elapsed": 781,
          "user": {
            "displayName": "Rony Roy",
            "photoUrl": "https://lh3.googleusercontent.com/a/default-user=s128",
            "userId": "111772801988052207421"
          }
        }
      },
      "cell_type": "code",
      "source": [
        "sorted(movie_comp, key=itemgetter(0), reverse=True)[:10]"
      ],
      "execution_count": 195,
      "outputs": [
        {
          "output_type": "execute_result",
          "data": {
            "text/plain": [
              "[(0.07202607, 'Legally Blonde (2001)'),\n",
              " (0.06737097, 'Blind Side, The  (2009)'),\n",
              " (0.064899966, 'Elf (2003)'),\n",
              " (0.06439469, 'Lilo & Stitch (2002)'),\n",
              " (0.061442055, 'Tangled (2010)'),\n",
              " (0.058363706,\n",
              "  'Chronicles of Narnia: The Lion, the Witch and the Wardrobe, The (2005)'),\n",
              " (0.056182392, '13 Going on 30 (2004)'),\n",
              " (0.054805648, 'Sabrina (1995)'),\n",
              " (0.053624067, 'Sliding Doors (1998)'),\n",
              " (0.053033173, 'Miss Congeniality (2000)')]"
            ]
          },
          "metadata": {
            "tags": []
          },
          "execution_count": 195
        }
      ]
    },
    {
      "metadata": {
        "id": "q3MG8qn6EDU4",
        "colab_type": "code",
        "colab": {
          "autoexec": {
            "startup": false,
            "wait_interval": 0
          },
          "output_extras": [
            {
              "item_id": 1
            }
          ],
          "base_uri": "https://localhost:8080/",
          "height": 185
        },
        "outputId": "58fcb8b0-9105-477f-ebcf-bf02e3aea1a2",
        "executionInfo": {
          "status": "ok",
          "timestamp": 1522059902884,
          "user_tz": -330,
          "elapsed": 736,
          "user": {
            "displayName": "Rony Roy",
            "photoUrl": "https://lh3.googleusercontent.com/a/default-user=s128",
            "userId": "111772801988052207421"
          }
        }
      },
      "cell_type": "code",
      "source": [
        "sorted(movie_comp, key=itemgetter(0))[:10]"
      ],
      "execution_count": 196,
      "outputs": [
        {
          "output_type": "execute_result",
          "data": {
            "text/plain": [
              "[(-0.116924986, 'Silence of the Lambs, The (1991)'),\n",
              " (-0.100207984, 'Dumb & Dumber (Dumb and Dumber) (1994)'),\n",
              " (-0.1001457, 'Fargo (1996)'),\n",
              " (-0.092998505, 'Seven (a.k.a. Se7en) (1995)'),\n",
              " (-0.08246748, 'Pulp Fiction (1994)'),\n",
              " (-0.082241155, '2001: A Space Odyssey (1968)'),\n",
              " (-0.07815593, 'Terminator 2: Judgment Day (1991)'),\n",
              " (-0.07750212, 'Ace Ventura: Pet Detective (1994)'),\n",
              " (-0.07640523, 'Fugitive, The (1993)'),\n",
              " (-0.07593891, 'American Beauty (1999)')]"
            ]
          },
          "metadata": {
            "tags": []
          },
          "execution_count": 196
        }
      ]
    },
    {
      "metadata": {
        "id": "1fM8DgiaEDU7",
        "colab_type": "text"
      },
      "cell_type": "markdown",
      "source": [
        "We can draw a picture to see how various movies appear on the map of these components. This picture shows the 1st and 3rd components."
      ]
    },
    {
      "metadata": {
        "id": "hQ3PTA15EDU8",
        "colab_type": "code",
        "colab": {
          "autoexec": {
            "startup": false,
            "wait_interval": 0
          }
        }
      },
      "cell_type": "code",
      "source": [
        "import sys\n",
        "stdout, stderr = sys.stdout, sys.stderr # save notebook stdout and stderr\n",
        "reload(sys)\n",
        "sys.setdefaultencoding('utf-8')\n",
        "sys.stdout, sys.stderr = stdout, stderr # restore notebook stdout and stderr"
      ],
      "execution_count": 0,
      "outputs": []
    },
    {
      "metadata": {
        "id": "BMyN9nIKEDU_",
        "colab_type": "code",
        "colab": {
          "autoexec": {
            "startup": false,
            "wait_interval": 0
          },
          "output_extras": [
            {
              "item_id": 1
            }
          ],
          "base_uri": "https://localhost:8080/",
          "height": 863
        },
        "outputId": "46090515-22fc-4a51-d875-d939aad96c23",
        "executionInfo": {
          "status": "ok",
          "timestamp": 1522059906135,
          "user_tz": -330,
          "elapsed": 2337,
          "user": {
            "displayName": "Rony Roy",
            "photoUrl": "https://lh3.googleusercontent.com/a/default-user=s128",
            "userId": "111772801988052207421"
          }
        }
      },
      "cell_type": "code",
      "source": [
        "start=50; end=100\n",
        "X = fac0[start:end]\n",
        "Y = fac2[start:end]\n",
        "plt.figure(figsize=(15,15))\n",
        "plt.scatter(X, Y)\n",
        "for i, x, y in zip(topMovies[start:end], X, Y):\n",
        "    plt.text(x,y,movie_names[movies[i]], color=np.random.rand(3)*0.7, fontsize=14)\n",
        "plt.show()"
      ],
      "execution_count": 198,
      "outputs": [
        {
          "output_type": "display_data",
          "data": {
            "image/png": "[encoded data removed]",
            "text/plain": [
              "<matplotlib.figure.Figure at 0x7f7a5803d190>"
            ]
          },
          "metadata": {
            "tags": []
          }
        }
      ]
    },
    {
      "metadata": {
        "id": "QnH2e3A1EDVB",
        "colab_type": "text"
      },
      "cell_type": "markdown",
      "source": [
        "##  Neural net"
      ]
    },
    {
      "metadata": {
        "id": "2RIci8u8EDVB",
        "colab_type": "text"
      },
      "cell_type": "markdown",
      "source": [
        "Rather than creating a special purpose architecture (like our dot-product with bias earlier), it's often both easier and more accurate to use a standard neural network. Let's try it! Here, we simply concatenate the user and movie embeddings into a single vector, which we feed into the neural net."
      ]
    },
    {
      "metadata": {
        "id": "3g4Df0baEDVB",
        "colab_type": "code",
        "colab": {
          "autoexec": {
            "startup": false,
            "wait_interval": 0
          }
        }
      },
      "cell_type": "code",
      "source": [
        "user_in, u = embedding_input('user_in', n_users, n_factors, 1e-4)\n",
        "movie_in, m = embedding_input('movie_in', n_movies, n_factors, 1e-4)"
      ],
      "execution_count": 0,
      "outputs": []
    },
    {
      "metadata": {
        "id": "wqZ6JpwJEDVE",
        "colab_type": "code",
        "colab": {
          "autoexec": {
            "startup": false,
            "wait_interval": 0
          }
        }
      },
      "cell_type": "code",
      "source": [
        "x = merge([u, m], mode='concat')\n",
        "x = Flatten()(x)\n",
        "x = Dropout(0.3)(x)\n",
        "x = Dense(70, activation='relu')(x)\n",
        "x = Dropout(0.75)(x)\n",
        "x = Dense(1)(x)\n",
        "nn = Model([user_in, movie_in], x)\n",
        "nn.compile(Adam(0.001), loss='mse')"
      ],
      "execution_count": 0,
      "outputs": []
    },
    {
      "metadata": {
        "id": "G1t-gDB5EDVG",
        "colab_type": "code",
        "colab": {
          "autoexec": {
            "startup": false,
            "wait_interval": 0
          },
          "output_extras": [
            {
              "item_id": 128
            },
            {
              "item_id": 290
            },
            {
              "item_id": 426
            },
            {
              "item_id": 580
            },
            {
              "item_id": 703
            },
            {
              "item_id": 788
            },
            {
              "item_id": 789
            }
          ],
          "base_uri": "https://localhost:8080/",
          "height": 319
        },
        "outputId": "43be1892-632a-4f0c-84ee-cfbb2b7905ec",
        "executionInfo": {
          "status": "ok",
          "timestamp": 1522060161496,
          "user_tz": -330,
          "elapsed": 253517,
          "user": {
            "displayName": "Rony Roy",
            "photoUrl": "https://lh3.googleusercontent.com/a/default-user=s128",
            "userId": "111772801988052207421"
          }
        }
      },
      "cell_type": "code",
      "source": [
        "nn.fit([trn.userId, trn.movieId], trn.rating, batch_size=64, nb_epoch=8, \n",
        "          validation_data=([val.userId, val.movieId], val.rating))"
      ],
      "execution_count": 201,
      "outputs": [
        {
          "output_type": "stream",
          "text": [
            "Train on 80026 samples, validate on 19978 samples\n",
            "Epoch 1/8\n",
            "80026/80026 [==============================] - 30s - loss: 2.4206 - val_loss: 0.9218\n",
            "Epoch 2/8\n",
            "21056/80026 [======>.......................] - ETA: 25s - loss: 1.4986"
          ],
          "name": "stdout"
        },
        {
          "output_type": "stream",
          "text": [
            "80026/80026 [==============================] - 34s - loss: 1.4306 - val_loss: 0.8805\n",
            "Epoch 3/8\n",
            "62080/80026 [======================>.......] - ETA: 7s - loss: 1.2311"
          ],
          "name": "stdout"
        },
        {
          "output_type": "stream",
          "text": [
            "80026/80026 [==============================] - 31s - loss: 1.2100 - val_loss: 0.8552\n",
            "Epoch 4/8\n",
            "80026/80026 [==============================] - 31s - loss: 1.0361 - val_loss: 0.8534\n",
            "Epoch 5/8\n",
            " 8384/80026 [==>...........................] - ETA: 27s - loss: 0.9041"
          ],
          "name": "stdout"
        },
        {
          "output_type": "stream",
          "text": [
            "80026/80026 [==============================] - 30s - loss: 0.9146 - val_loss: 0.8349\n",
            "Epoch 6/8\n",
            "73472/80026 [==========================>...] - ETA: 2s - loss: 0.8521"
          ],
          "name": "stdout"
        },
        {
          "output_type": "stream",
          "text": [
            "80026/80026 [==============================] - 30s - loss: 0.8522 - val_loss: 0.8375\n",
            "Epoch 7/8\n",
            "80026/80026 [==============================] - 30s - loss: 0.8236 - val_loss: 0.8315\n",
            "Epoch 8/8\n",
            "12416/80026 [===>..........................] - ETA: 25s - loss: 0.7814"
          ],
          "name": "stdout"
        },
        {
          "output_type": "stream",
          "text": [
            "80026/80026 [==============================] - 31s - loss: 0.8088 - val_loss: 0.8276\n"
          ],
          "name": "stdout"
        },
        {
          "output_type": "execute_result",
          "data": {
            "text/plain": [
              "<keras.callbacks.History at 0x7f7a4d396550>"
            ]
          },
          "metadata": {
            "tags": []
          },
          "execution_count": 201
        }
      ]
    },
    {
      "metadata": {
        "id": "Tmn3Zn6REDVJ",
        "colab_type": "text"
      },
      "cell_type": "markdown",
      "source": [
        "This improves on our already impressive accuracy even further!..\n",
        "\n",
        "Makes one wonder again.. whats the point of the earlier models if we could have gotten straight to the NN model..\n",
        "\n",
        "possible disadvantages..\n",
        "- blackbox\n",
        "- no view of the tripping points .. like in case of randomforests.. etc.."
      ]
    }
  ]
}